{
 "cells": [
  {
   "cell_type": "code",
   "execution_count": 3,
   "metadata": {},
   "outputs": [
    {
     "data": {
      "text/plain": [
       "'C:\\\\Users\\\\sthal\\\\Python Scripts'"
      ]
     },
     "execution_count": 3,
     "metadata": {},
     "output_type": "execute_result"
    }
   ],
   "source": [
    "## Code Header #######\n",
    "## Notebook Name: Kickstarter Analysis\n",
    "## Objective: To learn which design decisions help kickstarter campaigns succeed and to predict the successes of any kickstarter campaigns.\n",
    "## Start Date: 11th April 2020\n",
    "## Data Sources\n",
    "    # Source 1: Webscraped kickstarter data - Scraped by Web Robots - https://webrobots.io/kickstarter-datasets/\n",
    "## Edits to be made\n",
    "## Questions about the context\n",
    "    # Does every backer pledge a fixed amount? Or can backers decide the pledge amount?\n",
    "## Structure of the analysis\n",
    "    # Data Input: Read all the columns in the right format\n",
    "    # Run analysis for a single file first, but replicate for all files together.( Is there a way to batch execute)\n",
    "    # Feature Engineering\n",
    "        # Blurb : Brief text explaining the project\n",
    "        # Calculate campaign length\n",
    "        # Average pledge by backer\n",
    "        # Extract the categories from the dictionary.\n",
    "    # EDA\n",
    "        # Glean insights which might help design decisions\n",
    "    # SciKit Learn\n",
    "        # Logistic Regression; Glean insights which might help design decisions\n",
    "        # Trees\n",
    "        # Neural Network\n",
    "    \n",
    "import pandas as pd\n",
    "import matplotlib.pyplot as plt\n",
    "import matplotlib.ticker as ticker\n",
    "%matplotlib inline\n",
    "import seaborn as sns\n",
    "import numpy as np\n",
    "import os\n",
    "import json\n",
    "import ast\n",
    "from datetime import datetime\n",
    "from sklearn.model_selection import train_test_split\n",
    "import textstat\n",
    "import math\n",
    "from sklearn.feature_selection import RFE\n",
    "from sklearn.linear_model import LogisticRegression\n",
    "from sklearn.svm import SVC, LinearSVC\n",
    "from sklearn import metrics as sk_metrics\n",
    "import glob\n",
    "os.getcwd()"
   ]
  },
  {
   "cell_type": "code",
   "execution_count": 1,
   "metadata": {
    "ExecuteTime": {
     "end_time": "2020-04-26T00:35:30.213902Z",
     "start_time": "2020-04-26T00:34:42.563652Z"
    }
   },
   "outputs": [],
   "source": [
    "import pandas as pd, numpy as np, scipy as sp, sklearn ,nltk, matplotlib.pyplot as plt, seaborn as sb,plotly as ply, statsmodels as stat, tabulate,pickle"
   ]
  },
  {
   "cell_type": "code",
   "execution_count": 2,
   "metadata": {
    "ExecuteTime": {
     "end_time": "2020-04-26T00:39:47.739974Z",
     "start_time": "2020-04-26T00:39:47.735977Z"
    }
   },
   "outputs": [],
   "source": [
    "# Set wd\n",
    "\n",
    "import os\n",
    "os.chdir(\"C:\\\\Users\\\\Hi\\\\Documents\\\\UC BANA Master\\\\1. Coursework\\\\5. Spring - Data Mining 2\\\\3.Homework and Assignments\\\\Final Project\\\\Kickstarter Success Analysis\\\\Data\\\\WIP\")"
   ]
  },
  {
   "cell_type": "markdown",
   "metadata": {},
   "source": [
    "# Import and append 'input' data"
   ]
  },
  {
   "cell_type": "code",
   "execution_count": 3,
   "metadata": {
    "ExecuteTime": {
     "end_time": "2020-04-26T00:40:22.103785Z",
     "start_time": "2020-04-26T00:39:50.803843Z"
    }
   },
   "outputs": [],
   "source": [
    "# Import and append all datafiles\n",
    "\n",
    "import glob\n",
    "path = r'C:\\Users\\Hi\\Documents\\UC BANA Master\\1. Coursework\\5. Spring - Data Mining 2\\3.Homework and Assignments\\Final Project\\Kickstarter Success Analysis\\Data\\Kickstarter_2020-01-16T03_20_15_556Z'\n",
    "\n",
    "all_files = glob.glob(path + \"/*.csv\")\n",
    "li = []\n",
    "for filename in all_files:\n",
    "    df = pd.read_csv(filename, index_col=None, header=0)\n",
    "    li.append(df)\n",
    "input = pd.concat(li, axis=0, ignore_index=True)"
   ]
  },
  {
   "cell_type": "code",
   "execution_count": 64,
   "metadata": {
    "ExecuteTime": {
     "end_time": "2020-04-25T22:51:12.357642Z",
     "start_time": "2020-04-25T22:51:12.350647Z"
    }
   },
   "outputs": [
    {
     "data": {
      "text/plain": [
       "(211271, 38)"
      ]
     },
     "execution_count": 64,
     "metadata": {},
     "output_type": "execute_result"
    }
   ],
   "source": [
    "input.shape"
   ]
  },
  {
   "cell_type": "code",
   "execution_count": 7,
   "metadata": {
    "ExecuteTime": {
     "end_time": "2020-04-24T18:20:28.269842Z",
     "start_time": "2020-04-24T18:20:28.156957Z"
    },
    "scrolled": true
   },
   "outputs": [
    {
     "data": {
      "text/html": [
       "<div>\n",
       "<style scoped>\n",
       "    .dataframe tbody tr th:only-of-type {\n",
       "        vertical-align: middle;\n",
       "    }\n",
       "\n",
       "    .dataframe tbody tr th {\n",
       "        vertical-align: top;\n",
       "    }\n",
       "\n",
       "    .dataframe thead th {\n",
       "        text-align: right;\n",
       "    }\n",
       "</style>\n",
       "<table border=\"1\" class=\"dataframe\">\n",
       "  <thead>\n",
       "    <tr style=\"text-align: right;\">\n",
       "      <th></th>\n",
       "      <th>backers_count</th>\n",
       "      <th>blurb</th>\n",
       "      <th>category</th>\n",
       "      <th>converted_pledged_amount</th>\n",
       "      <th>country</th>\n",
       "      <th>country_displayable_name</th>\n",
       "      <th>created_at</th>\n",
       "      <th>creator</th>\n",
       "      <th>currency</th>\n",
       "      <th>currency_symbol</th>\n",
       "      <th>...</th>\n",
       "      <th>slug</th>\n",
       "      <th>source_url</th>\n",
       "      <th>spotlight</th>\n",
       "      <th>staff_pick</th>\n",
       "      <th>state</th>\n",
       "      <th>state_changed_at</th>\n",
       "      <th>static_usd_rate</th>\n",
       "      <th>urls</th>\n",
       "      <th>usd_pledged</th>\n",
       "      <th>usd_type</th>\n",
       "    </tr>\n",
       "  </thead>\n",
       "  <tbody>\n",
       "    <tr>\n",
       "      <th>0</th>\n",
       "      <td>6</td>\n",
       "      <td>Das Good Inc goal is to make cooking easy and ...</td>\n",
       "      <td>{\"id\":312,\"name\":\"Restaurants\",\"slug\":\"food/re...</td>\n",
       "      <td>266.0</td>\n",
       "      <td>US</td>\n",
       "      <td>the United States</td>\n",
       "      <td>1534710982</td>\n",
       "      <td>{\"id\":407371466,\"name\":\"Anh Vongbandith\",\"slug...</td>\n",
       "      <td>USD</td>\n",
       "      <td>$</td>\n",
       "      <td>...</td>\n",
       "      <td>help-get-das-good-seasonings-and-sauces-to-sup...</td>\n",
       "      <td>https://www.kickstarter.com/discover/categorie...</td>\n",
       "      <td>False</td>\n",
       "      <td>False</td>\n",
       "      <td>failed</td>\n",
       "      <td>1549236382</td>\n",
       "      <td>1.000000</td>\n",
       "      <td>{\"web\":{\"project\":\"https://www.kickstarter.com...</td>\n",
       "      <td>266.0</td>\n",
       "      <td>international</td>\n",
       "    </tr>\n",
       "    <tr>\n",
       "      <th>1</th>\n",
       "      <td>2</td>\n",
       "      <td>A web series about the soul crushing exercise ...</td>\n",
       "      <td>{\"id\":33,\"name\":\"Webseries\",\"slug\":\"film &amp; vid...</td>\n",
       "      <td>260.0</td>\n",
       "      <td>US</td>\n",
       "      <td>the United States</td>\n",
       "      <td>1480480200</td>\n",
       "      <td>{\"id\":1660574317,\"name\":\"Blakely Thornton\",\"is...</td>\n",
       "      <td>USD</td>\n",
       "      <td>$</td>\n",
       "      <td>...</td>\n",
       "      <td>the-applicant-interviews-are-hell</td>\n",
       "      <td>https://www.kickstarter.com/discover/categorie...</td>\n",
       "      <td>False</td>\n",
       "      <td>False</td>\n",
       "      <td>failed</td>\n",
       "      <td>1485351921</td>\n",
       "      <td>1.000000</td>\n",
       "      <td>{\"web\":{\"project\":\"https://www.kickstarter.com...</td>\n",
       "      <td>260.0</td>\n",
       "      <td>domestic</td>\n",
       "    </tr>\n",
       "    <tr>\n",
       "      <th>2</th>\n",
       "      <td>3</td>\n",
       "      <td>A photographic essay on the historic, incompar...</td>\n",
       "      <td>{\"id\":280,\"name\":\"Photobooks\",\"slug\":\"photogra...</td>\n",
       "      <td>185.0</td>\n",
       "      <td>US</td>\n",
       "      <td>the United States</td>\n",
       "      <td>1478033617</td>\n",
       "      <td>{\"id\":125092605,\"name\":\"David Baez\",\"is_regist...</td>\n",
       "      <td>USD</td>\n",
       "      <td>$</td>\n",
       "      <td>...</td>\n",
       "      <td>pictures-of-veracruz</td>\n",
       "      <td>https://www.kickstarter.com/discover/categorie...</td>\n",
       "      <td>False</td>\n",
       "      <td>False</td>\n",
       "      <td>failed</td>\n",
       "      <td>1479302424</td>\n",
       "      <td>1.000000</td>\n",
       "      <td>{\"web\":{\"project\":\"https://www.kickstarter.com...</td>\n",
       "      <td>185.0</td>\n",
       "      <td>international</td>\n",
       "    </tr>\n",
       "    <tr>\n",
       "      <th>3</th>\n",
       "      <td>2</td>\n",
       "      <td>A romantic comedy mini series following a self...</td>\n",
       "      <td>{\"id\":33,\"name\":\"Webseries\",\"slug\":\"film &amp; vid...</td>\n",
       "      <td>35.0</td>\n",
       "      <td>US</td>\n",
       "      <td>the United States</td>\n",
       "      <td>1516675034</td>\n",
       "      <td>{\"id\":280516405,\"name\":\"Jordan Lakomiak\",\"slug...</td>\n",
       "      <td>USD</td>\n",
       "      <td>$</td>\n",
       "      <td>...</td>\n",
       "      <td>5-reasons-to-hate-christmas</td>\n",
       "      <td>https://www.kickstarter.com/discover/categorie...</td>\n",
       "      <td>False</td>\n",
       "      <td>False</td>\n",
       "      <td>failed</td>\n",
       "      <td>1525977197</td>\n",
       "      <td>1.000000</td>\n",
       "      <td>{\"web\":{\"project\":\"https://www.kickstarter.com...</td>\n",
       "      <td>35.0</td>\n",
       "      <td>domestic</td>\n",
       "    </tr>\n",
       "    <tr>\n",
       "      <th>4</th>\n",
       "      <td>8</td>\n",
       "      <td>The Drums of Atlant is an original science fic...</td>\n",
       "      <td>{\"id\":301,\"name\":\"Science Fiction\",\"slug\":\"fil...</td>\n",
       "      <td>261.0</td>\n",
       "      <td>US</td>\n",
       "      <td>the United States</td>\n",
       "      <td>1554695036</td>\n",
       "      <td>{\"id\":1081096082,\"name\":\"AsteronX\",\"is_registe...</td>\n",
       "      <td>USD</td>\n",
       "      <td>$</td>\n",
       "      <td>...</td>\n",
       "      <td>the-drums-of-atlant</td>\n",
       "      <td>https://www.kickstarter.com/discover/categorie...</td>\n",
       "      <td>False</td>\n",
       "      <td>False</td>\n",
       "      <td>failed</td>\n",
       "      <td>1558056215</td>\n",
       "      <td>1.000000</td>\n",
       "      <td>{\"web\":{\"project\":\"https://www.kickstarter.com...</td>\n",
       "      <td>261.0</td>\n",
       "      <td>domestic</td>\n",
       "    </tr>\n",
       "    <tr>\n",
       "      <th>5</th>\n",
       "      <td>2</td>\n",
       "      <td>\"...a real photographer will make you look twi...</td>\n",
       "      <td>{\"id\":280,\"name\":\"Photobooks\",\"slug\":\"photogra...</td>\n",
       "      <td>26.0</td>\n",
       "      <td>US</td>\n",
       "      <td>the United States</td>\n",
       "      <td>1436371102</td>\n",
       "      <td>{\"id\":1705644190,\"name\":\"Kayla Young\",\"is_regi...</td>\n",
       "      <td>USD</td>\n",
       "      <td>$</td>\n",
       "      <td>...</td>\n",
       "      <td>ordinary-beauty</td>\n",
       "      <td>https://www.kickstarter.com/discover/categorie...</td>\n",
       "      <td>False</td>\n",
       "      <td>False</td>\n",
       "      <td>failed</td>\n",
       "      <td>1437681874</td>\n",
       "      <td>1.000000</td>\n",
       "      <td>{\"web\":{\"project\":\"https://www.kickstarter.com...</td>\n",
       "      <td>26.0</td>\n",
       "      <td>international</td>\n",
       "    </tr>\n",
       "    <tr>\n",
       "      <th>7</th>\n",
       "      <td>0</td>\n",
       "      <td>Es nuestra ilusión, tener nuestro propio resta...</td>\n",
       "      <td>{\"id\":312,\"name\":\"Restaurants\",\"slug\":\"food/re...</td>\n",
       "      <td>0.0</td>\n",
       "      <td>ES</td>\n",
       "      <td>Spain</td>\n",
       "      <td>1463041220</td>\n",
       "      <td>{\"id\":332712378,\"name\":\"Cristina\",\"is_register...</td>\n",
       "      <td>EUR</td>\n",
       "      <td>€</td>\n",
       "      <td>...</td>\n",
       "      <td>restaurante-les-llums</td>\n",
       "      <td>https://www.kickstarter.com/discover/categorie...</td>\n",
       "      <td>False</td>\n",
       "      <td>False</td>\n",
       "      <td>failed</td>\n",
       "      <td>1466318457</td>\n",
       "      <td>1.124549</td>\n",
       "      <td>{\"web\":{\"project\":\"https://www.kickstarter.com...</td>\n",
       "      <td>0.0</td>\n",
       "      <td>international</td>\n",
       "    </tr>\n",
       "    <tr>\n",
       "      <th>8</th>\n",
       "      <td>16</td>\n",
       "      <td>A relaxing teaching tool, this coloring book f...</td>\n",
       "      <td>{\"id\":45,\"name\":\"Art Books\",\"slug\":\"publishing...</td>\n",
       "      <td>555.0</td>\n",
       "      <td>US</td>\n",
       "      <td>the United States</td>\n",
       "      <td>1472564479</td>\n",
       "      <td>{\"id\":310369046,\"name\":\"Mary Frances Millet\",\"...</td>\n",
       "      <td>USD</td>\n",
       "      <td>$</td>\n",
       "      <td>...</td>\n",
       "      <td>the-history-of-schenectady-coloring-book</td>\n",
       "      <td>https://www.kickstarter.com/discover/categorie...</td>\n",
       "      <td>False</td>\n",
       "      <td>False</td>\n",
       "      <td>failed</td>\n",
       "      <td>1475857504</td>\n",
       "      <td>1.000000</td>\n",
       "      <td>{\"web\":{\"project\":\"https://www.kickstarter.com...</td>\n",
       "      <td>555.0</td>\n",
       "      <td>domestic</td>\n",
       "    </tr>\n",
       "    <tr>\n",
       "      <th>9</th>\n",
       "      <td>5</td>\n",
       "      <td>Floating above the planet Ithor on Tafanda Bay...</td>\n",
       "      <td>{\"id\":301,\"name\":\"Science Fiction\",\"slug\":\"fil...</td>\n",
       "      <td>76.0</td>\n",
       "      <td>US</td>\n",
       "      <td>the United States</td>\n",
       "      <td>1459300963</td>\n",
       "      <td>{\"id\":1482228519,\"name\":\"Adam Wintz\",\"is_regis...</td>\n",
       "      <td>USD</td>\n",
       "      <td>$</td>\n",
       "      <td>...</td>\n",
       "      <td>adam-and-scotts-star-wars-fan-film-project</td>\n",
       "      <td>https://www.kickstarter.com/discover/categorie...</td>\n",
       "      <td>False</td>\n",
       "      <td>False</td>\n",
       "      <td>failed</td>\n",
       "      <td>1464754571</td>\n",
       "      <td>1.000000</td>\n",
       "      <td>{\"web\":{\"project\":\"https://www.kickstarter.com...</td>\n",
       "      <td>76.0</td>\n",
       "      <td>domestic</td>\n",
       "    </tr>\n",
       "    <tr>\n",
       "      <th>10</th>\n",
       "      <td>66</td>\n",
       "      <td>Social, environmental and cultural project tha...</td>\n",
       "      <td>{\"id\":53,\"name\":\"Public Art\",\"slug\":\"art/publi...</td>\n",
       "      <td>10014.0</td>\n",
       "      <td>US</td>\n",
       "      <td>the United States</td>\n",
       "      <td>1439483922</td>\n",
       "      <td>{\"id\":535070766,\"name\":\"Ecoworks SAS\",\"is_regi...</td>\n",
       "      <td>USD</td>\n",
       "      <td>$</td>\n",
       "      <td>...</td>\n",
       "      <td>pimp-my-carroza-bogota</td>\n",
       "      <td>https://www.kickstarter.com/discover/categorie...</td>\n",
       "      <td>True</td>\n",
       "      <td>False</td>\n",
       "      <td>successful</td>\n",
       "      <td>1446245642</td>\n",
       "      <td>1.000000</td>\n",
       "      <td>{\"web\":{\"project\":\"https://www.kickstarter.com...</td>\n",
       "      <td>10014.0</td>\n",
       "      <td>domestic</td>\n",
       "    </tr>\n",
       "  </tbody>\n",
       "</table>\n",
       "<p>10 rows × 38 columns</p>\n",
       "</div>"
      ],
      "text/plain": [
       "    backers_count                                              blurb  \\\n",
       "0               6  Das Good Inc goal is to make cooking easy and ...   \n",
       "1               2  A web series about the soul crushing exercise ...   \n",
       "2               3  A photographic essay on the historic, incompar...   \n",
       "3               2  A romantic comedy mini series following a self...   \n",
       "4               8  The Drums of Atlant is an original science fic...   \n",
       "5               2  \"...a real photographer will make you look twi...   \n",
       "7               0  Es nuestra ilusión, tener nuestro propio resta...   \n",
       "8              16  A relaxing teaching tool, this coloring book f...   \n",
       "9               5  Floating above the planet Ithor on Tafanda Bay...   \n",
       "10             66  Social, environmental and cultural project tha...   \n",
       "\n",
       "                                             category  \\\n",
       "0   {\"id\":312,\"name\":\"Restaurants\",\"slug\":\"food/re...   \n",
       "1   {\"id\":33,\"name\":\"Webseries\",\"slug\":\"film & vid...   \n",
       "2   {\"id\":280,\"name\":\"Photobooks\",\"slug\":\"photogra...   \n",
       "3   {\"id\":33,\"name\":\"Webseries\",\"slug\":\"film & vid...   \n",
       "4   {\"id\":301,\"name\":\"Science Fiction\",\"slug\":\"fil...   \n",
       "5   {\"id\":280,\"name\":\"Photobooks\",\"slug\":\"photogra...   \n",
       "7   {\"id\":312,\"name\":\"Restaurants\",\"slug\":\"food/re...   \n",
       "8   {\"id\":45,\"name\":\"Art Books\",\"slug\":\"publishing...   \n",
       "9   {\"id\":301,\"name\":\"Science Fiction\",\"slug\":\"fil...   \n",
       "10  {\"id\":53,\"name\":\"Public Art\",\"slug\":\"art/publi...   \n",
       "\n",
       "    converted_pledged_amount country country_displayable_name  created_at  \\\n",
       "0                      266.0      US        the United States  1534710982   \n",
       "1                      260.0      US        the United States  1480480200   \n",
       "2                      185.0      US        the United States  1478033617   \n",
       "3                       35.0      US        the United States  1516675034   \n",
       "4                      261.0      US        the United States  1554695036   \n",
       "5                       26.0      US        the United States  1436371102   \n",
       "7                        0.0      ES                    Spain  1463041220   \n",
       "8                      555.0      US        the United States  1472564479   \n",
       "9                       76.0      US        the United States  1459300963   \n",
       "10                   10014.0      US        the United States  1439483922   \n",
       "\n",
       "                                              creator currency  \\\n",
       "0   {\"id\":407371466,\"name\":\"Anh Vongbandith\",\"slug...      USD   \n",
       "1   {\"id\":1660574317,\"name\":\"Blakely Thornton\",\"is...      USD   \n",
       "2   {\"id\":125092605,\"name\":\"David Baez\",\"is_regist...      USD   \n",
       "3   {\"id\":280516405,\"name\":\"Jordan Lakomiak\",\"slug...      USD   \n",
       "4   {\"id\":1081096082,\"name\":\"AsteronX\",\"is_registe...      USD   \n",
       "5   {\"id\":1705644190,\"name\":\"Kayla Young\",\"is_regi...      USD   \n",
       "7   {\"id\":332712378,\"name\":\"Cristina\",\"is_register...      EUR   \n",
       "8   {\"id\":310369046,\"name\":\"Mary Frances Millet\",\"...      USD   \n",
       "9   {\"id\":1482228519,\"name\":\"Adam Wintz\",\"is_regis...      USD   \n",
       "10  {\"id\":535070766,\"name\":\"Ecoworks SAS\",\"is_regi...      USD   \n",
       "\n",
       "   currency_symbol  ...                                               slug  \\\n",
       "0                $  ...  help-get-das-good-seasonings-and-sauces-to-sup...   \n",
       "1                $  ...                  the-applicant-interviews-are-hell   \n",
       "2                $  ...                               pictures-of-veracruz   \n",
       "3                $  ...                        5-reasons-to-hate-christmas   \n",
       "4                $  ...                                the-drums-of-atlant   \n",
       "5                $  ...                                    ordinary-beauty   \n",
       "7                €  ...                              restaurante-les-llums   \n",
       "8                $  ...           the-history-of-schenectady-coloring-book   \n",
       "9                $  ...         adam-and-scotts-star-wars-fan-film-project   \n",
       "10               $  ...                             pimp-my-carroza-bogota   \n",
       "\n",
       "                                           source_url  spotlight  staff_pick  \\\n",
       "0   https://www.kickstarter.com/discover/categorie...      False       False   \n",
       "1   https://www.kickstarter.com/discover/categorie...      False       False   \n",
       "2   https://www.kickstarter.com/discover/categorie...      False       False   \n",
       "3   https://www.kickstarter.com/discover/categorie...      False       False   \n",
       "4   https://www.kickstarter.com/discover/categorie...      False       False   \n",
       "5   https://www.kickstarter.com/discover/categorie...      False       False   \n",
       "7   https://www.kickstarter.com/discover/categorie...      False       False   \n",
       "8   https://www.kickstarter.com/discover/categorie...      False       False   \n",
       "9   https://www.kickstarter.com/discover/categorie...      False       False   \n",
       "10  https://www.kickstarter.com/discover/categorie...       True       False   \n",
       "\n",
       "         state  state_changed_at  static_usd_rate  \\\n",
       "0       failed        1549236382         1.000000   \n",
       "1       failed        1485351921         1.000000   \n",
       "2       failed        1479302424         1.000000   \n",
       "3       failed        1525977197         1.000000   \n",
       "4       failed        1558056215         1.000000   \n",
       "5       failed        1437681874         1.000000   \n",
       "7       failed        1466318457         1.124549   \n",
       "8       failed        1475857504         1.000000   \n",
       "9       failed        1464754571         1.000000   \n",
       "10  successful        1446245642         1.000000   \n",
       "\n",
       "                                                 urls usd_pledged  \\\n",
       "0   {\"web\":{\"project\":\"https://www.kickstarter.com...       266.0   \n",
       "1   {\"web\":{\"project\":\"https://www.kickstarter.com...       260.0   \n",
       "2   {\"web\":{\"project\":\"https://www.kickstarter.com...       185.0   \n",
       "3   {\"web\":{\"project\":\"https://www.kickstarter.com...        35.0   \n",
       "4   {\"web\":{\"project\":\"https://www.kickstarter.com...       261.0   \n",
       "5   {\"web\":{\"project\":\"https://www.kickstarter.com...        26.0   \n",
       "7   {\"web\":{\"project\":\"https://www.kickstarter.com...         0.0   \n",
       "8   {\"web\":{\"project\":\"https://www.kickstarter.com...       555.0   \n",
       "9   {\"web\":{\"project\":\"https://www.kickstarter.com...        76.0   \n",
       "10  {\"web\":{\"project\":\"https://www.kickstarter.com...     10014.0   \n",
       "\n",
       "         usd_type  \n",
       "0   international  \n",
       "1        domestic  \n",
       "2   international  \n",
       "3        domestic  \n",
       "4        domestic  \n",
       "5   international  \n",
       "7   international  \n",
       "8        domestic  \n",
       "9        domestic  \n",
       "10       domestic  \n",
       "\n",
       "[10 rows x 38 columns]"
      ]
     },
     "execution_count": 7,
     "metadata": {},
     "output_type": "execute_result"
    }
   ],
   "source": [
    "input.head(10)"
   ]
  },
  {
   "cell_type": "code",
   "execution_count": 6,
   "metadata": {
    "ExecuteTime": {
     "end_time": "2020-04-26T00:41:37.302085Z",
     "start_time": "2020-04-26T00:41:37.177139Z"
    }
   },
   "outputs": [],
   "source": [
    "input['response'] = input.state.apply(lambda x: 1 if x =='successful' else 0)"
   ]
  },
  {
   "cell_type": "markdown",
   "metadata": {},
   "source": [
    "# Create additional features"
   ]
  },
  {
   "cell_type": "markdown",
   "metadata": {},
   "source": [
    "## Features on subcategory"
   ]
  },
  {
   "cell_type": "code",
   "execution_count": 66,
   "metadata": {
    "ExecuteTime": {
     "end_time": "2020-04-25T22:51:35.474396Z",
     "start_time": "2020-04-25T22:51:35.031648Z"
    }
   },
   "outputs": [
    {
     "data": {
      "text/plain": [
       "(211263, 39)"
      ]
     },
     "execution_count": 66,
     "metadata": {},
     "output_type": "execute_result"
    }
   ],
   "source": [
    "input_f = input.copy()\n",
    "\n",
    "input_f.dropna(subset = [\"blurb\"],axis=0,inplace=True)\n",
    "input_f.shape"
   ]
  },
  {
   "cell_type": "code",
   "execution_count": 27,
   "metadata": {
    "ExecuteTime": {
     "end_time": "2020-04-25T21:41:09.020748Z",
     "start_time": "2020-04-25T21:41:09.008755Z"
    }
   },
   "outputs": [
    {
     "data": {
      "text/plain": [
       "Index(['backers_count', 'blurb', 'category', 'converted_pledged_amount',\n",
       "       'country', 'country_displayable_name', 'created_at', 'creator',\n",
       "       'currency', 'currency_symbol', 'currency_trailing_code',\n",
       "       'current_currency', 'deadline', 'disable_communication', 'friends',\n",
       "       'fx_rate', 'goal', 'id', 'is_backing', 'is_starrable', 'is_starred',\n",
       "       'launched_at', 'location', 'name', 'permissions', 'photo', 'pledged',\n",
       "       'profile', 'slug', 'source_url', 'spotlight', 'staff_pick', 'state',\n",
       "       'state_changed_at', 'static_usd_rate', 'urls', 'usd_pledged',\n",
       "       'usd_type', 'response'],\n",
       "      dtype='object')"
      ]
     },
     "execution_count": 27,
     "metadata": {},
     "output_type": "execute_result"
    }
   ],
   "source": [
    "input_f.columns"
   ]
  },
  {
   "cell_type": "code",
   "execution_count": 67,
   "metadata": {
    "ExecuteTime": {
     "end_time": "2020-04-25T22:52:03.656178Z",
     "start_time": "2020-04-25T22:51:47.793338Z"
    }
   },
   "outputs": [],
   "source": [
    "import ast\n",
    "\n",
    "# Converting each value in the 'category' column to a dictionary\n",
    "input_f['cat_dict'] = input_f.category.apply(ast.literal_eval)\n",
    "\n",
    "# Creating new columns to store the category information\n",
    "len(input_f)\n",
    "input_f['category'] = ''\n",
    "input_f['sub_category'] = ''\n",
    "\n",
    "# Defining a function to read the dictionary and extract the required values\n",
    "def categorize(dictionary):\n",
    "    if 'parent_name' in dictionary:\n",
    "        return (dictionary['parent_name'], dictionary['name'])\n",
    "    else:\n",
    "        return (dictionary['name'], None)\n",
    "\n",
    "\n",
    "# Applying this function to the category dictionary field in the input_f dataset\n",
    "category_tuples = input_f.cat_dict.apply(categorize)\n",
    "\n",
    "# The result was a series of tuples, we must now split up these tuples and assign them appropriately to the required columns\n",
    "input_f.category = pd.DataFrame(category_tuples.tolist())[0]\n",
    "input_f.sub_category = pd.DataFrame(category_tuples.tolist())[1]\n"
   ]
  },
  {
   "cell_type": "code",
   "execution_count": 68,
   "metadata": {
    "ExecuteTime": {
     "end_time": "2020-04-25T22:59:35.182239Z",
     "start_time": "2020-04-25T22:59:33.925960Z"
    }
   },
   "outputs": [],
   "source": [
    "# Removing duplicates at profile level with keeping the last source_url value\n",
    "input_f = input_f.drop_duplicates(subset = 'profile', keep = 'last')\n",
    "input_f.reset_index();"
   ]
  },
  {
   "cell_type": "code",
   "execution_count": 69,
   "metadata": {
    "ExecuteTime": {
     "end_time": "2020-04-25T22:59:58.056508Z",
     "start_time": "2020-04-25T22:59:58.041517Z"
    }
   },
   "outputs": [
    {
     "data": {
      "text/plain": [
       "(185996, 41)"
      ]
     },
     "execution_count": 69,
     "metadata": {},
     "output_type": "execute_result"
    }
   ],
   "source": [
    "input_f.shape"
   ]
  },
  {
   "cell_type": "code",
   "execution_count": 70,
   "metadata": {
    "ExecuteTime": {
     "end_time": "2020-04-25T23:00:27.643163Z",
     "start_time": "2020-04-25T23:00:27.416294Z"
    }
   },
   "outputs": [],
   "source": [
    "# Subcategory volume index\n",
    "\n",
    "subcateg_projects = input_f.groupby(['category','sub_category'])[['profile']].count().rename(columns={'profile':'no_projects_subcat'}).reset_index()\n",
    "categ_projects = subcateg_projects.groupby(['category'])[['no_projects_subcat']].mean().rename(columns={'no_projects_subcat':'avg_projects_categ'}).reset_index()\n",
    "\n",
    "subcateg_projects = pd.merge(subcateg_projects,categ_projects,how='left',on='category')\n",
    "\n",
    "subcateg_projects['subcat_volume_index'] = subcateg_projects['no_projects_subcat']/subcateg_projects['avg_projects_categ']\n",
    "\n",
    "subcateg_projects = subcateg_projects[['sub_category','subcat_volume_index']].drop_duplicates(subset='sub_category',keep='first')"
   ]
  },
  {
   "cell_type": "code",
   "execution_count": 71,
   "metadata": {
    "ExecuteTime": {
     "end_time": "2020-04-25T23:00:40.258522Z",
     "start_time": "2020-04-25T23:00:40.163570Z"
    }
   },
   "outputs": [],
   "source": [
    "# Subcategory success rate\n",
    "\n",
    "subcateg_projectsuccess = input_f.groupby(['sub_category'], as_index=False).agg({'profile':'count','response':'sum'})\n",
    "subcateg_projectsuccess.columns = subcateg_projectsuccess.columns.get_level_values(0)\n",
    "subcateg_projectsuccess['subcateg_successrate'] = subcateg_projectsuccess['response']/subcateg_projectsuccess['profile']"
   ]
  },
  {
   "cell_type": "code",
   "execution_count": 72,
   "metadata": {
    "ExecuteTime": {
     "end_time": "2020-04-25T23:00:43.930850Z",
     "start_time": "2020-04-25T23:00:43.919858Z"
    }
   },
   "outputs": [],
   "source": [
    "subcateg_vars= pd.merge(subcateg_projects,subcateg_projectsuccess[['sub_category','subcateg_successrate']],how='left',on='sub_category')"
   ]
  },
  {
   "cell_type": "code",
   "execution_count": 53,
   "metadata": {
    "ExecuteTime": {
     "end_time": "2020-04-25T22:28:40.739105Z",
     "start_time": "2020-04-25T22:28:40.722113Z"
    },
    "scrolled": true
   },
   "outputs": [
    {
     "data": {
      "text/html": [
       "<div>\n",
       "<style scoped>\n",
       "    .dataframe tbody tr th:only-of-type {\n",
       "        vertical-align: middle;\n",
       "    }\n",
       "\n",
       "    .dataframe tbody tr th {\n",
       "        vertical-align: top;\n",
       "    }\n",
       "\n",
       "    .dataframe thead th {\n",
       "        text-align: right;\n",
       "    }\n",
       "</style>\n",
       "<table border=\"1\" class=\"dataframe\">\n",
       "  <thead>\n",
       "    <tr style=\"text-align: right;\">\n",
       "      <th></th>\n",
       "      <th>sub_category</th>\n",
       "      <th>subcat_volume_index</th>\n",
       "      <th>subcateg_successrate</th>\n",
       "    </tr>\n",
       "  </thead>\n",
       "  <tbody>\n",
       "    <tr>\n",
       "      <th>0</th>\n",
       "      <td>Ceramics</td>\n",
       "      <td>0.281869</td>\n",
       "      <td>0.494382</td>\n",
       "    </tr>\n",
       "    <tr>\n",
       "      <th>1</th>\n",
       "      <td>Conceptual Art</td>\n",
       "      <td>0.808393</td>\n",
       "      <td>0.526934</td>\n",
       "    </tr>\n",
       "    <tr>\n",
       "      <th>2</th>\n",
       "      <td>Digital Art</td>\n",
       "      <td>1.354711</td>\n",
       "      <td>0.527762</td>\n",
       "    </tr>\n",
       "    <tr>\n",
       "      <th>3</th>\n",
       "      <td>Illustration</td>\n",
       "      <td>1.620744</td>\n",
       "      <td>0.567171</td>\n",
       "    </tr>\n",
       "    <tr>\n",
       "      <th>4</th>\n",
       "      <td>Installations</td>\n",
       "      <td>0.448931</td>\n",
       "      <td>0.509700</td>\n",
       "    </tr>\n",
       "    <tr>\n",
       "      <th>...</th>\n",
       "      <td>...</td>\n",
       "      <td>...</td>\n",
       "      <td>...</td>\n",
       "    </tr>\n",
       "    <tr>\n",
       "      <th>140</th>\n",
       "      <td>Space Exploration</td>\n",
       "      <td>0.307128</td>\n",
       "      <td>0.548105</td>\n",
       "    </tr>\n",
       "    <tr>\n",
       "      <th>141</th>\n",
       "      <td>Wearables</td>\n",
       "      <td>1.254477</td>\n",
       "      <td>0.510350</td>\n",
       "    </tr>\n",
       "    <tr>\n",
       "      <th>142</th>\n",
       "      <td>Immersive</td>\n",
       "      <td>0.637698</td>\n",
       "      <td>0.529412</td>\n",
       "    </tr>\n",
       "    <tr>\n",
       "      <th>143</th>\n",
       "      <td>Musical</td>\n",
       "      <td>1.613001</td>\n",
       "      <td>0.563195</td>\n",
       "    </tr>\n",
       "    <tr>\n",
       "      <th>144</th>\n",
       "      <td>Plays</td>\n",
       "      <td>2.439888</td>\n",
       "      <td>0.520053</td>\n",
       "    </tr>\n",
       "  </tbody>\n",
       "</table>\n",
       "<p>145 rows × 3 columns</p>\n",
       "</div>"
      ],
      "text/plain": [
       "          sub_category  subcat_volume_index  subcateg_successrate\n",
       "0             Ceramics             0.281869              0.494382\n",
       "1       Conceptual Art             0.808393              0.526934\n",
       "2          Digital Art             1.354711              0.527762\n",
       "3         Illustration             1.620744              0.567171\n",
       "4        Installations             0.448931              0.509700\n",
       "..                 ...                  ...                   ...\n",
       "140  Space Exploration             0.307128              0.548105\n",
       "141          Wearables             1.254477              0.510350\n",
       "142          Immersive             0.637698              0.529412\n",
       "143            Musical             1.613001              0.563195\n",
       "144              Plays             2.439888              0.520053\n",
       "\n",
       "[145 rows x 3 columns]"
      ]
     },
     "metadata": {},
     "output_type": "display_data"
    }
   ],
   "source": [
    "display(subcateg_vars)"
   ]
  },
  {
   "cell_type": "code",
   "execution_count": 73,
   "metadata": {
    "ExecuteTime": {
     "end_time": "2020-04-25T23:00:54.963589Z",
     "start_time": "2020-04-25T23:00:54.843639Z"
    }
   },
   "outputs": [],
   "source": [
    "subcateg_features = np.array(pd.merge(input_f[['sub_category']],subcateg_vars,how='left',on='sub_category').drop(['sub_category'],axis=1).replace(np.nan,0))"
   ]
  },
  {
   "cell_type": "code",
   "execution_count": 83,
   "metadata": {
    "ExecuteTime": {
     "end_time": "2020-04-25T23:32:43.790965Z",
     "start_time": "2020-04-25T23:32:43.779950Z"
    },
    "scrolled": true
   },
   "outputs": [
    {
     "data": {
      "text/plain": [
       "(185996, 41)"
      ]
     },
     "execution_count": 83,
     "metadata": {},
     "output_type": "execute_result"
    }
   ],
   "source": [
    "# subcateg_features.shape\n",
    "# print(subcateg_features)\n",
    "# input_f.isna().sum()\n",
    "# display(input_f)\n",
    "input_f.shape"
   ]
  },
  {
   "cell_type": "markdown",
   "metadata": {},
   "source": [
    "# Text Cleaning"
   ]
  },
  {
   "cell_type": "code",
   "execution_count": 4,
   "metadata": {
    "ExecuteTime": {
     "end_time": "2020-04-26T00:40:51.532305Z",
     "start_time": "2020-04-26T00:40:50.301015Z"
    }
   },
   "outputs": [],
   "source": [
    "# Removing duplicates at profile level with keeping the last source_url value\n",
    "input = input.drop_duplicates(subset = 'profile', keep = 'last')\n",
    "input.dropna(subset = [\"blurb\"],axis=0,inplace=True)\n",
    "input.reset_index();"
   ]
  },
  {
   "cell_type": "code",
   "execution_count": 7,
   "metadata": {
    "ExecuteTime": {
     "end_time": "2020-04-26T00:41:46.313268Z",
     "start_time": "2020-04-26T00:41:46.270294Z"
    }
   },
   "outputs": [
    {
     "data": {
      "text/plain": [
       "(185996, 2)"
      ]
     },
     "execution_count": 7,
     "metadata": {},
     "output_type": "execute_result"
    }
   ],
   "source": [
    "df = input[['blurb','response']].copy()\n",
    "df.shape"
   ]
  },
  {
   "cell_type": "code",
   "execution_count": 20,
   "metadata": {
    "ExecuteTime": {
     "end_time": "2020-04-24T18:45:23.291664Z",
     "start_time": "2020-04-24T18:45:22.381171Z"
    }
   },
   "outputs": [],
   "source": [
    "df['processedtext'] = df['blurb'].str.replace('[^\\w\\s]','') # remove punctuations \n",
    "df['processedtext'] = df['processedtext'].apply(lambda x: str(x))\n",
    "df['processedtext'] = df['processedtext'].apply(lambda x: \" \".join(x for x in x.split() if x not in stop)) # Remove stopwords\n",
    "df['processedtext'] = df['processedtext'].apply(lambda x: \" \".join(x.lower() for x in x.split())) # convert to lowercase"
   ]
  },
  {
   "cell_type": "code",
   "execution_count": 25,
   "metadata": {
    "ExecuteTime": {
     "end_time": "2020-04-24T18:51:20.245750Z",
     "start_time": "2020-04-24T18:51:19.381229Z"
    }
   },
   "outputs": [],
   "source": [
    "# Remove words with length <3\n",
    "\n",
    "def short_word_removal(s):\n",
    "    wordlist = s.split()\n",
    "    s2 = ' '.join(w for w in wordlist if len(w) >2)\n",
    "    return s2\n",
    "\n",
    "df['processedtext'] = df['processedtext'].apply(short_word_removal)"
   ]
  },
  {
   "cell_type": "code",
   "execution_count": 26,
   "metadata": {
    "ExecuteTime": {
     "end_time": "2020-04-24T18:51:24.220098Z",
     "start_time": "2020-04-24T18:51:24.194115Z"
    },
    "scrolled": true
   },
   "outputs": [
    {
     "data": {
      "text/html": [
       "<div>\n",
       "<style scoped>\n",
       "    .dataframe tbody tr th:only-of-type {\n",
       "        vertical-align: middle;\n",
       "    }\n",
       "\n",
       "    .dataframe tbody tr th {\n",
       "        vertical-align: top;\n",
       "    }\n",
       "\n",
       "    .dataframe thead th {\n",
       "        text-align: right;\n",
       "    }\n",
       "</style>\n",
       "<table border=\"1\" class=\"dataframe\">\n",
       "  <thead>\n",
       "    <tr style=\"text-align: right;\">\n",
       "      <th></th>\n",
       "      <th>blurb</th>\n",
       "      <th>response</th>\n",
       "      <th>processedtext</th>\n",
       "    </tr>\n",
       "  </thead>\n",
       "  <tbody>\n",
       "    <tr>\n",
       "      <th>0</th>\n",
       "      <td>Das Good Inc goal is to make cooking easy and ...</td>\n",
       "      <td>0</td>\n",
       "      <td>das good inc goal make cooking easy delicious ...</td>\n",
       "    </tr>\n",
       "    <tr>\n",
       "      <th>1</th>\n",
       "      <td>A web series about the soul crushing exercise ...</td>\n",
       "      <td>0</td>\n",
       "      <td>web series soul crushing exercise commonly kno...</td>\n",
       "    </tr>\n",
       "    <tr>\n",
       "      <th>2</th>\n",
       "      <td>A photographic essay on the historic, incompar...</td>\n",
       "      <td>0</td>\n",
       "      <td>photographic essay historic incomparably color...</td>\n",
       "    </tr>\n",
       "    <tr>\n",
       "      <th>3</th>\n",
       "      <td>A romantic comedy mini series following a self...</td>\n",
       "      <td>0</td>\n",
       "      <td>romantic comedy mini series following self pro...</td>\n",
       "    </tr>\n",
       "    <tr>\n",
       "      <th>4</th>\n",
       "      <td>The Drums of Atlant is an original science fic...</td>\n",
       "      <td>0</td>\n",
       "      <td>the drums atlant original science fiction seri...</td>\n",
       "    </tr>\n",
       "    <tr>\n",
       "      <th>5</th>\n",
       "      <td>\"...a real photographer will make you look twi...</td>\n",
       "      <td>0</td>\n",
       "      <td>real photographer make look twice something or...</td>\n",
       "    </tr>\n",
       "    <tr>\n",
       "      <th>7</th>\n",
       "      <td>Es nuestra ilusión, tener nuestro propio resta...</td>\n",
       "      <td>0</td>\n",
       "      <td>nuestra ilusión tener nuestro propio restauran...</td>\n",
       "    </tr>\n",
       "    <tr>\n",
       "      <th>8</th>\n",
       "      <td>A relaxing teaching tool, this coloring book f...</td>\n",
       "      <td>0</td>\n",
       "      <td>relaxing teaching tool coloring book kids adul...</td>\n",
       "    </tr>\n",
       "    <tr>\n",
       "      <th>9</th>\n",
       "      <td>Floating above the planet Ithor on Tafanda Bay...</td>\n",
       "      <td>0</td>\n",
       "      <td>floating planet ithor tafanda bay evil sith lo...</td>\n",
       "    </tr>\n",
       "    <tr>\n",
       "      <th>10</th>\n",
       "      <td>Social, environmental and cultural project tha...</td>\n",
       "      <td>1</td>\n",
       "      <td>social environmental cultural project seeks re...</td>\n",
       "    </tr>\n",
       "    <tr>\n",
       "      <th>11</th>\n",
       "      <td>Os presentamos nuestro próximo trabajo, AMARNA...</td>\n",
       "      <td>1</td>\n",
       "      <td>presentamos nuestro próximo trabajo amarna nue...</td>\n",
       "    </tr>\n",
       "    <tr>\n",
       "      <th>13</th>\n",
       "      <td>A semi-autobiographical, epic fantasy sitcom a...</td>\n",
       "      <td>1</td>\n",
       "      <td>semiautobiographical epic fantasy sitcom usele...</td>\n",
       "    </tr>\n",
       "    <tr>\n",
       "      <th>15</th>\n",
       "      <td>The Warehouse brings culture through art and m...</td>\n",
       "      <td>1</td>\n",
       "      <td>the warehouse brings culture art music exposin...</td>\n",
       "    </tr>\n",
       "    <tr>\n",
       "      <th>16</th>\n",
       "      <td>A cyberpunk espionage comic book series with a...</td>\n",
       "      <td>0</td>\n",
       "      <td>cyberpunk espionage comic book series dark sen...</td>\n",
       "    </tr>\n",
       "    <tr>\n",
       "      <th>18</th>\n",
       "      <td>In this Lovecraftian Horror story, can you tel...</td>\n",
       "      <td>1</td>\n",
       "      <td>lovecraftian horror story tell secrets lie bey...</td>\n",
       "    </tr>\n",
       "    <tr>\n",
       "      <th>20</th>\n",
       "      <td>A twice-monthy webseries about video, tabletop...</td>\n",
       "      <td>1</td>\n",
       "      <td>twicemonthy webseries video tabletop wargaming...</td>\n",
       "    </tr>\n",
       "    <tr>\n",
       "      <th>21</th>\n",
       "      <td>Want to open my first restaurant with deliciou...</td>\n",
       "      <td>0</td>\n",
       "      <td>want open first restaurant delicious food grea...</td>\n",
       "    </tr>\n",
       "    <tr>\n",
       "      <th>22</th>\n",
       "      <td>A hardboiled detective in H.P. Lovecraft's Ark...</td>\n",
       "      <td>1</td>\n",
       "      <td>hardboiled detective lovecrafts arkham created...</td>\n",
       "    </tr>\n",
       "    <tr>\n",
       "      <th>23</th>\n",
       "      <td>The shocking concluding chapter of the initial...</td>\n",
       "      <td>1</td>\n",
       "      <td>the shocking concluding chapter initial trilog...</td>\n",
       "    </tr>\n",
       "    <tr>\n",
       "      <th>24</th>\n",
       "      <td>We'll create a \"tour guide\" for analog travell...</td>\n",
       "      <td>0</td>\n",
       "      <td>well create tour guide analog travellers want ...</td>\n",
       "    </tr>\n",
       "    <tr>\n",
       "      <th>25</th>\n",
       "      <td>After a creative rebirth, Iris Divine is ready...</td>\n",
       "      <td>1</td>\n",
       "      <td>after creative rebirth iris divine ready intro...</td>\n",
       "    </tr>\n",
       "    <tr>\n",
       "      <th>26</th>\n",
       "      <td>...because we believe little changes can make ...</td>\n",
       "      <td>1</td>\n",
       "      <td>believe little changes make big difference</td>\n",
       "    </tr>\n",
       "    <tr>\n",
       "      <th>28</th>\n",
       "      <td>Designer socks with a pop culture twist. Featu...</td>\n",
       "      <td>1</td>\n",
       "      <td>designer socks pop culture twist featuring cla...</td>\n",
       "    </tr>\n",
       "    <tr>\n",
       "      <th>30</th>\n",
       "      <td>Another action comic extravaganza from the Eis...</td>\n",
       "      <td>1</td>\n",
       "      <td>another action comic extravaganza eisnernomina...</td>\n",
       "    </tr>\n",
       "    <tr>\n",
       "      <th>31</th>\n",
       "      <td>Meaningful Gifts: Extraordinary stories and pi...</td>\n",
       "      <td>1</td>\n",
       "      <td>meaningful gifts extraordinary stories picture...</td>\n",
       "    </tr>\n",
       "    <tr>\n",
       "      <th>32</th>\n",
       "      <td>Challenge met! Almost. Help me turn my 100 poe...</td>\n",
       "      <td>0</td>\n",
       "      <td>challenge met almost help turn 100 poem social...</td>\n",
       "    </tr>\n",
       "    <tr>\n",
       "      <th>33</th>\n",
       "      <td>A young woman learns she is one of few women l...</td>\n",
       "      <td>0</td>\n",
       "      <td>young woman learns one women left bred like ca...</td>\n",
       "    </tr>\n",
       "    <tr>\n",
       "      <th>34</th>\n",
       "      <td>Mankind is thrust to the stars in this journey...</td>\n",
       "      <td>1</td>\n",
       "      <td>mankind thrust stars journey backwater slums a...</td>\n",
       "    </tr>\n",
       "    <tr>\n",
       "      <th>35</th>\n",
       "      <td>Control the weather to help herds of animals r...</td>\n",
       "      <td>1</td>\n",
       "      <td>control weather help herds animals restore hom...</td>\n",
       "    </tr>\n",
       "    <tr>\n",
       "      <th>37</th>\n",
       "      <td>Bloody Sunday Sessions is a music video projec...</td>\n",
       "      <td>1</td>\n",
       "      <td>bloody sunday sessions music video project hos...</td>\n",
       "    </tr>\n",
       "    <tr>\n",
       "      <th>39</th>\n",
       "      <td>A graphic novel about friendship, loss, and in...</td>\n",
       "      <td>1</td>\n",
       "      <td>graphic novel friendship loss interdimensional...</td>\n",
       "    </tr>\n",
       "    <tr>\n",
       "      <th>40</th>\n",
       "      <td>Graphic novella, with passages interwoven with...</td>\n",
       "      <td>0</td>\n",
       "      <td>graphic novella passages interwoven poems sket...</td>\n",
       "    </tr>\n",
       "    <tr>\n",
       "      <th>42</th>\n",
       "      <td>FINAL WEEK: A point and click adventure set in...</td>\n",
       "      <td>1</td>\n",
       "      <td>final week point click adventure set ancient g...</td>\n",
       "    </tr>\n",
       "    <tr>\n",
       "      <th>43</th>\n",
       "      <td>An opportunity to support and participate in t...</td>\n",
       "      <td>0</td>\n",
       "      <td>opportunity support participate production new...</td>\n",
       "    </tr>\n",
       "    <tr>\n",
       "      <th>45</th>\n",
       "      <td>Aotea Tea uses naturally native Kawakawa or Ma...</td>\n",
       "      <td>1</td>\n",
       "      <td>aotea tea uses naturally native kawakawa manuk...</td>\n",
       "    </tr>\n",
       "    <tr>\n",
       "      <th>46</th>\n",
       "      <td>A local artist aims to transform one micro-str...</td>\n",
       "      <td>1</td>\n",
       "      <td>local artist aims transform one microstripmall...</td>\n",
       "    </tr>\n",
       "    <tr>\n",
       "      <th>47</th>\n",
       "      <td>An epic saga of drama, action, adventure and s...</td>\n",
       "      <td>1</td>\n",
       "      <td>epic saga drama action adventure suspense hero...</td>\n",
       "    </tr>\n",
       "    <tr>\n",
       "      <th>48</th>\n",
       "      <td>help us to make our first record! we need your...</td>\n",
       "      <td>1</td>\n",
       "      <td>help make first record need help guys send fre...</td>\n",
       "    </tr>\n",
       "    <tr>\n",
       "      <th>49</th>\n",
       "      <td>An inspiring, hand painted, Street Art Mural f...</td>\n",
       "      <td>1</td>\n",
       "      <td>inspiring hand painted street art mural back l...</td>\n",
       "    </tr>\n",
       "    <tr>\n",
       "      <th>51</th>\n",
       "      <td>Ever wanted to star in your own TV show or Com...</td>\n",
       "      <td>0</td>\n",
       "      <td>ever wanted star show comic book now your supp...</td>\n",
       "    </tr>\n",
       "    <tr>\n",
       "      <th>52</th>\n",
       "      <td>A web project which we hope will entertain, bu...</td>\n",
       "      <td>1</td>\n",
       "      <td>web project hope entertain also help families ...</td>\n",
       "    </tr>\n",
       "    <tr>\n",
       "      <th>54</th>\n",
       "      <td>This hilarious satirical sketch comedy web ser...</td>\n",
       "      <td>1</td>\n",
       "      <td>this hilarious satirical sketch comedy web ser...</td>\n",
       "    </tr>\n",
       "    <tr>\n",
       "      <th>55</th>\n",
       "      <td>We are Brunch Media: a new brand creating unsc...</td>\n",
       "      <td>0</td>\n",
       "      <td>brunch media new brand creating unscripted web...</td>\n",
       "    </tr>\n",
       "    <tr>\n",
       "      <th>56</th>\n",
       "      <td>Queer Artist M.A.JOY 's anime style comic [Rai...</td>\n",
       "      <td>0</td>\n",
       "      <td>queer artist majoy anime style comic rainbow s...</td>\n",
       "    </tr>\n",
       "    <tr>\n",
       "      <th>57</th>\n",
       "      <td>A web series about going back in time not to c...</td>\n",
       "      <td>1</td>\n",
       "      <td>web series going back time change past make su...</td>\n",
       "    </tr>\n",
       "    <tr>\n",
       "      <th>58</th>\n",
       "      <td>A small warband of hand-sculpted Ogres and Orc...</td>\n",
       "      <td>1</td>\n",
       "      <td>small warband handsculpted ogres orcs cast res...</td>\n",
       "    </tr>\n",
       "    <tr>\n",
       "      <th>60</th>\n",
       "      <td>An art gallery of motion reactive infinity mir...</td>\n",
       "      <td>1</td>\n",
       "      <td>art gallery motion reactive infinity mirrors s...</td>\n",
       "    </tr>\n",
       "    <tr>\n",
       "      <th>61</th>\n",
       "      <td>In hopes of bringing a hip new idea  to a smal...</td>\n",
       "      <td>0</td>\n",
       "      <td>hopes bringing hip new idea small town rise al...</td>\n",
       "    </tr>\n",
       "    <tr>\n",
       "      <th>62</th>\n",
       "      <td>We aim to bring street art workshops to disadv...</td>\n",
       "      <td>1</td>\n",
       "      <td>aim bring street art workshops disadvantaged r...</td>\n",
       "    </tr>\n",
       "    <tr>\n",
       "      <th>63</th>\n",
       "      <td>An amazing collection of delicate paper-cut ar...</td>\n",
       "      <td>0</td>\n",
       "      <td>amazing collection delicate papercut artworks ...</td>\n",
       "    </tr>\n",
       "  </tbody>\n",
       "</table>\n",
       "</div>"
      ],
      "text/plain": [
       "                                                blurb  response  \\\n",
       "0   Das Good Inc goal is to make cooking easy and ...         0   \n",
       "1   A web series about the soul crushing exercise ...         0   \n",
       "2   A photographic essay on the historic, incompar...         0   \n",
       "3   A romantic comedy mini series following a self...         0   \n",
       "4   The Drums of Atlant is an original science fic...         0   \n",
       "5   \"...a real photographer will make you look twi...         0   \n",
       "7   Es nuestra ilusión, tener nuestro propio resta...         0   \n",
       "8   A relaxing teaching tool, this coloring book f...         0   \n",
       "9   Floating above the planet Ithor on Tafanda Bay...         0   \n",
       "10  Social, environmental and cultural project tha...         1   \n",
       "11  Os presentamos nuestro próximo trabajo, AMARNA...         1   \n",
       "13  A semi-autobiographical, epic fantasy sitcom a...         1   \n",
       "15  The Warehouse brings culture through art and m...         1   \n",
       "16  A cyberpunk espionage comic book series with a...         0   \n",
       "18  In this Lovecraftian Horror story, can you tel...         1   \n",
       "20  A twice-monthy webseries about video, tabletop...         1   \n",
       "21  Want to open my first restaurant with deliciou...         0   \n",
       "22  A hardboiled detective in H.P. Lovecraft's Ark...         1   \n",
       "23  The shocking concluding chapter of the initial...         1   \n",
       "24  We'll create a \"tour guide\" for analog travell...         0   \n",
       "25  After a creative rebirth, Iris Divine is ready...         1   \n",
       "26  ...because we believe little changes can make ...         1   \n",
       "28  Designer socks with a pop culture twist. Featu...         1   \n",
       "30  Another action comic extravaganza from the Eis...         1   \n",
       "31  Meaningful Gifts: Extraordinary stories and pi...         1   \n",
       "32  Challenge met! Almost. Help me turn my 100 poe...         0   \n",
       "33  A young woman learns she is one of few women l...         0   \n",
       "34  Mankind is thrust to the stars in this journey...         1   \n",
       "35  Control the weather to help herds of animals r...         1   \n",
       "37  Bloody Sunday Sessions is a music video projec...         1   \n",
       "39  A graphic novel about friendship, loss, and in...         1   \n",
       "40  Graphic novella, with passages interwoven with...         0   \n",
       "42  FINAL WEEK: A point and click adventure set in...         1   \n",
       "43  An opportunity to support and participate in t...         0   \n",
       "45  Aotea Tea uses naturally native Kawakawa or Ma...         1   \n",
       "46  A local artist aims to transform one micro-str...         1   \n",
       "47  An epic saga of drama, action, adventure and s...         1   \n",
       "48  help us to make our first record! we need your...         1   \n",
       "49  An inspiring, hand painted, Street Art Mural f...         1   \n",
       "51  Ever wanted to star in your own TV show or Com...         0   \n",
       "52  A web project which we hope will entertain, bu...         1   \n",
       "54  This hilarious satirical sketch comedy web ser...         1   \n",
       "55  We are Brunch Media: a new brand creating unsc...         0   \n",
       "56  Queer Artist M.A.JOY 's anime style comic [Rai...         0   \n",
       "57  A web series about going back in time not to c...         1   \n",
       "58  A small warband of hand-sculpted Ogres and Orc...         1   \n",
       "60  An art gallery of motion reactive infinity mir...         1   \n",
       "61  In hopes of bringing a hip new idea  to a smal...         0   \n",
       "62  We aim to bring street art workshops to disadv...         1   \n",
       "63  An amazing collection of delicate paper-cut ar...         0   \n",
       "\n",
       "                                        processedtext  \n",
       "0   das good inc goal make cooking easy delicious ...  \n",
       "1   web series soul crushing exercise commonly kno...  \n",
       "2   photographic essay historic incomparably color...  \n",
       "3   romantic comedy mini series following self pro...  \n",
       "4   the drums atlant original science fiction seri...  \n",
       "5   real photographer make look twice something or...  \n",
       "7   nuestra ilusión tener nuestro propio restauran...  \n",
       "8   relaxing teaching tool coloring book kids adul...  \n",
       "9   floating planet ithor tafanda bay evil sith lo...  \n",
       "10  social environmental cultural project seeks re...  \n",
       "11  presentamos nuestro próximo trabajo amarna nue...  \n",
       "13  semiautobiographical epic fantasy sitcom usele...  \n",
       "15  the warehouse brings culture art music exposin...  \n",
       "16  cyberpunk espionage comic book series dark sen...  \n",
       "18  lovecraftian horror story tell secrets lie bey...  \n",
       "20  twicemonthy webseries video tabletop wargaming...  \n",
       "21  want open first restaurant delicious food grea...  \n",
       "22  hardboiled detective lovecrafts arkham created...  \n",
       "23  the shocking concluding chapter initial trilog...  \n",
       "24  well create tour guide analog travellers want ...  \n",
       "25  after creative rebirth iris divine ready intro...  \n",
       "26         believe little changes make big difference  \n",
       "28  designer socks pop culture twist featuring cla...  \n",
       "30  another action comic extravaganza eisnernomina...  \n",
       "31  meaningful gifts extraordinary stories picture...  \n",
       "32  challenge met almost help turn 100 poem social...  \n",
       "33  young woman learns one women left bred like ca...  \n",
       "34  mankind thrust stars journey backwater slums a...  \n",
       "35  control weather help herds animals restore hom...  \n",
       "37  bloody sunday sessions music video project hos...  \n",
       "39  graphic novel friendship loss interdimensional...  \n",
       "40  graphic novella passages interwoven poems sket...  \n",
       "42  final week point click adventure set ancient g...  \n",
       "43  opportunity support participate production new...  \n",
       "45  aotea tea uses naturally native kawakawa manuk...  \n",
       "46  local artist aims transform one microstripmall...  \n",
       "47  epic saga drama action adventure suspense hero...  \n",
       "48  help make first record need help guys send fre...  \n",
       "49  inspiring hand painted street art mural back l...  \n",
       "51  ever wanted star show comic book now your supp...  \n",
       "52  web project hope entertain also help families ...  \n",
       "54  this hilarious satirical sketch comedy web ser...  \n",
       "55  brunch media new brand creating unscripted web...  \n",
       "56  queer artist majoy anime style comic rainbow s...  \n",
       "57  web series going back time change past make su...  \n",
       "58  small warband handsculpted ogres orcs cast res...  \n",
       "60  art gallery motion reactive infinity mirrors s...  \n",
       "61  hopes bringing hip new idea small town rise al...  \n",
       "62  aim bring street art workshops disadvantaged r...  \n",
       "63  amazing collection delicate papercut artworks ...  "
      ]
     },
     "execution_count": 26,
     "metadata": {},
     "output_type": "execute_result"
    }
   ],
   "source": [
    "df.head(50)"
   ]
  },
  {
   "cell_type": "markdown",
   "metadata": {},
   "source": [
    "# Language detection flag"
   ]
  },
  {
   "cell_type": "code",
   "execution_count": 27,
   "metadata": {
    "ExecuteTime": {
     "end_time": "2020-04-24T18:55:57.297092Z",
     "start_time": "2020-04-24T18:55:31.904728Z"
    },
    "collapsed": true,
    "jupyter": {
     "outputs_hidden": true
    }
   },
   "outputs": [
    {
     "name": "stdout",
     "output_type": "stream",
     "text": [
      "Collecting textblob\n",
      "  Downloading textblob-0.15.3-py2.py3-none-any.whl (636 kB)\n",
      "Requirement already satisfied: nltk>=3.1 in c:\\users\\hi\\anaconda3\\lib\\site-packages (from textblob) (3.4.5)\n",
      "Requirement already satisfied: six in c:\\users\\hi\\anaconda3\\lib\\site-packages (from nltk>=3.1->textblob) (1.14.0)\n",
      "Installing collected packages: textblob\n",
      "Successfully installed textblob-0.15.3\n",
      "Note: you may need to restart the kernel to use updated packages.\n"
     ]
    }
   ],
   "source": [
    "df.dropna(axis=0,inplace=True)\n",
    "\n",
    "import langdetect\n",
    "from langdetect import detect\n",
    "\n",
    "\n",
    "def detect_language(text):\n",
    "    try:\n",
    "        return detect(text)\n",
    "    except:\n",
    "        return \"unknown\"\n",
    "\n",
    "df['language'] = df['processedtext'].apply(detect_language)  "
   ]
  },
  {
   "cell_type": "code",
   "execution_count": 8,
   "metadata": {
    "ExecuteTime": {
     "end_time": "2020-04-25T19:06:43.202003Z",
     "start_time": "2020-04-25T19:06:43.137042Z"
    }
   },
   "outputs": [],
   "source": [
    "df['language'] = df['language'].apply(lambda x: 'english' if x == 'en' else ('spanish' if x == 'es' else ('french' if x == 'fr' else('italian' if x == 'it' else 'other'))))"
   ]
  },
  {
   "cell_type": "code",
   "execution_count": 71,
   "metadata": {
    "ExecuteTime": {
     "end_time": "2020-04-24T21:00:07.133554Z",
     "start_time": "2020-04-24T21:00:07.113568Z"
    }
   },
   "outputs": [
    {
     "data": {
      "text/html": [
       "<div>\n",
       "<style scoped>\n",
       "    .dataframe tbody tr th:only-of-type {\n",
       "        vertical-align: middle;\n",
       "    }\n",
       "\n",
       "    .dataframe tbody tr th {\n",
       "        vertical-align: top;\n",
       "    }\n",
       "\n",
       "    .dataframe thead th {\n",
       "        text-align: right;\n",
       "    }\n",
       "</style>\n",
       "<table border=\"1\" class=\"dataframe\">\n",
       "  <thead>\n",
       "    <tr style=\"text-align: right;\">\n",
       "      <th></th>\n",
       "      <th>blurb</th>\n",
       "      <th>response</th>\n",
       "      <th>processedtext</th>\n",
       "      <th>language</th>\n",
       "      <th>language_full</th>\n",
       "    </tr>\n",
       "  </thead>\n",
       "  <tbody>\n",
       "    <tr>\n",
       "      <th>0</th>\n",
       "      <td>Das Good Inc goal is to make cooking easy and ...</td>\n",
       "      <td>0</td>\n",
       "      <td>das good inc goal make cooking easy delicious ...</td>\n",
       "      <td>en</td>\n",
       "      <td>english</td>\n",
       "    </tr>\n",
       "    <tr>\n",
       "      <th>1</th>\n",
       "      <td>A web series about the soul crushing exercise ...</td>\n",
       "      <td>0</td>\n",
       "      <td>web series soul crushing exercise commonly kno...</td>\n",
       "      <td>en</td>\n",
       "      <td>english</td>\n",
       "    </tr>\n",
       "    <tr>\n",
       "      <th>2</th>\n",
       "      <td>A photographic essay on the historic, incompar...</td>\n",
       "      <td>0</td>\n",
       "      <td>photographic essay historic incomparably color...</td>\n",
       "      <td>en</td>\n",
       "      <td>english</td>\n",
       "    </tr>\n",
       "    <tr>\n",
       "      <th>3</th>\n",
       "      <td>A romantic comedy mini series following a self...</td>\n",
       "      <td>0</td>\n",
       "      <td>romantic comedy mini series following self pro...</td>\n",
       "      <td>en</td>\n",
       "      <td>english</td>\n",
       "    </tr>\n",
       "    <tr>\n",
       "      <th>4</th>\n",
       "      <td>The Drums of Atlant is an original science fic...</td>\n",
       "      <td>0</td>\n",
       "      <td>the drums atlant original science fiction seri...</td>\n",
       "      <td>en</td>\n",
       "      <td>english</td>\n",
       "    </tr>\n",
       "    <tr>\n",
       "      <th>5</th>\n",
       "      <td>\"...a real photographer will make you look twi...</td>\n",
       "      <td>0</td>\n",
       "      <td>real photographer make look twice something or...</td>\n",
       "      <td>en</td>\n",
       "      <td>english</td>\n",
       "    </tr>\n",
       "    <tr>\n",
       "      <th>7</th>\n",
       "      <td>Es nuestra ilusión, tener nuestro propio resta...</td>\n",
       "      <td>0</td>\n",
       "      <td>nuestra ilusión tener nuestro propio restauran...</td>\n",
       "      <td>es</td>\n",
       "      <td>spanish</td>\n",
       "    </tr>\n",
       "    <tr>\n",
       "      <th>8</th>\n",
       "      <td>A relaxing teaching tool, this coloring book f...</td>\n",
       "      <td>0</td>\n",
       "      <td>relaxing teaching tool coloring book kids adul...</td>\n",
       "      <td>en</td>\n",
       "      <td>english</td>\n",
       "    </tr>\n",
       "    <tr>\n",
       "      <th>9</th>\n",
       "      <td>Floating above the planet Ithor on Tafanda Bay...</td>\n",
       "      <td>0</td>\n",
       "      <td>floating planet ithor tafanda bay evil sith lo...</td>\n",
       "      <td>en</td>\n",
       "      <td>english</td>\n",
       "    </tr>\n",
       "    <tr>\n",
       "      <th>10</th>\n",
       "      <td>Social, environmental and cultural project tha...</td>\n",
       "      <td>1</td>\n",
       "      <td>social environmental cultural project seeks re...</td>\n",
       "      <td>en</td>\n",
       "      <td>english</td>\n",
       "    </tr>\n",
       "  </tbody>\n",
       "</table>\n",
       "</div>"
      ],
      "text/plain": [
       "                                                blurb  response  \\\n",
       "0   Das Good Inc goal is to make cooking easy and ...         0   \n",
       "1   A web series about the soul crushing exercise ...         0   \n",
       "2   A photographic essay on the historic, incompar...         0   \n",
       "3   A romantic comedy mini series following a self...         0   \n",
       "4   The Drums of Atlant is an original science fic...         0   \n",
       "5   \"...a real photographer will make you look twi...         0   \n",
       "7   Es nuestra ilusión, tener nuestro propio resta...         0   \n",
       "8   A relaxing teaching tool, this coloring book f...         0   \n",
       "9   Floating above the planet Ithor on Tafanda Bay...         0   \n",
       "10  Social, environmental and cultural project tha...         1   \n",
       "\n",
       "                                        processedtext language language_full  \n",
       "0   das good inc goal make cooking easy delicious ...       en       english  \n",
       "1   web series soul crushing exercise commonly kno...       en       english  \n",
       "2   photographic essay historic incomparably color...       en       english  \n",
       "3   romantic comedy mini series following self pro...       en       english  \n",
       "4   the drums atlant original science fiction seri...       en       english  \n",
       "5   real photographer make look twice something or...       en       english  \n",
       "7   nuestra ilusión tener nuestro propio restauran...       es       spanish  \n",
       "8   relaxing teaching tool coloring book kids adul...       en       english  \n",
       "9   floating planet ithor tafanda bay evil sith lo...       en       english  \n",
       "10  social environmental cultural project seeks re...       en       english  "
      ]
     },
     "execution_count": 71,
     "metadata": {},
     "output_type": "execute_result"
    }
   ],
   "source": [
    "df.head(10)"
   ]
  },
  {
   "cell_type": "code",
   "execution_count": 7,
   "metadata": {
    "ExecuteTime": {
     "end_time": "2020-04-25T19:06:00.679076Z",
     "start_time": "2020-04-25T19:05:57.956880Z"
    }
   },
   "outputs": [],
   "source": [
    "df = pd.read_csv(\"language_detected.csv\")\n",
    "# df.dtypes"
   ]
  },
  {
   "cell_type": "markdown",
   "metadata": {},
   "source": [
    "# Stemming"
   ]
  },
  {
   "cell_type": "code",
   "execution_count": 6,
   "metadata": {
    "ExecuteTime": {
     "end_time": "2020-04-25T05:07:49.390159Z",
     "start_time": "2020-04-25T05:07:49.281221Z"
    }
   },
   "outputs": [],
   "source": [
    "df['processedtext'] = df['processedtext'].apply(lambda x: str(x))"
   ]
  },
  {
   "cell_type": "code",
   "execution_count": 7,
   "metadata": {
    "ExecuteTime": {
     "end_time": "2020-04-25T05:08:59.850854Z",
     "start_time": "2020-04-25T05:07:53.036071Z"
    }
   },
   "outputs": [],
   "source": [
    "from nltk.stem import PorterStemmer\n",
    "stemmer = PorterStemmer()\n",
    "df['processedtext'] = df['processedtext'].apply(lambda x: \" \".join([stemmer.stem(word) for word in x.split()]))"
   ]
  },
  {
   "cell_type": "markdown",
   "metadata": {},
   "source": [
    "# Bag of words - countvectorizer()"
   ]
  },
  {
   "cell_type": "code",
   "execution_count": 8,
   "metadata": {
    "ExecuteTime": {
     "end_time": "2020-04-25T05:36:34.070015Z",
     "start_time": "2020-04-25T05:36:28.719047Z"
    }
   },
   "outputs": [],
   "source": [
    "from sklearn.feature_extraction.text import CountVectorizer\n",
    "cv=CountVectorizer(max_features=2500) #Keep top 2500 most frequently used words\n",
    "X=cv.fit_transform(df['processedtext']).toarray() #Develop a sparse matrix for every word\n",
    "y=np.array(df[['response']])"
   ]
  },
  {
   "cell_type": "code",
   "execution_count": 22,
   "metadata": {
    "ExecuteTime": {
     "end_time": "2020-04-25T05:56:16.313048Z",
     "start_time": "2020-04-25T05:56:16.157785Z"
    }
   },
   "outputs": [],
   "source": [
    "X_language = pd.get_dummies(df.language).add_prefix('language_').iloc[:,:-1]"
   ]
  },
  {
   "cell_type": "markdown",
   "metadata": {},
   "source": [
    "## Join the language feature to the bag of words"
   ]
  },
  {
   "cell_type": "code",
   "execution_count": 24,
   "metadata": {
    "ExecuteTime": {
     "end_time": "2020-04-25T05:58:29.826283Z",
     "start_time": "2020-04-25T05:58:29.817296Z"
    }
   },
   "outputs": [
    {
     "data": {
      "text/plain": [
       "numpy.ndarray"
      ]
     },
     "execution_count": 24,
     "metadata": {},
     "output_type": "execute_result"
    }
   ],
   "source": [
    "X_language_array = np.array(X_language)\n",
    "type(X_language_array)"
   ]
  },
  {
   "cell_type": "code",
   "execution_count": 27,
   "metadata": {
    "ExecuteTime": {
     "end_time": "2020-04-25T06:04:37.589269Z",
     "start_time": "2020-04-25T06:04:24.945832Z"
    }
   },
   "outputs": [],
   "source": [
    "X_all = np.concatenate((X,X_language_array),axis=1)"
   ]
  },
  {
   "cell_type": "code",
   "execution_count": 28,
   "metadata": {
    "ExecuteTime": {
     "end_time": "2020-04-25T06:05:13.486965Z",
     "start_time": "2020-04-25T06:05:13.465979Z"
    }
   },
   "outputs": [
    {
     "name": "stdout",
     "output_type": "stream",
     "text": [
      "(185996, 2504)\n"
     ]
    }
   ],
   "source": [
    "print(X_all.shape)"
   ]
  },
  {
   "cell_type": "code",
   "execution_count": 29,
   "metadata": {
    "ExecuteTime": {
     "end_time": "2020-04-25T06:07:45.570676Z",
     "start_time": "2020-04-25T06:07:44.857835Z"
    }
   },
   "outputs": [
    {
     "data": {
      "text/html": [
       "<div>\n",
       "<style scoped>\n",
       "    .dataframe tbody tr th:only-of-type {\n",
       "        vertical-align: middle;\n",
       "    }\n",
       "\n",
       "    .dataframe tbody tr th {\n",
       "        vertical-align: top;\n",
       "    }\n",
       "\n",
       "    .dataframe thead th {\n",
       "        text-align: right;\n",
       "    }\n",
       "</style>\n",
       "<table border=\"1\" class=\"dataframe\">\n",
       "  <thead>\n",
       "    <tr style=\"text-align: right;\">\n",
       "      <th></th>\n",
       "      <th>100</th>\n",
       "      <th>1000</th>\n",
       "      <th>150</th>\n",
       "      <th>1st</th>\n",
       "      <th>200</th>\n",
       "      <th>2000</th>\n",
       "      <th>2010</th>\n",
       "      <th>2011</th>\n",
       "      <th>2012</th>\n",
       "      <th>2013</th>\n",
       "      <th>...</th>\n",
       "      <th>young</th>\n",
       "      <th>your</th>\n",
       "      <th>youth</th>\n",
       "      <th>youtub</th>\n",
       "      <th>youv</th>\n",
       "      <th>zealand</th>\n",
       "      <th>zero</th>\n",
       "      <th>zine</th>\n",
       "      <th>zombi</th>\n",
       "      <th>zone</th>\n",
       "    </tr>\n",
       "  </thead>\n",
       "  <tbody>\n",
       "    <tr>\n",
       "      <th>0</th>\n",
       "      <td>0</td>\n",
       "      <td>0</td>\n",
       "      <td>0</td>\n",
       "      <td>0</td>\n",
       "      <td>0</td>\n",
       "      <td>0</td>\n",
       "      <td>0</td>\n",
       "      <td>0</td>\n",
       "      <td>0</td>\n",
       "      <td>0</td>\n",
       "      <td>...</td>\n",
       "      <td>0</td>\n",
       "      <td>0</td>\n",
       "      <td>0</td>\n",
       "      <td>0</td>\n",
       "      <td>0</td>\n",
       "      <td>0</td>\n",
       "      <td>0</td>\n",
       "      <td>0</td>\n",
       "      <td>0</td>\n",
       "      <td>0</td>\n",
       "    </tr>\n",
       "    <tr>\n",
       "      <th>1</th>\n",
       "      <td>0</td>\n",
       "      <td>0</td>\n",
       "      <td>0</td>\n",
       "      <td>0</td>\n",
       "      <td>0</td>\n",
       "      <td>0</td>\n",
       "      <td>0</td>\n",
       "      <td>0</td>\n",
       "      <td>0</td>\n",
       "      <td>0</td>\n",
       "      <td>...</td>\n",
       "      <td>0</td>\n",
       "      <td>0</td>\n",
       "      <td>0</td>\n",
       "      <td>0</td>\n",
       "      <td>0</td>\n",
       "      <td>0</td>\n",
       "      <td>0</td>\n",
       "      <td>0</td>\n",
       "      <td>0</td>\n",
       "      <td>0</td>\n",
       "    </tr>\n",
       "    <tr>\n",
       "      <th>2</th>\n",
       "      <td>0</td>\n",
       "      <td>0</td>\n",
       "      <td>0</td>\n",
       "      <td>0</td>\n",
       "      <td>0</td>\n",
       "      <td>0</td>\n",
       "      <td>0</td>\n",
       "      <td>0</td>\n",
       "      <td>0</td>\n",
       "      <td>0</td>\n",
       "      <td>...</td>\n",
       "      <td>0</td>\n",
       "      <td>0</td>\n",
       "      <td>0</td>\n",
       "      <td>0</td>\n",
       "      <td>0</td>\n",
       "      <td>0</td>\n",
       "      <td>0</td>\n",
       "      <td>0</td>\n",
       "      <td>0</td>\n",
       "      <td>0</td>\n",
       "    </tr>\n",
       "    <tr>\n",
       "      <th>3</th>\n",
       "      <td>0</td>\n",
       "      <td>0</td>\n",
       "      <td>0</td>\n",
       "      <td>0</td>\n",
       "      <td>0</td>\n",
       "      <td>0</td>\n",
       "      <td>0</td>\n",
       "      <td>0</td>\n",
       "      <td>0</td>\n",
       "      <td>0</td>\n",
       "      <td>...</td>\n",
       "      <td>0</td>\n",
       "      <td>0</td>\n",
       "      <td>0</td>\n",
       "      <td>0</td>\n",
       "      <td>0</td>\n",
       "      <td>0</td>\n",
       "      <td>0</td>\n",
       "      <td>0</td>\n",
       "      <td>0</td>\n",
       "      <td>0</td>\n",
       "    </tr>\n",
       "    <tr>\n",
       "      <th>4</th>\n",
       "      <td>0</td>\n",
       "      <td>0</td>\n",
       "      <td>0</td>\n",
       "      <td>0</td>\n",
       "      <td>0</td>\n",
       "      <td>0</td>\n",
       "      <td>0</td>\n",
       "      <td>0</td>\n",
       "      <td>0</td>\n",
       "      <td>0</td>\n",
       "      <td>...</td>\n",
       "      <td>0</td>\n",
       "      <td>0</td>\n",
       "      <td>0</td>\n",
       "      <td>0</td>\n",
       "      <td>0</td>\n",
       "      <td>0</td>\n",
       "      <td>0</td>\n",
       "      <td>0</td>\n",
       "      <td>0</td>\n",
       "      <td>0</td>\n",
       "    </tr>\n",
       "    <tr>\n",
       "      <th>5</th>\n",
       "      <td>0</td>\n",
       "      <td>0</td>\n",
       "      <td>0</td>\n",
       "      <td>0</td>\n",
       "      <td>0</td>\n",
       "      <td>0</td>\n",
       "      <td>0</td>\n",
       "      <td>0</td>\n",
       "      <td>0</td>\n",
       "      <td>0</td>\n",
       "      <td>...</td>\n",
       "      <td>0</td>\n",
       "      <td>0</td>\n",
       "      <td>0</td>\n",
       "      <td>0</td>\n",
       "      <td>0</td>\n",
       "      <td>0</td>\n",
       "      <td>0</td>\n",
       "      <td>0</td>\n",
       "      <td>0</td>\n",
       "      <td>0</td>\n",
       "    </tr>\n",
       "    <tr>\n",
       "      <th>6</th>\n",
       "      <td>0</td>\n",
       "      <td>0</td>\n",
       "      <td>0</td>\n",
       "      <td>0</td>\n",
       "      <td>0</td>\n",
       "      <td>0</td>\n",
       "      <td>0</td>\n",
       "      <td>0</td>\n",
       "      <td>0</td>\n",
       "      <td>0</td>\n",
       "      <td>...</td>\n",
       "      <td>0</td>\n",
       "      <td>0</td>\n",
       "      <td>0</td>\n",
       "      <td>0</td>\n",
       "      <td>0</td>\n",
       "      <td>0</td>\n",
       "      <td>0</td>\n",
       "      <td>0</td>\n",
       "      <td>0</td>\n",
       "      <td>0</td>\n",
       "    </tr>\n",
       "    <tr>\n",
       "      <th>7</th>\n",
       "      <td>0</td>\n",
       "      <td>0</td>\n",
       "      <td>0</td>\n",
       "      <td>0</td>\n",
       "      <td>0</td>\n",
       "      <td>0</td>\n",
       "      <td>0</td>\n",
       "      <td>0</td>\n",
       "      <td>0</td>\n",
       "      <td>0</td>\n",
       "      <td>...</td>\n",
       "      <td>0</td>\n",
       "      <td>0</td>\n",
       "      <td>0</td>\n",
       "      <td>0</td>\n",
       "      <td>0</td>\n",
       "      <td>0</td>\n",
       "      <td>0</td>\n",
       "      <td>0</td>\n",
       "      <td>0</td>\n",
       "      <td>0</td>\n",
       "    </tr>\n",
       "    <tr>\n",
       "      <th>8</th>\n",
       "      <td>0</td>\n",
       "      <td>0</td>\n",
       "      <td>0</td>\n",
       "      <td>0</td>\n",
       "      <td>0</td>\n",
       "      <td>0</td>\n",
       "      <td>0</td>\n",
       "      <td>0</td>\n",
       "      <td>0</td>\n",
       "      <td>0</td>\n",
       "      <td>...</td>\n",
       "      <td>0</td>\n",
       "      <td>0</td>\n",
       "      <td>0</td>\n",
       "      <td>0</td>\n",
       "      <td>0</td>\n",
       "      <td>0</td>\n",
       "      <td>0</td>\n",
       "      <td>0</td>\n",
       "      <td>0</td>\n",
       "      <td>0</td>\n",
       "    </tr>\n",
       "    <tr>\n",
       "      <th>9</th>\n",
       "      <td>0</td>\n",
       "      <td>0</td>\n",
       "      <td>0</td>\n",
       "      <td>0</td>\n",
       "      <td>0</td>\n",
       "      <td>0</td>\n",
       "      <td>0</td>\n",
       "      <td>0</td>\n",
       "      <td>0</td>\n",
       "      <td>0</td>\n",
       "      <td>...</td>\n",
       "      <td>0</td>\n",
       "      <td>0</td>\n",
       "      <td>0</td>\n",
       "      <td>0</td>\n",
       "      <td>0</td>\n",
       "      <td>0</td>\n",
       "      <td>0</td>\n",
       "      <td>0</td>\n",
       "      <td>0</td>\n",
       "      <td>0</td>\n",
       "    </tr>\n",
       "  </tbody>\n",
       "</table>\n",
       "<p>10 rows × 2500 columns</p>\n",
       "</div>"
      ],
      "text/plain": [
       "   100  1000  150  1st  200  2000  2010  2011  2012  2013  ...  young  your  \\\n",
       "0    0     0    0    0    0     0     0     0     0     0  ...      0     0   \n",
       "1    0     0    0    0    0     0     0     0     0     0  ...      0     0   \n",
       "2    0     0    0    0    0     0     0     0     0     0  ...      0     0   \n",
       "3    0     0    0    0    0     0     0     0     0     0  ...      0     0   \n",
       "4    0     0    0    0    0     0     0     0     0     0  ...      0     0   \n",
       "5    0     0    0    0    0     0     0     0     0     0  ...      0     0   \n",
       "6    0     0    0    0    0     0     0     0     0     0  ...      0     0   \n",
       "7    0     0    0    0    0     0     0     0     0     0  ...      0     0   \n",
       "8    0     0    0    0    0     0     0     0     0     0  ...      0     0   \n",
       "9    0     0    0    0    0     0     0     0     0     0  ...      0     0   \n",
       "\n",
       "   youth  youtub  youv  zealand  zero  zine  zombi  zone  \n",
       "0      0       0     0        0     0     0      0     0  \n",
       "1      0       0     0        0     0     0      0     0  \n",
       "2      0       0     0        0     0     0      0     0  \n",
       "3      0       0     0        0     0     0      0     0  \n",
       "4      0       0     0        0     0     0      0     0  \n",
       "5      0       0     0        0     0     0      0     0  \n",
       "6      0       0     0        0     0     0      0     0  \n",
       "7      0       0     0        0     0     0      0     0  \n",
       "8      0       0     0        0     0     0      0     0  \n",
       "9      0       0     0        0     0     0      0     0  \n",
       "\n",
       "[10 rows x 2500 columns]"
      ]
     },
     "execution_count": 29,
     "metadata": {},
     "output_type": "execute_result"
    }
   ],
   "source": [
    "feature_names = cv.get_feature_names()\n",
    "X_df = pd.DataFrame(X, columns=feature_names)\n",
    "X_df.head(10)"
   ]
  },
  {
   "cell_type": "code",
   "execution_count": 10,
   "metadata": {
    "ExecuteTime": {
     "end_time": "2020-04-25T05:38:22.958595Z",
     "start_time": "2020-04-25T05:38:00.439599Z"
    },
    "collapsed": true,
    "jupyter": {
     "outputs_hidden": true
    }
   },
   "outputs": [
    {
     "name": "stdout",
     "output_type": "stream",
     "text": [
      "Collecting wordcloud\n",
      "  Downloading wordcloud-1.6.0-cp37-cp37m-win_amd64.whl (153 kB)\n",
      "Requirement already satisfied: numpy>=1.6.1 in c:\\users\\hi\\anaconda3\\lib\\site-packages (from wordcloud) (1.18.1)\n",
      "Requirement already satisfied: matplotlib in c:\\users\\hi\\anaconda3\\lib\\site-packages (from wordcloud) (3.1.3)\n",
      "Requirement already satisfied: pillow in c:\\users\\hi\\anaconda3\\lib\\site-packages (from wordcloud) (7.0.0)\n",
      "Requirement already satisfied: pyparsing!=2.0.4,!=2.1.2,!=2.1.6,>=2.0.1 in c:\\users\\hi\\anaconda3\\lib\\site-packages (from matplotlib->wordcloud) (2.4.6)\n",
      "Requirement already satisfied: kiwisolver>=1.0.1 in c:\\users\\hi\\anaconda3\\lib\\site-packages (from matplotlib->wordcloud) (1.1.0)\n",
      "Requirement already satisfied: python-dateutil>=2.1 in c:\\users\\hi\\anaconda3\\lib\\site-packages (from matplotlib->wordcloud) (2.8.1)Note: you may need to restart the kernel to use updated packages.\n",
      "Requirement already satisfied: cycler>=0.10 in c:\\users\\hi\\anaconda3\\lib\\site-packages (from matplotlib->wordcloud) (0.10.0)\n",
      "Requirement already satisfied: setuptools in c:\\users\\hi\\anaconda3\\lib\\site-packages (from kiwisolver>=1.0.1->matplotlib->wordcloud) (46.1.3.post20200330)\n",
      "Requirement already satisfied: six>=1.5 in c:\\users\\hi\\anaconda3\\lib\\site-packages (from python-dateutil>=2.1->matplotlib->wordcloud) (1.14.0)\n",
      "Installing collected packages: wordcloud\n",
      "Successfully installed wordcloud-1.6.0\n",
      "\n"
     ]
    }
   ],
   "source": [
    "# pip install wordcloud"
   ]
  },
  {
   "cell_type": "code",
   "execution_count": 13,
   "metadata": {
    "ExecuteTime": {
     "end_time": "2020-04-25T05:42:23.449738Z",
     "start_time": "2020-04-25T05:40:29.838764Z"
    },
    "collapsed": true,
    "jupyter": {
     "outputs_hidden": true
    }
   },
   "outputs": [
    {
     "ename": "KeyboardInterrupt",
     "evalue": "",
     "output_type": "error",
     "traceback": [
      "\u001b[1;31m---------------------------------------------------------------------------\u001b[0m",
      "\u001b[1;31mKeyboardInterrupt\u001b[0m                         Traceback (most recent call last)",
      "\u001b[1;32m<ipython-input-13-b888602bdeb7>\u001b[0m in \u001b[0;36m<module>\u001b[1;34m\u001b[0m\n\u001b[0;32m      4\u001b[0m \u001b[0mtext\u001b[0m\u001b[1;33m=\u001b[0m\u001b[1;34m\"\"\u001b[0m\u001b[1;33m\u001b[0m\u001b[1;33m\u001b[0m\u001b[0m\n\u001b[0;32m      5\u001b[0m \u001b[1;32mfor\u001b[0m \u001b[0mi\u001b[0m \u001b[1;32min\u001b[0m \u001b[0mrange\u001b[0m\u001b[1;33m(\u001b[0m\u001b[0mlen\u001b[0m\u001b[1;33m(\u001b[0m\u001b[0mdf\u001b[0m\u001b[1;33m.\u001b[0m\u001b[0mprocessedtext\u001b[0m\u001b[1;33m)\u001b[0m\u001b[1;33m)\u001b[0m\u001b[1;33m:\u001b[0m\u001b[1;33m\u001b[0m\u001b[1;33m\u001b[0m\u001b[0m\n\u001b[1;32m----> 6\u001b[1;33m     \u001b[0mtext\u001b[0m\u001b[1;33m=\u001b[0m\u001b[0mtext\u001b[0m\u001b[1;33m+\u001b[0m\u001b[0mstr\u001b[0m\u001b[1;33m(\u001b[0m\u001b[0mdf\u001b[0m\u001b[1;33m.\u001b[0m\u001b[0mprocessedtext\u001b[0m\u001b[1;33m[\u001b[0m\u001b[0mi\u001b[0m\u001b[1;33m]\u001b[0m\u001b[1;33m)\u001b[0m\u001b[1;33m\u001b[0m\u001b[1;33m\u001b[0m\u001b[0m\n\u001b[0m\u001b[0;32m      7\u001b[0m \u001b[1;33m\u001b[0m\u001b[0m\n\u001b[0;32m      8\u001b[0m \u001b[0mwordcloud\u001b[0m \u001b[1;33m=\u001b[0m \u001b[0mWordCloud\u001b[0m\u001b[1;33m(\u001b[0m\u001b[0mmax_font_size\u001b[0m\u001b[1;33m=\u001b[0m\u001b[1;36m50\u001b[0m\u001b[1;33m,\u001b[0m \u001b[0mmax_words\u001b[0m\u001b[1;33m=\u001b[0m\u001b[1;36m40\u001b[0m\u001b[1;33m,\u001b[0m\u001b[0mbackground_color\u001b[0m\u001b[1;33m=\u001b[0m\u001b[1;34m\"white\"\u001b[0m\u001b[1;33m)\u001b[0m\u001b[1;33m.\u001b[0m\u001b[0mgenerate\u001b[0m\u001b[1;33m(\u001b[0m\u001b[0mtext\u001b[0m\u001b[1;33m.\u001b[0m\u001b[0mlower\u001b[0m\u001b[1;33m(\u001b[0m\u001b[1;33m)\u001b[0m\u001b[1;33m)\u001b[0m\u001b[1;33m\u001b[0m\u001b[1;33m\u001b[0m\u001b[0m\n",
      "\u001b[1;31mKeyboardInterrupt\u001b[0m: "
     ]
    }
   ],
   "source": [
    "# import wordcloud\n",
    "# from wordcloud import WordCloud \n",
    "# import matplotlib.pyplot as plt\n",
    "# text=\"\"\n",
    "# for i in range(len(df.processedtext)):\n",
    "#     text=text+str(df.processedtext[i])\n",
    "    \n",
    "# wordcloud = WordCloud(max_font_size=50, max_words=40,background_color=\"white\").generate(text.lower())\n",
    "# plt.figure(figsize=(12,5))\n",
    "# plt.imshow(wordcloud, interpolation='bilinear')\n",
    "# plt.axis(\"off\")\n",
    "# plt.show()"
   ]
  },
  {
   "cell_type": "code",
   "execution_count": 44,
   "metadata": {
    "ExecuteTime": {
     "end_time": "2020-04-25T06:50:15.682540Z",
     "start_time": "2020-04-25T06:50:15.661552Z"
    }
   },
   "outputs": [
    {
     "name": "stdout",
     "output_type": "stream",
     "text": [
      "(185996, 2504)\n",
      "(185996, 1)\n",
      "<class 'numpy.ndarray'>\n"
     ]
    }
   ],
   "source": [
    "print(X_all.shape)\n",
    "print(y.shape)\n",
    "print(type(X_all))"
   ]
  },
  {
   "cell_type": "markdown",
   "metadata": {},
   "source": [
    "## Save the text feature matrix for 185996 records"
   ]
  },
  {
   "cell_type": "code",
   "execution_count": 45,
   "metadata": {
    "ExecuteTime": {
     "end_time": "2020-04-25T06:52:00.892352Z",
     "start_time": "2020-04-25T06:50:52.940875Z"
    }
   },
   "outputs": [],
   "source": [
    "from numpy import asarray\n",
    "from numpy import save\n",
    "\n",
    "save('X_textfeatures.npy', X_all)"
   ]
  },
  {
   "cell_type": "code",
   "execution_count": 47,
   "metadata": {
    "ExecuteTime": {
     "end_time": "2020-04-25T06:55:41.564173Z",
     "start_time": "2020-04-25T06:54:32.985752Z"
    }
   },
   "outputs": [],
   "source": [
    "from numpy import load\n",
    "\n",
    "testread= load('X_textfeatures.npy')"
   ]
  },
  {
   "cell_type": "code",
   "execution_count": 48,
   "metadata": {
    "ExecuteTime": {
     "end_time": "2020-04-25T06:56:12.367909Z",
     "start_time": "2020-04-25T06:56:12.268964Z"
    }
   },
   "outputs": [
    {
     "data": {
      "text/plain": [
       "(185996, 2504)"
      ]
     },
     "execution_count": 48,
     "metadata": {},
     "output_type": "execute_result"
    }
   ],
   "source": [
    "testread.shape"
   ]
  },
  {
   "cell_type": "markdown",
   "metadata": {},
   "source": [
    "## Train test split of BOW feature matrix (+ language features) and response"
   ]
  },
  {
   "cell_type": "code",
   "execution_count": 37,
   "metadata": {
    "ExecuteTime": {
     "end_time": "2020-04-25T06:26:19.558545Z",
     "start_time": "2020-04-25T06:26:02.075424Z"
    }
   },
   "outputs": [],
   "source": [
    "# Splitting the dataset into the Training set and Test set\n",
    "from sklearn.model_selection import train_test_split\n",
    "X_train, X_test, y_train, y_test = train_test_split(X_all, y, test_size = 0.20, random_state = 0)"
   ]
  },
  {
   "cell_type": "markdown",
   "metadata": {},
   "source": [
    "## Logistic regression classifier"
   ]
  },
  {
   "cell_type": "code",
   "execution_count": null,
   "metadata": {},
   "outputs": [],
   "source": [
    "from sklearn.linear_model import LogisticRegression\n",
    "LogisticRegression?"
   ]
  },
  {
   "cell_type": "code",
   "execution_count": 38,
   "metadata": {
    "ExecuteTime": {
     "end_time": "2020-04-25T06:26:56.118012Z",
     "start_time": "2020-04-25T06:26:40.679962Z"
    }
   },
   "outputs": [
    {
     "name": "stderr",
     "output_type": "stream",
     "text": [
      "C:\\Users\\Hi\\Anaconda3\\lib\\site-packages\\sklearn\\utils\\validation.py:760: DataConversionWarning:\n",
      "\n",
      "A column-vector y was passed when a 1d array was expected. Please change the shape of y to (n_samples, ), for example using ravel().\n",
      "\n"
     ]
    },
    {
     "data": {
      "text/plain": [
       "LogisticRegression(C=0.1, class_weight=None, dual=False, fit_intercept=True,\n",
       "                   intercept_scaling=1, l1_ratio=None, max_iter=100,\n",
       "                   multi_class='auto', n_jobs=None, penalty='l2',\n",
       "                   random_state=710, solver='liblinear', tol=0.0001, verbose=0,\n",
       "                   warm_start=False)"
      ]
     },
     "execution_count": 38,
     "metadata": {},
     "output_type": "execute_result"
    }
   ],
   "source": [
    "\n",
    "lrmodel = LogisticRegression(penalty='l2',solver='liblinear',C=0.1,random_state=710)\n",
    "lrmodel.fit(X_train, y_train)"
   ]
  },
  {
   "cell_type": "code",
   "execution_count": 39,
   "metadata": {
    "ExecuteTime": {
     "end_time": "2020-04-25T06:27:04.344007Z",
     "start_time": "2020-04-25T06:27:01.514631Z"
    }
   },
   "outputs": [
    {
     "name": "stdout",
     "output_type": "stream",
     "text": [
      "optimum probability is:  [0.5]\n"
     ]
    },
    {
     "data": {
      "image/png": "[encoded data removed]",
      "text/plain": [
       "<Figure size 432x288 with 1 Axes>"
      ]
     },
     "metadata": {
      "needs_background": "light"
     },
     "output_type": "display_data"
    }
   ],
   "source": [
    "pred_test = lrmodel.predict_proba(X_test)\n",
    "y_test_observed = y_test.reshape((y_test.shape[0],1))\n",
    "\n",
    "from sklearn import metrics\n",
    "\n",
    "test_predprob = pred_test[:,1].reshape((y_test.shape[0],1))\n",
    "\n",
    "prob_array = np.around(np.arange(0,0.8,0.05), decimals=2)\n",
    "accscore_array = np.zeros(prob_array.size)\n",
    "i=0\n",
    "for p in prob_array:\n",
    "    y_predicted = (test_predprob>=p)*1\n",
    "    accscore_array[i] = metrics.accuracy_score(y_test_observed,y_predicted)\n",
    "    i=i+1\n",
    "\n",
    "plt.plot(prob_array,accscore_array);\n",
    "\n",
    "print('optimum probability is: ',prob_array[accscore_array == np.max(accscore_array)])"
   ]
  },
  {
   "cell_type": "markdown",
   "metadata": {},
   "source": [
    "# Import feature matrix for other features and combine with text features"
   ]
  },
  {
   "cell_type": "code",
   "execution_count": 8,
   "metadata": {
    "ExecuteTime": {
     "end_time": "2020-04-26T00:44:22.095085Z",
     "start_time": "2020-04-26T00:43:42.080836Z"
    }
   },
   "outputs": [],
   "source": [
    "from numpy import load\n",
    "\n",
    "X_text= load('X_textfeatures.npy')\n",
    "# X_other = load('X_otherfeatures.npy')"
   ]
  },
  {
   "cell_type": "code",
   "execution_count": 77,
   "metadata": {
    "ExecuteTime": {
     "end_time": "2020-04-25T23:12:52.937793Z",
     "start_time": "2020-04-25T23:12:52.931796Z"
    }
   },
   "outputs": [
    {
     "name": "stdout",
     "output_type": "stream",
     "text": [
      "(185996, 2504)\n",
      "(185996, 45)\n",
      "(185996, 2)\n"
     ]
    }
   ],
   "source": [
    "print(X_text.shape)\n",
    "print(X_other.shape)\n",
    "print(subcateg_features.shape)"
   ]
  },
  {
   "cell_type": "markdown",
   "metadata": {},
   "source": [
    "## Create a feature matrix without text features and export"
   ]
  },
  {
   "cell_type": "code",
   "execution_count": 78,
   "metadata": {
    "ExecuteTime": {
     "end_time": "2020-04-25T23:14:48.269096Z",
     "start_time": "2020-04-25T23:14:48.086748Z"
    }
   },
   "outputs": [],
   "source": [
    "X_master_nontext = np.concatenate((X_other,subcateg_features),axis=1)"
   ]
  },
  {
   "cell_type": "code",
   "execution_count": 9,
   "metadata": {
    "ExecuteTime": {
     "end_time": "2020-04-26T00:44:33.077033Z",
     "start_time": "2020-04-26T00:44:32.282730Z"
    }
   },
   "outputs": [],
   "source": [
    "# X_master_nontext.shape\n",
    "from numpy import save\n",
    "from numpy import load\n",
    "\n",
    "# save('X_master_nontext.npy', X_master_nontext)\n",
    "X_master_nontext = load('X_master_nontext.npy')"
   ]
  },
  {
   "cell_type": "code",
   "execution_count": 14,
   "metadata": {
    "ExecuteTime": {
     "end_time": "2020-04-25T20:33:31.362339Z",
     "start_time": "2020-04-25T20:33:31.315365Z"
    },
    "scrolled": true
   },
   "outputs": [
    {
     "data": {
      "text/html": [
       "<div>\n",
       "<style scoped>\n",
       "    .dataframe tbody tr th:only-of-type {\n",
       "        vertical-align: middle;\n",
       "    }\n",
       "\n",
       "    .dataframe tbody tr th {\n",
       "        vertical-align: top;\n",
       "    }\n",
       "\n",
       "    .dataframe thead th {\n",
       "        text-align: right;\n",
       "    }\n",
       "</style>\n",
       "<table border=\"1\" class=\"dataframe\">\n",
       "  <thead>\n",
       "    <tr style=\"text-align: right;\">\n",
       "      <th></th>\n",
       "      <th>backers_count</th>\n",
       "      <th>blurb</th>\n",
       "      <th>category</th>\n",
       "      <th>converted_pledged_amount</th>\n",
       "      <th>country</th>\n",
       "      <th>country_displayable_name</th>\n",
       "      <th>created_at</th>\n",
       "      <th>creator</th>\n",
       "      <th>currency</th>\n",
       "      <th>currency_symbol</th>\n",
       "      <th>...</th>\n",
       "      <th>source_url</th>\n",
       "      <th>spotlight</th>\n",
       "      <th>staff_pick</th>\n",
       "      <th>state</th>\n",
       "      <th>state_changed_at</th>\n",
       "      <th>static_usd_rate</th>\n",
       "      <th>urls</th>\n",
       "      <th>usd_pledged</th>\n",
       "      <th>usd_type</th>\n",
       "      <th>response</th>\n",
       "    </tr>\n",
       "  </thead>\n",
       "  <tbody>\n",
       "    <tr>\n",
       "      <th>211260</th>\n",
       "      <td>87</td>\n",
       "      <td>Introducing the world's first intelligent vide...</td>\n",
       "      <td>{\"id\":337,\"name\":\"Gadgets\",\"slug\":\"technology/...</td>\n",
       "      <td>13665.0</td>\n",
       "      <td>US</td>\n",
       "      <td>the United States</td>\n",
       "      <td>1458235981</td>\n",
       "      <td>{\"id\":2051395662,\"name\":\"Cinch Gaming\",\"slug\":...</td>\n",
       "      <td>USD</td>\n",
       "      <td>$</td>\n",
       "      <td>...</td>\n",
       "      <td>https://www.kickstarter.com/discover/categorie...</td>\n",
       "      <td>True</td>\n",
       "      <td>False</td>\n",
       "      <td>successful</td>\n",
       "      <td>1462554650</td>\n",
       "      <td>1.000000</td>\n",
       "      <td>{\"web\":{\"project\":\"https://www.kickstarter.com...</td>\n",
       "      <td>13665.000000</td>\n",
       "      <td>domestic</td>\n",
       "      <td>1</td>\n",
       "    </tr>\n",
       "    <tr>\n",
       "      <th>211261</th>\n",
       "      <td>86</td>\n",
       "      <td>\"Thank You For Choosing This Reality\" - Releas...</td>\n",
       "      <td>{\"id\":44,\"name\":\"World Music\",\"slug\":\"music/wo...</td>\n",
       "      <td>3072.0</td>\n",
       "      <td>GB</td>\n",
       "      <td>the United Kingdom</td>\n",
       "      <td>1538861442</td>\n",
       "      <td>{\"id\":219776188,\"name\":\"Patita Pavana Das\",\"is...</td>\n",
       "      <td>GBP</td>\n",
       "      <td>£</td>\n",
       "      <td>...</td>\n",
       "      <td>https://www.kickstarter.com/discover/categorie...</td>\n",
       "      <td>True</td>\n",
       "      <td>False</td>\n",
       "      <td>successful</td>\n",
       "      <td>1540191600</td>\n",
       "      <td>1.311699</td>\n",
       "      <td>{\"web\":{\"project\":\"https://www.kickstarter.com...</td>\n",
       "      <td>3082.728850</td>\n",
       "      <td>international</td>\n",
       "      <td>1</td>\n",
       "    </tr>\n",
       "    <tr>\n",
       "      <th>211262</th>\n",
       "      <td>357</td>\n",
       "      <td>They've splattered the stage, now they wanna s...</td>\n",
       "      <td>{\"id\":250,\"name\":\"Comic Books\",\"slug\":\"comics/...</td>\n",
       "      <td>16699.0</td>\n",
       "      <td>US</td>\n",
       "      <td>the United States</td>\n",
       "      <td>1563986834</td>\n",
       "      <td>{\"id\":1580350557,\"name\":\"Ross Sewage\",\"is_regi...</td>\n",
       "      <td>USD</td>\n",
       "      <td>$</td>\n",
       "      <td>...</td>\n",
       "      <td>https://www.kickstarter.com/discover/categorie...</td>\n",
       "      <td>True</td>\n",
       "      <td>True</td>\n",
       "      <td>successful</td>\n",
       "      <td>1569437212</td>\n",
       "      <td>1.000000</td>\n",
       "      <td>{\"web\":{\"project\":\"https://www.kickstarter.com...</td>\n",
       "      <td>16699.660000</td>\n",
       "      <td>domestic</td>\n",
       "      <td>1</td>\n",
       "    </tr>\n",
       "    <tr>\n",
       "      <th>211263</th>\n",
       "      <td>6</td>\n",
       "      <td>Empowering spirited girls to embrace their ind...</td>\n",
       "      <td>{\"id\":264,\"name\":\"Childrenswear\",\"slug\":\"fashi...</td>\n",
       "      <td>325.0</td>\n",
       "      <td>US</td>\n",
       "      <td>the United States</td>\n",
       "      <td>1476821592</td>\n",
       "      <td>{\"id\":1752743711,\"name\":\"Tricia Steffes\",\"is_r...</td>\n",
       "      <td>USD</td>\n",
       "      <td>$</td>\n",
       "      <td>...</td>\n",
       "      <td>https://www.kickstarter.com/discover/categorie...</td>\n",
       "      <td>False</td>\n",
       "      <td>False</td>\n",
       "      <td>failed</td>\n",
       "      <td>1483565240</td>\n",
       "      <td>1.000000</td>\n",
       "      <td>{\"web\":{\"project\":\"https://www.kickstarter.com...</td>\n",
       "      <td>325.000000</td>\n",
       "      <td>domestic</td>\n",
       "      <td>0</td>\n",
       "    </tr>\n",
       "    <tr>\n",
       "      <th>211264</th>\n",
       "      <td>375</td>\n",
       "      <td>The world's fastest recycled toy and science p...</td>\n",
       "      <td>{\"id\":337,\"name\":\"Gadgets\",\"slug\":\"technology/...</td>\n",
       "      <td>82450.0</td>\n",
       "      <td>US</td>\n",
       "      <td>the United States</td>\n",
       "      <td>1494861131</td>\n",
       "      <td>{\"id\":2021113368,\"name\":\"Strawbees\",\"slug\":\"st...</td>\n",
       "      <td>USD</td>\n",
       "      <td>$</td>\n",
       "      <td>...</td>\n",
       "      <td>https://www.kickstarter.com/discover/categorie...</td>\n",
       "      <td>True</td>\n",
       "      <td>True</td>\n",
       "      <td>successful</td>\n",
       "      <td>1500216689</td>\n",
       "      <td>1.000000</td>\n",
       "      <td>{\"web\":{\"project\":\"https://www.kickstarter.com...</td>\n",
       "      <td>82450.000000</td>\n",
       "      <td>domestic</td>\n",
       "      <td>1</td>\n",
       "    </tr>\n",
       "    <tr>\n",
       "      <th>211265</th>\n",
       "      <td>149</td>\n",
       "      <td>Support our mission to create Upstate New York...</td>\n",
       "      <td>{\"id\":315,\"name\":\"Vegan\",\"slug\":\"food/vegan\",\"...</td>\n",
       "      <td>11803.0</td>\n",
       "      <td>US</td>\n",
       "      <td>the United States</td>\n",
       "      <td>1545153768</td>\n",
       "      <td>{\"id\":353417043,\"name\":\"Parlor City Vegan\",\"sl...</td>\n",
       "      <td>USD</td>\n",
       "      <td>$</td>\n",
       "      <td>...</td>\n",
       "      <td>https://www.kickstarter.com/discover/categorie...</td>\n",
       "      <td>True</td>\n",
       "      <td>True</td>\n",
       "      <td>successful</td>\n",
       "      <td>1550356955</td>\n",
       "      <td>1.000000</td>\n",
       "      <td>{\"web\":{\"project\":\"https://www.kickstarter.com...</td>\n",
       "      <td>11803.000000</td>\n",
       "      <td>international</td>\n",
       "      <td>1</td>\n",
       "    </tr>\n",
       "    <tr>\n",
       "      <th>211266</th>\n",
       "      <td>11</td>\n",
       "      <td>Providing opportunity for young people aged 11...</td>\n",
       "      <td>{\"id\":284,\"name\":\"Musical\",\"slug\":\"theater/mus...</td>\n",
       "      <td>152.0</td>\n",
       "      <td>GB</td>\n",
       "      <td>the United Kingdom</td>\n",
       "      <td>1561986380</td>\n",
       "      <td>{\"id\":2138608723,\"name\":\"The Montgomery\",\"slug...</td>\n",
       "      <td>GBP</td>\n",
       "      <td>£</td>\n",
       "      <td>...</td>\n",
       "      <td>https://www.kickstarter.com/discover/categorie...</td>\n",
       "      <td>False</td>\n",
       "      <td>False</td>\n",
       "      <td>failed</td>\n",
       "      <td>1564956000</td>\n",
       "      <td>1.263801</td>\n",
       "      <td>{\"web\":{\"project\":\"https://www.kickstarter.com...</td>\n",
       "      <td>157.975088</td>\n",
       "      <td>domestic</td>\n",
       "      <td>0</td>\n",
       "    </tr>\n",
       "    <tr>\n",
       "      <th>211267</th>\n",
       "      <td>11</td>\n",
       "      <td>A collection of enamel pins inspired by horror...</td>\n",
       "      <td>{\"id\":262,\"name\":\"Accessories\",\"slug\":\"fashion...</td>\n",
       "      <td>387.0</td>\n",
       "      <td>US</td>\n",
       "      <td>the United States</td>\n",
       "      <td>1572201792</td>\n",
       "      <td>{\"id\":465999323,\"name\":\"Kowai Enamel\",\"slug\":\"...</td>\n",
       "      <td>USD</td>\n",
       "      <td>$</td>\n",
       "      <td>...</td>\n",
       "      <td>https://www.kickstarter.com/discover/categorie...</td>\n",
       "      <td>True</td>\n",
       "      <td>False</td>\n",
       "      <td>successful</td>\n",
       "      <td>1574190263</td>\n",
       "      <td>1.000000</td>\n",
       "      <td>{\"web\":{\"project\":\"https://www.kickstarter.com...</td>\n",
       "      <td>387.000000</td>\n",
       "      <td>domestic</td>\n",
       "      <td>1</td>\n",
       "    </tr>\n",
       "    <tr>\n",
       "      <th>211268</th>\n",
       "      <td>59</td>\n",
       "      <td>A full length Bitches in the Beehive album, re...</td>\n",
       "      <td>{\"id\":40,\"name\":\"Indie Rock\",\"slug\":\"music/ind...</td>\n",
       "      <td>4360.0</td>\n",
       "      <td>US</td>\n",
       "      <td>the United States</td>\n",
       "      <td>1500159408</td>\n",
       "      <td>{\"id\":1489286499,\"name\":\"Bitches in the Beehiv...</td>\n",
       "      <td>USD</td>\n",
       "      <td>$</td>\n",
       "      <td>...</td>\n",
       "      <td>https://www.kickstarter.com/discover/categorie...</td>\n",
       "      <td>True</td>\n",
       "      <td>False</td>\n",
       "      <td>successful</td>\n",
       "      <td>1507232891</td>\n",
       "      <td>1.000000</td>\n",
       "      <td>{\"web\":{\"project\":\"https://www.kickstarter.com...</td>\n",
       "      <td>4360.000000</td>\n",
       "      <td>domestic</td>\n",
       "      <td>1</td>\n",
       "    </tr>\n",
       "    <tr>\n",
       "      <th>211269</th>\n",
       "      <td>33</td>\n",
       "      <td>Primer disco de AryaTara/ AryaTara first recor...</td>\n",
       "      <td>{\"id\":44,\"name\":\"World Music\",\"slug\":\"music/wo...</td>\n",
       "      <td>1813.0</td>\n",
       "      <td>MX</td>\n",
       "      <td>Mexico</td>\n",
       "      <td>1535473428</td>\n",
       "      <td>{\"id\":1679171318,\"name\":\"AryaTara - Primer dis...</td>\n",
       "      <td>MXN</td>\n",
       "      <td>$</td>\n",
       "      <td>...</td>\n",
       "      <td>https://www.kickstarter.com/discover/categorie...</td>\n",
       "      <td>True</td>\n",
       "      <td>True</td>\n",
       "      <td>successful</td>\n",
       "      <td>1541083458</td>\n",
       "      <td>0.053020</td>\n",
       "      <td>{\"web\":{\"project\":\"https://www.kickstarter.com...</td>\n",
       "      <td>1950.023010</td>\n",
       "      <td>international</td>\n",
       "      <td>1</td>\n",
       "    </tr>\n",
       "    <tr>\n",
       "      <th>211270</th>\n",
       "      <td>108</td>\n",
       "      <td>The debut album from KC's new Celtic \"Supergroup\"</td>\n",
       "      <td>{\"id\":44,\"name\":\"World Music\",\"slug\":\"music/wo...</td>\n",
       "      <td>11880.0</td>\n",
       "      <td>US</td>\n",
       "      <td>the United States</td>\n",
       "      <td>1567035636</td>\n",
       "      <td>{\"id\":51012758,\"name\":\"Sean Foree\",\"slug\":\"don...</td>\n",
       "      <td>USD</td>\n",
       "      <td>$</td>\n",
       "      <td>...</td>\n",
       "      <td>https://www.kickstarter.com/discover/categorie...</td>\n",
       "      <td>True</td>\n",
       "      <td>True</td>\n",
       "      <td>successful</td>\n",
       "      <td>1571115540</td>\n",
       "      <td>1.000000</td>\n",
       "      <td>{\"web\":{\"project\":\"https://www.kickstarter.com...</td>\n",
       "      <td>11880.000000</td>\n",
       "      <td>international</td>\n",
       "      <td>1</td>\n",
       "    </tr>\n",
       "  </tbody>\n",
       "</table>\n",
       "<p>11 rows × 39 columns</p>\n",
       "</div>"
      ],
      "text/plain": [
       "        backers_count                                              blurb  \\\n",
       "211260             87  Introducing the world's first intelligent vide...   \n",
       "211261             86  \"Thank You For Choosing This Reality\" - Releas...   \n",
       "211262            357  They've splattered the stage, now they wanna s...   \n",
       "211263              6  Empowering spirited girls to embrace their ind...   \n",
       "211264            375  The world's fastest recycled toy and science p...   \n",
       "211265            149  Support our mission to create Upstate New York...   \n",
       "211266             11  Providing opportunity for young people aged 11...   \n",
       "211267             11  A collection of enamel pins inspired by horror...   \n",
       "211268             59  A full length Bitches in the Beehive album, re...   \n",
       "211269             33  Primer disco de AryaTara/ AryaTara first recor...   \n",
       "211270            108  The debut album from KC's new Celtic \"Supergroup\"   \n",
       "\n",
       "                                                 category  \\\n",
       "211260  {\"id\":337,\"name\":\"Gadgets\",\"slug\":\"technology/...   \n",
       "211261  {\"id\":44,\"name\":\"World Music\",\"slug\":\"music/wo...   \n",
       "211262  {\"id\":250,\"name\":\"Comic Books\",\"slug\":\"comics/...   \n",
       "211263  {\"id\":264,\"name\":\"Childrenswear\",\"slug\":\"fashi...   \n",
       "211264  {\"id\":337,\"name\":\"Gadgets\",\"slug\":\"technology/...   \n",
       "211265  {\"id\":315,\"name\":\"Vegan\",\"slug\":\"food/vegan\",\"...   \n",
       "211266  {\"id\":284,\"name\":\"Musical\",\"slug\":\"theater/mus...   \n",
       "211267  {\"id\":262,\"name\":\"Accessories\",\"slug\":\"fashion...   \n",
       "211268  {\"id\":40,\"name\":\"Indie Rock\",\"slug\":\"music/ind...   \n",
       "211269  {\"id\":44,\"name\":\"World Music\",\"slug\":\"music/wo...   \n",
       "211270  {\"id\":44,\"name\":\"World Music\",\"slug\":\"music/wo...   \n",
       "\n",
       "        converted_pledged_amount country country_displayable_name  created_at  \\\n",
       "211260                   13665.0      US        the United States  1458235981   \n",
       "211261                    3072.0      GB       the United Kingdom  1538861442   \n",
       "211262                   16699.0      US        the United States  1563986834   \n",
       "211263                     325.0      US        the United States  1476821592   \n",
       "211264                   82450.0      US        the United States  1494861131   \n",
       "211265                   11803.0      US        the United States  1545153768   \n",
       "211266                     152.0      GB       the United Kingdom  1561986380   \n",
       "211267                     387.0      US        the United States  1572201792   \n",
       "211268                    4360.0      US        the United States  1500159408   \n",
       "211269                    1813.0      MX                   Mexico  1535473428   \n",
       "211270                   11880.0      US        the United States  1567035636   \n",
       "\n",
       "                                                  creator currency  \\\n",
       "211260  {\"id\":2051395662,\"name\":\"Cinch Gaming\",\"slug\":...      USD   \n",
       "211261  {\"id\":219776188,\"name\":\"Patita Pavana Das\",\"is...      GBP   \n",
       "211262  {\"id\":1580350557,\"name\":\"Ross Sewage\",\"is_regi...      USD   \n",
       "211263  {\"id\":1752743711,\"name\":\"Tricia Steffes\",\"is_r...      USD   \n",
       "211264  {\"id\":2021113368,\"name\":\"Strawbees\",\"slug\":\"st...      USD   \n",
       "211265  {\"id\":353417043,\"name\":\"Parlor City Vegan\",\"sl...      USD   \n",
       "211266  {\"id\":2138608723,\"name\":\"The Montgomery\",\"slug...      GBP   \n",
       "211267  {\"id\":465999323,\"name\":\"Kowai Enamel\",\"slug\":\"...      USD   \n",
       "211268  {\"id\":1489286499,\"name\":\"Bitches in the Beehiv...      USD   \n",
       "211269  {\"id\":1679171318,\"name\":\"AryaTara - Primer dis...      MXN   \n",
       "211270  {\"id\":51012758,\"name\":\"Sean Foree\",\"slug\":\"don...      USD   \n",
       "\n",
       "       currency_symbol  ...  \\\n",
       "211260               $  ...   \n",
       "211261               £  ...   \n",
       "211262               $  ...   \n",
       "211263               $  ...   \n",
       "211264               $  ...   \n",
       "211265               $  ...   \n",
       "211266               £  ...   \n",
       "211267               $  ...   \n",
       "211268               $  ...   \n",
       "211269               $  ...   \n",
       "211270               $  ...   \n",
       "\n",
       "                                               source_url spotlight  \\\n",
       "211260  https://www.kickstarter.com/discover/categorie...      True   \n",
       "211261  https://www.kickstarter.com/discover/categorie...      True   \n",
       "211262  https://www.kickstarter.com/discover/categorie...      True   \n",
       "211263  https://www.kickstarter.com/discover/categorie...     False   \n",
       "211264  https://www.kickstarter.com/discover/categorie...      True   \n",
       "211265  https://www.kickstarter.com/discover/categorie...      True   \n",
       "211266  https://www.kickstarter.com/discover/categorie...     False   \n",
       "211267  https://www.kickstarter.com/discover/categorie...      True   \n",
       "211268  https://www.kickstarter.com/discover/categorie...      True   \n",
       "211269  https://www.kickstarter.com/discover/categorie...      True   \n",
       "211270  https://www.kickstarter.com/discover/categorie...      True   \n",
       "\n",
       "        staff_pick       state state_changed_at  static_usd_rate  \\\n",
       "211260       False  successful       1462554650         1.000000   \n",
       "211261       False  successful       1540191600         1.311699   \n",
       "211262        True  successful       1569437212         1.000000   \n",
       "211263       False      failed       1483565240         1.000000   \n",
       "211264        True  successful       1500216689         1.000000   \n",
       "211265        True  successful       1550356955         1.000000   \n",
       "211266       False      failed       1564956000         1.263801   \n",
       "211267       False  successful       1574190263         1.000000   \n",
       "211268       False  successful       1507232891         1.000000   \n",
       "211269        True  successful       1541083458         0.053020   \n",
       "211270        True  successful       1571115540         1.000000   \n",
       "\n",
       "                                                     urls   usd_pledged  \\\n",
       "211260  {\"web\":{\"project\":\"https://www.kickstarter.com...  13665.000000   \n",
       "211261  {\"web\":{\"project\":\"https://www.kickstarter.com...   3082.728850   \n",
       "211262  {\"web\":{\"project\":\"https://www.kickstarter.com...  16699.660000   \n",
       "211263  {\"web\":{\"project\":\"https://www.kickstarter.com...    325.000000   \n",
       "211264  {\"web\":{\"project\":\"https://www.kickstarter.com...  82450.000000   \n",
       "211265  {\"web\":{\"project\":\"https://www.kickstarter.com...  11803.000000   \n",
       "211266  {\"web\":{\"project\":\"https://www.kickstarter.com...    157.975088   \n",
       "211267  {\"web\":{\"project\":\"https://www.kickstarter.com...    387.000000   \n",
       "211268  {\"web\":{\"project\":\"https://www.kickstarter.com...   4360.000000   \n",
       "211269  {\"web\":{\"project\":\"https://www.kickstarter.com...   1950.023010   \n",
       "211270  {\"web\":{\"project\":\"https://www.kickstarter.com...  11880.000000   \n",
       "\n",
       "             usd_type  response  \n",
       "211260       domestic         1  \n",
       "211261  international         1  \n",
       "211262       domestic         1  \n",
       "211263       domestic         0  \n",
       "211264       domestic         1  \n",
       "211265  international         1  \n",
       "211266       domestic         0  \n",
       "211267       domestic         1  \n",
       "211268       domestic         1  \n",
       "211269  international         1  \n",
       "211270  international         1  \n",
       "\n",
       "[11 rows x 39 columns]"
      ]
     },
     "metadata": {},
     "output_type": "display_data"
    }
   ],
   "source": [
    "display(input.iloc[185993:,:])"
   ]
  },
  {
   "cell_type": "markdown",
   "metadata": {},
   "source": [
    "## Create a Master matrix with Text features"
   ]
  },
  {
   "cell_type": "code",
   "execution_count": 10,
   "metadata": {
    "ExecuteTime": {
     "end_time": "2020-04-26T00:44:49.389329Z",
     "start_time": "2020-04-26T00:44:46.701867Z"
    }
   },
   "outputs": [],
   "source": [
    "X_master_withtext = np.concatenate((X_master_nontext,X_text),axis=1)"
   ]
  },
  {
   "cell_type": "code",
   "execution_count": 11,
   "metadata": {
    "ExecuteTime": {
     "end_time": "2020-04-26T00:44:54.727516Z",
     "start_time": "2020-04-26T00:44:54.717519Z"
    },
    "scrolled": true
   },
   "outputs": [
    {
     "data": {
      "text/plain": [
       "(185996, 2551)"
      ]
     },
     "execution_count": 11,
     "metadata": {},
     "output_type": "execute_result"
    }
   ],
   "source": [
    "X_master_withtext.shape"
   ]
  },
  {
   "cell_type": "code",
   "execution_count": null,
   "metadata": {},
   "outputs": [],
   "source": []
  },
  {
   "cell_type": "code",
   "execution_count": 85,
   "metadata": {
    "ExecuteTime": {
     "end_time": "2020-04-25T23:47:07.651335Z",
     "start_time": "2020-04-25T23:47:07.624355Z"
    },
    "collapsed": true,
    "jupyter": {
     "outputs_hidden": true
    }
   },
   "outputs": [
    {
     "ename": "KeyError",
     "evalue": "\"None of [Index(['response'], dtype='object')] are in the [columns]\"",
     "output_type": "error",
     "traceback": [
      "\u001b[1;31m---------------------------------------------------------------------------\u001b[0m",
      "\u001b[1;31mKeyError\u001b[0m                                  Traceback (most recent call last)",
      "\u001b[1;32m<ipython-input-85-d2ae505c5c36>\u001b[0m in \u001b[0;36m<module>\u001b[1;34m\u001b[0m\n\u001b[1;32m----> 1\u001b[1;33m \u001b[0my\u001b[0m\u001b[1;33m=\u001b[0m\u001b[0mnp\u001b[0m\u001b[1;33m.\u001b[0m\u001b[0marray\u001b[0m\u001b[1;33m(\u001b[0m\u001b[0mdf\u001b[0m\u001b[1;33m[\u001b[0m\u001b[1;33m[\u001b[0m\u001b[1;34m'response'\u001b[0m\u001b[1;33m]\u001b[0m\u001b[1;33m]\u001b[0m\u001b[1;33m)\u001b[0m\u001b[1;33m\u001b[0m\u001b[1;33m\u001b[0m\u001b[0m\n\u001b[0m\u001b[0;32m      2\u001b[0m \u001b[0my\u001b[0m\u001b[1;33m.\u001b[0m\u001b[0mshape\u001b[0m\u001b[1;33m\u001b[0m\u001b[1;33m\u001b[0m\u001b[0m\n",
      "\u001b[1;32m~\\Anaconda3\\lib\\site-packages\\pandas\\core\\frame.py\u001b[0m in \u001b[0;36m__getitem__\u001b[1;34m(self, key)\u001b[0m\n\u001b[0;32m   2804\u001b[0m             \u001b[1;32mif\u001b[0m \u001b[0mis_iterator\u001b[0m\u001b[1;33m(\u001b[0m\u001b[0mkey\u001b[0m\u001b[1;33m)\u001b[0m\u001b[1;33m:\u001b[0m\u001b[1;33m\u001b[0m\u001b[1;33m\u001b[0m\u001b[0m\n\u001b[0;32m   2805\u001b[0m                 \u001b[0mkey\u001b[0m \u001b[1;33m=\u001b[0m \u001b[0mlist\u001b[0m\u001b[1;33m(\u001b[0m\u001b[0mkey\u001b[0m\u001b[1;33m)\u001b[0m\u001b[1;33m\u001b[0m\u001b[1;33m\u001b[0m\u001b[0m\n\u001b[1;32m-> 2806\u001b[1;33m             \u001b[0mindexer\u001b[0m \u001b[1;33m=\u001b[0m \u001b[0mself\u001b[0m\u001b[1;33m.\u001b[0m\u001b[0mloc\u001b[0m\u001b[1;33m.\u001b[0m\u001b[0m_get_listlike_indexer\u001b[0m\u001b[1;33m(\u001b[0m\u001b[0mkey\u001b[0m\u001b[1;33m,\u001b[0m \u001b[0maxis\u001b[0m\u001b[1;33m=\u001b[0m\u001b[1;36m1\u001b[0m\u001b[1;33m,\u001b[0m \u001b[0mraise_missing\u001b[0m\u001b[1;33m=\u001b[0m\u001b[1;32mTrue\u001b[0m\u001b[1;33m)\u001b[0m\u001b[1;33m[\u001b[0m\u001b[1;36m1\u001b[0m\u001b[1;33m]\u001b[0m\u001b[1;33m\u001b[0m\u001b[1;33m\u001b[0m\u001b[0m\n\u001b[0m\u001b[0;32m   2807\u001b[0m \u001b[1;33m\u001b[0m\u001b[0m\n\u001b[0;32m   2808\u001b[0m         \u001b[1;31m# take() does not accept boolean indexers\u001b[0m\u001b[1;33m\u001b[0m\u001b[1;33m\u001b[0m\u001b[1;33m\u001b[0m\u001b[0m\n",
      "\u001b[1;32m~\\Anaconda3\\lib\\site-packages\\pandas\\core\\indexing.py\u001b[0m in \u001b[0;36m_get_listlike_indexer\u001b[1;34m(self, key, axis, raise_missing)\u001b[0m\n\u001b[0;32m   1551\u001b[0m \u001b[1;33m\u001b[0m\u001b[0m\n\u001b[0;32m   1552\u001b[0m         self._validate_read_indexer(\n\u001b[1;32m-> 1553\u001b[1;33m             \u001b[0mkeyarr\u001b[0m\u001b[1;33m,\u001b[0m \u001b[0mindexer\u001b[0m\u001b[1;33m,\u001b[0m \u001b[0mo\u001b[0m\u001b[1;33m.\u001b[0m\u001b[0m_get_axis_number\u001b[0m\u001b[1;33m(\u001b[0m\u001b[0maxis\u001b[0m\u001b[1;33m)\u001b[0m\u001b[1;33m,\u001b[0m \u001b[0mraise_missing\u001b[0m\u001b[1;33m=\u001b[0m\u001b[0mraise_missing\u001b[0m\u001b[1;33m\u001b[0m\u001b[1;33m\u001b[0m\u001b[0m\n\u001b[0m\u001b[0;32m   1554\u001b[0m         )\n\u001b[0;32m   1555\u001b[0m         \u001b[1;32mreturn\u001b[0m \u001b[0mkeyarr\u001b[0m\u001b[1;33m,\u001b[0m \u001b[0mindexer\u001b[0m\u001b[1;33m\u001b[0m\u001b[1;33m\u001b[0m\u001b[0m\n",
      "\u001b[1;32m~\\Anaconda3\\lib\\site-packages\\pandas\\core\\indexing.py\u001b[0m in \u001b[0;36m_validate_read_indexer\u001b[1;34m(self, key, indexer, axis, raise_missing)\u001b[0m\n\u001b[0;32m   1638\u001b[0m             \u001b[1;32mif\u001b[0m \u001b[0mmissing\u001b[0m \u001b[1;33m==\u001b[0m \u001b[0mlen\u001b[0m\u001b[1;33m(\u001b[0m\u001b[0mindexer\u001b[0m\u001b[1;33m)\u001b[0m\u001b[1;33m:\u001b[0m\u001b[1;33m\u001b[0m\u001b[1;33m\u001b[0m\u001b[0m\n\u001b[0;32m   1639\u001b[0m                 \u001b[0maxis_name\u001b[0m \u001b[1;33m=\u001b[0m \u001b[0mself\u001b[0m\u001b[1;33m.\u001b[0m\u001b[0mobj\u001b[0m\u001b[1;33m.\u001b[0m\u001b[0m_get_axis_name\u001b[0m\u001b[1;33m(\u001b[0m\u001b[0maxis\u001b[0m\u001b[1;33m)\u001b[0m\u001b[1;33m\u001b[0m\u001b[1;33m\u001b[0m\u001b[0m\n\u001b[1;32m-> 1640\u001b[1;33m                 \u001b[1;32mraise\u001b[0m \u001b[0mKeyError\u001b[0m\u001b[1;33m(\u001b[0m\u001b[1;34mf\"None of [{key}] are in the [{axis_name}]\"\u001b[0m\u001b[1;33m)\u001b[0m\u001b[1;33m\u001b[0m\u001b[1;33m\u001b[0m\u001b[0m\n\u001b[0m\u001b[0;32m   1641\u001b[0m \u001b[1;33m\u001b[0m\u001b[0m\n\u001b[0;32m   1642\u001b[0m             \u001b[1;31m# We (temporarily) allow for some missing keys with .loc, except in\u001b[0m\u001b[1;33m\u001b[0m\u001b[1;33m\u001b[0m\u001b[1;33m\u001b[0m\u001b[0m\n",
      "\u001b[1;31mKeyError\u001b[0m: \"None of [Index(['response'], dtype='object')] are in the [columns]\""
     ]
    }
   ],
   "source": [
    "y=np.array(df[['response']])\n",
    "y.shape"
   ]
  },
  {
   "cell_type": "markdown",
   "metadata": {},
   "source": [
    "# Pre-launch Modeling on master without text features"
   ]
  },
  {
   "cell_type": "markdown",
   "metadata": {},
   "source": [
    "This feature matrix will include all features except the text features and the 1st \"No_of_backers\" feature (Col. selected from 1 onwards) in \"X\" below"
   ]
  },
  {
   "cell_type": "code",
   "execution_count": 94,
   "metadata": {
    "ExecuteTime": {
     "end_time": "2020-04-26T00:02:14.515530Z",
     "start_time": "2020-04-26T00:02:14.503536Z"
    }
   },
   "outputs": [
    {
     "name": "stdout",
     "output_type": "stream",
     "text": [
      "(185996, 46)\n",
      "(185996, 1)\n"
     ]
    }
   ],
   "source": [
    "X = X_master_nontext[:,1:]\n",
    "y = np.array(df[['response']])\n",
    "\n",
    "print(X.shape)\n",
    "print(y.shape)"
   ]
  },
  {
   "cell_type": "code",
   "execution_count": 95,
   "metadata": {
    "ExecuteTime": {
     "end_time": "2020-04-26T00:04:17.292983Z",
     "start_time": "2020-04-26T00:04:16.818499Z"
    }
   },
   "outputs": [],
   "source": [
    "#Create test set\n",
    "from sklearn.model_selection import train_test_split\n",
    "X_trainVal, X_test, y_trainVal, y_test = train_test_split(X, y, test_size = 0.20, random_state = 710)\n",
    "\n",
    "#Create validation set\n",
    "\n",
    "X_train, X_val, y_train, y_val = train_test_split(X_trainVal, y_trainVal, test_size = 0.10, random_state = 710)"
   ]
  },
  {
   "cell_type": "code",
   "execution_count": 96,
   "metadata": {
    "ExecuteTime": {
     "end_time": "2020-04-26T00:06:31.781655Z",
     "start_time": "2020-04-26T00:06:31.775661Z"
    }
   },
   "outputs": [
    {
     "name": "stdout",
     "output_type": "stream",
     "text": [
      "(133916, 46)\n",
      "(14880, 46)\n",
      "(37200, 46)\n"
     ]
    }
   ],
   "source": [
    "print(X_train.shape)\n",
    "print(X_val.shape)\n",
    "print(X_test.shape)"
   ]
  },
  {
   "cell_type": "markdown",
   "metadata": {},
   "source": [
    "## Logistic model"
   ]
  },
  {
   "cell_type": "code",
   "execution_count": 97,
   "metadata": {
    "ExecuteTime": {
     "end_time": "2020-04-26T00:07:22.072972Z",
     "start_time": "2020-04-26T00:07:21.274110Z"
    }
   },
   "outputs": [
    {
     "name": "stderr",
     "output_type": "stream",
     "text": [
      "C:\\Users\\Hi\\Anaconda3\\lib\\site-packages\\sklearn\\utils\\validation.py:760: DataConversionWarning:\n",
      "\n",
      "A column-vector y was passed when a 1d array was expected. Please change the shape of y to (n_samples, ), for example using ravel().\n",
      "\n"
     ]
    },
    {
     "data": {
      "text/plain": [
       "LogisticRegression(C=0.1, class_weight=None, dual=False, fit_intercept=True,\n",
       "                   intercept_scaling=1, l1_ratio=None, max_iter=100,\n",
       "                   multi_class='auto', n_jobs=None, penalty='l1',\n",
       "                   random_state=710, solver='liblinear', tol=0.0001, verbose=0,\n",
       "                   warm_start=False)"
      ]
     },
     "execution_count": 97,
     "metadata": {},
     "output_type": "execute_result"
    }
   ],
   "source": [
    "from sklearn.linear_model import LogisticRegression\n",
    "\n",
    "lrmodel = LogisticRegression(penalty='l1',solver='liblinear',C=0.1,random_state=710)\n",
    "lrmodel.fit(X_train, y_train)"
   ]
  },
  {
   "cell_type": "markdown",
   "metadata": {},
   "source": [
    "### Choosing optimum pcutoff using validation"
   ]
  },
  {
   "cell_type": "code",
   "execution_count": 98,
   "metadata": {
    "ExecuteTime": {
     "end_time": "2020-04-26T00:08:52.206266Z",
     "start_time": "2020-04-26T00:08:51.023893Z"
    }
   },
   "outputs": [
    {
     "name": "stdout",
     "output_type": "stream",
     "text": [
      "optimum probability is:  [0.5]\n"
     ]
    },
    {
     "data": {
      "image/png": "[encoded data removed]",
      "text/plain": [
       "<Figure size 432x288 with 1 Axes>"
      ]
     },
     "metadata": {
      "needs_background": "light"
     },
     "output_type": "display_data"
    }
   ],
   "source": [
    "pred_val = lrmodel.predict_proba(X_val)\n",
    "y_val_observed = y_val.reshape((y_val.shape[0],1))\n",
    "\n",
    "from sklearn import metrics\n",
    "\n",
    "val_predprob = pred_val[:,1].reshape((y_val.shape[0],1))\n",
    "\n",
    "prob_array = np.around(np.arange(0,0.8,0.05), decimals=2)\n",
    "accscore_array = np.zeros(prob_array.size)\n",
    "i=0\n",
    "for p in prob_array:\n",
    "    y_predicted = (val_predprob>=p)*1\n",
    "    accscore_array[i] = metrics.accuracy_score(y_val_observed,y_predicted)\n",
    "    i=i+1\n",
    "\n",
    "plt.plot(prob_array,accscore_array);\n",
    "\n",
    "print('optimum probability is: ',prob_array[accscore_array == np.max(accscore_array)])"
   ]
  },
  {
   "cell_type": "code",
   "execution_count": 99,
   "metadata": {
    "ExecuteTime": {
     "end_time": "2020-04-26T00:12:59.909072Z",
     "start_time": "2020-04-26T00:12:59.890085Z"
    }
   },
   "outputs": [
    {
     "name": "stdout",
     "output_type": "stream",
     "text": [
      "test accuracy:  0.6656720430107527\n"
     ]
    }
   ],
   "source": [
    "# Predict on test using 0.5 prob\n",
    "\n",
    "pred_test = lrmodel.predict(X_test)\n",
    "y_test_observed = y_test.reshape((y_test.shape[0],1))\n",
    "\n",
    "print('test accuracy: ',metrics.accuracy_score(y_test_observed,pred_test))"
   ]
  },
  {
   "cell_type": "markdown",
   "metadata": {},
   "source": [
    "# Pre-launch Modeling on Master feature dataset with  text"
   ]
  },
  {
   "cell_type": "markdown",
   "metadata": {},
   "source": [
    "## Train test split"
   ]
  },
  {
   "cell_type": "code",
   "execution_count": 12,
   "metadata": {
    "ExecuteTime": {
     "end_time": "2020-04-26T00:45:09.013410Z",
     "start_time": "2020-04-26T00:45:09.003417Z"
    }
   },
   "outputs": [
    {
     "name": "stdout",
     "output_type": "stream",
     "text": [
      "(185996, 2550)\n",
      "(185996, 1)\n"
     ]
    }
   ],
   "source": [
    "X = X_master_withtext[:,1:]\n",
    "y = np.array(df[['response']])\n",
    "\n",
    "print(X.shape)\n",
    "print(y.shape)"
   ]
  },
  {
   "cell_type": "code",
   "execution_count": 13,
   "metadata": {
    "ExecuteTime": {
     "end_time": "2020-04-26T00:45:41.627382Z",
     "start_time": "2020-04-26T00:45:30.772597Z"
    }
   },
   "outputs": [],
   "source": [
    "#Create test set\n",
    "from sklearn.model_selection import train_test_split\n",
    "X_trainVal, X_test, y_trainVal, y_test = train_test_split(X, y, test_size = 0.20, random_state = 710)"
   ]
  },
  {
   "cell_type": "code",
   "execution_count": 14,
   "metadata": {
    "ExecuteTime": {
     "end_time": "2020-04-26T00:46:00.373298Z",
     "start_time": "2020-04-26T00:45:50.668712Z"
    }
   },
   "outputs": [],
   "source": [
    "#Create validation set\n",
    "\n",
    "X_train, X_val, y_train, y_val = train_test_split(X_trainVal, y_trainVal, test_size = 0.10, random_state = 710)"
   ]
  },
  {
   "cell_type": "code",
   "execution_count": 15,
   "metadata": {
    "ExecuteTime": {
     "end_time": "2020-04-26T00:46:06.543336Z",
     "start_time": "2020-04-26T00:46:06.526352Z"
    }
   },
   "outputs": [
    {
     "name": "stdout",
     "output_type": "stream",
     "text": [
      "(133916, 2550)\n",
      "(14880, 2550)\n",
      "(37200, 2550)\n"
     ]
    }
   ],
   "source": [
    "print(X_train.shape)\n",
    "print(X_val.shape)\n",
    "print(X_test.shape)"
   ]
  },
  {
   "cell_type": "markdown",
   "metadata": {},
   "source": [
    "## Logistic Model"
   ]
  },
  {
   "cell_type": "code",
   "execution_count": 16,
   "metadata": {
    "ExecuteTime": {
     "end_time": "2020-04-26T00:46:22.162730Z",
     "start_time": "2020-04-26T00:46:16.229123Z"
    }
   },
   "outputs": [
    {
     "name": "stderr",
     "output_type": "stream",
     "text": [
      "C:\\Users\\Hi\\Anaconda3\\lib\\site-packages\\sklearn\\utils\\validation.py:760: DataConversionWarning:\n",
      "\n",
      "A column-vector y was passed when a 1d array was expected. Please change the shape of y to (n_samples, ), for example using ravel().\n",
      "\n"
     ]
    },
    {
     "data": {
      "text/plain": [
       "LogisticRegression(C=0.1, class_weight=None, dual=False, fit_intercept=True,\n",
       "                   intercept_scaling=1, l1_ratio=None, max_iter=100,\n",
       "                   multi_class='auto', n_jobs=None, penalty='l1',\n",
       "                   random_state=710, solver='liblinear', tol=0.0001, verbose=0,\n",
       "                   warm_start=False)"
      ]
     },
     "execution_count": 16,
     "metadata": {},
     "output_type": "execute_result"
    }
   ],
   "source": [
    "from sklearn.linear_model import LogisticRegression\n",
    "\n",
    "lrmodel = LogisticRegression(penalty='l1',solver='liblinear',C=0.1,random_state=710)\n",
    "lrmodel.fit(X_train, y_train)"
   ]
  },
  {
   "cell_type": "markdown",
   "metadata": {},
   "source": [
    "### Choose optimum pcutoff for overall accuracy using validation set"
   ]
  },
  {
   "cell_type": "code",
   "execution_count": 17,
   "metadata": {
    "ExecuteTime": {
     "end_time": "2020-04-26T00:46:44.987591Z",
     "start_time": "2020-04-26T00:46:38.392283Z"
    }
   },
   "outputs": [
    {
     "name": "stdout",
     "output_type": "stream",
     "text": [
      "optimum probability is:  [0.5]\n"
     ]
    },
    {
     "data": {
      "image/png": "[encoded data removed]",
      "text/plain": [
       "<Figure size 432x288 with 1 Axes>"
      ]
     },
     "metadata": {
      "needs_background": "light"
     },
     "output_type": "display_data"
    }
   ],
   "source": [
    "pred_val = lrmodel.predict_proba(X_val)\n",
    "y_val_observed = y_val.reshape((y_val.shape[0],1))\n",
    "\n",
    "from sklearn import metrics\n",
    "\n",
    "val_predprob = pred_val[:,1].reshape((y_val.shape[0],1))\n",
    "\n",
    "prob_array = np.around(np.arange(0,0.8,0.05), decimals=2)\n",
    "accscore_array = np.zeros(prob_array.size)\n",
    "i=0\n",
    "for p in prob_array:\n",
    "    y_predicted = (val_predprob>=p)*1\n",
    "    accscore_array[i] = metrics.accuracy_score(y_val_observed,y_predicted)\n",
    "    i=i+1\n",
    "\n",
    "plt.plot(prob_array,accscore_array);\n",
    "\n",
    "print('optimum probability is: ',prob_array[accscore_array == np.max(accscore_array)])"
   ]
  },
  {
   "cell_type": "code",
   "execution_count": 18,
   "metadata": {
    "ExecuteTime": {
     "end_time": "2020-04-26T00:49:26.341721Z",
     "start_time": "2020-04-26T00:49:25.823019Z"
    }
   },
   "outputs": [
    {
     "name": "stdout",
     "output_type": "stream",
     "text": [
      "test accuracy:  0.7141397849462365\n"
     ]
    }
   ],
   "source": [
    "# Predict on test using 0.5 prob\n",
    "\n",
    "pred_test = lrmodel.predict(X_test)\n",
    "y_test_observed = y_test.reshape((y_test.shape[0],1))\n",
    "\n",
    "print('test accuracy: ',metrics.accuracy_score(y_test_observed,pred_test))"
   ]
  },
  {
   "cell_type": "markdown",
   "metadata": {},
   "source": [
    "# Post launch modeling  - including backers feature (with text features)"
   ]
  },
  {
   "cell_type": "code",
   "execution_count": 19,
   "metadata": {
    "ExecuteTime": {
     "end_time": "2020-04-26T00:54:29.399952Z",
     "start_time": "2020-04-26T00:54:29.385962Z"
    }
   },
   "outputs": [
    {
     "name": "stdout",
     "output_type": "stream",
     "text": [
      "(185996, 2551)\n",
      "(185996, 1)\n"
     ]
    }
   ],
   "source": [
    "X = X_master_withtext\n",
    "y = np.array(df[['response']])\n",
    "\n",
    "print(X.shape)\n",
    "print(y.shape)"
   ]
  },
  {
   "cell_type": "markdown",
   "metadata": {},
   "source": [
    "## Train test split"
   ]
  },
  {
   "cell_type": "code",
   "execution_count": 20,
   "metadata": {
    "ExecuteTime": {
     "end_time": "2020-04-26T00:55:16.208123Z",
     "start_time": "2020-04-26T00:54:42.929302Z"
    }
   },
   "outputs": [],
   "source": [
    "#Create test set\n",
    "from sklearn.model_selection import train_test_split\n",
    "X_trainVal, X_test, y_trainVal, y_test = train_test_split(X, y, test_size = 0.20, random_state = 710)\n",
    "\n",
    "\n",
    "#Create validation set\n",
    "\n",
    "X_train, X_val, y_train, y_val = train_test_split(X_trainVal, y_trainVal, test_size = 0.10, random_state = 710)\n"
   ]
  },
  {
   "cell_type": "code",
   "execution_count": 21,
   "metadata": {
    "ExecuteTime": {
     "end_time": "2020-04-26T00:55:42.107593Z",
     "start_time": "2020-04-26T00:55:42.099603Z"
    }
   },
   "outputs": [
    {
     "name": "stdout",
     "output_type": "stream",
     "text": [
      "(133916, 2551)\n",
      "(14880, 2551)\n",
      "(37200, 2551)\n"
     ]
    }
   ],
   "source": [
    "print(X_train.shape)\n",
    "print(X_val.shape)\n",
    "print(X_test.shape)"
   ]
  },
  {
   "cell_type": "markdown",
   "metadata": {},
   "source": [
    "## Logistic model"
   ]
  },
  {
   "cell_type": "code",
   "execution_count": 22,
   "metadata": {
    "ExecuteTime": {
     "end_time": "2020-04-26T00:56:52.248028Z",
     "start_time": "2020-04-26T00:56:33.903054Z"
    }
   },
   "outputs": [
    {
     "name": "stderr",
     "output_type": "stream",
     "text": [
      "C:\\Users\\Hi\\Anaconda3\\lib\\site-packages\\sklearn\\utils\\validation.py:760: DataConversionWarning:\n",
      "\n",
      "A column-vector y was passed when a 1d array was expected. Please change the shape of y to (n_samples, ), for example using ravel().\n",
      "\n",
      "C:\\Users\\Hi\\Anaconda3\\lib\\site-packages\\sklearn\\svm\\_base.py:947: ConvergenceWarning:\n",
      "\n",
      "Liblinear failed to converge, increase the number of iterations.\n",
      "\n"
     ]
    },
    {
     "data": {
      "text/plain": [
       "LogisticRegression(C=0.1, class_weight=None, dual=False, fit_intercept=True,\n",
       "                   intercept_scaling=1, l1_ratio=None, max_iter=100,\n",
       "                   multi_class='auto', n_jobs=None, penalty='l1',\n",
       "                   random_state=710, solver='liblinear', tol=0.0001, verbose=0,\n",
       "                   warm_start=False)"
      ]
     },
     "execution_count": 22,
     "metadata": {},
     "output_type": "execute_result"
    }
   ],
   "source": [
    "from sklearn.linear_model import LogisticRegression\n",
    "\n",
    "lrmodel = LogisticRegression(penalty='l1',solver='liblinear',C=0.1,random_state=710)\n",
    "lrmodel.fit(X_train, y_train)"
   ]
  },
  {
   "cell_type": "markdown",
   "metadata": {},
   "source": [
    "### Choose optimum  pcutoff using validation set"
   ]
  },
  {
   "cell_type": "code",
   "execution_count": 23,
   "metadata": {
    "ExecuteTime": {
     "end_time": "2020-04-26T00:57:56.462505Z",
     "start_time": "2020-04-26T00:57:55.764925Z"
    }
   },
   "outputs": [
    {
     "name": "stdout",
     "output_type": "stream",
     "text": [
      "optimum probability is:  [0.5]\n"
     ]
    },
    {
     "data": {
      "image/png": "[encoded data removed]",
      "text/plain": [
       "<Figure size 432x288 with 1 Axes>"
      ]
     },
     "metadata": {
      "needs_background": "light"
     },
     "output_type": "display_data"
    }
   ],
   "source": [
    "pred_val = lrmodel.predict_proba(X_val)\n",
    "y_val_observed = y_val.reshape((y_val.shape[0],1))\n",
    "\n",
    "from sklearn import metrics\n",
    "\n",
    "val_predprob = pred_val[:,1].reshape((y_val.shape[0],1))\n",
    "\n",
    "prob_array = np.around(np.arange(0,0.8,0.05), decimals=2)\n",
    "accscore_array = np.zeros(prob_array.size)\n",
    "i=0\n",
    "for p in prob_array:\n",
    "    y_predicted = (val_predprob>=p)*1\n",
    "    accscore_array[i] = metrics.accuracy_score(y_val_observed,y_predicted)\n",
    "    i=i+1\n",
    "\n",
    "plt.plot(prob_array,accscore_array);\n",
    "\n",
    "print('optimum probability is: ',prob_array[accscore_array == np.max(accscore_array)])"
   ]
  },
  {
   "cell_type": "code",
   "execution_count": 24,
   "metadata": {
    "ExecuteTime": {
     "end_time": "2020-04-26T01:00:21.444467Z",
     "start_time": "2020-04-26T01:00:21.437475Z"
    }
   },
   "outputs": [
    {
     "data": {
      "text/plain": [
       "0.7881720430107527"
      ]
     },
     "execution_count": 24,
     "metadata": {},
     "output_type": "execute_result"
    }
   ],
   "source": [
    "np.max(accscore_array)"
   ]
  },
  {
   "cell_type": "code",
   "execution_count": 25,
   "metadata": {
    "ExecuteTime": {
     "end_time": "2020-04-26T01:01:09.899852Z",
     "start_time": "2020-04-26T01:01:09.381169Z"
    }
   },
   "outputs": [
    {
     "name": "stdout",
     "output_type": "stream",
     "text": [
      "test accuracy:  0.785\n"
     ]
    }
   ],
   "source": [
    "# Predict on test using 0.5 prob\n",
    "\n",
    "pred_test = lrmodel.predict(X_test)\n",
    "y_test_observed = y_test.reshape((y_test.shape[0],1))\n",
    "\n",
    "print('test accuracy: ',metrics.accuracy_score(y_test_observed,pred_test))"
   ]
  },
  {
   "cell_type": "markdown",
   "metadata": {},
   "source": [
    "# TF-IDF Features - Ignore / was not useful in prediction"
   ]
  },
  {
   "cell_type": "code",
   "execution_count": 92,
   "metadata": {
    "ExecuteTime": {
     "end_time": "2020-04-25T02:08:33.886883Z",
     "start_time": "2020-04-25T02:08:33.834656Z"
    }
   },
   "outputs": [],
   "source": [
    "from sklearn.model_selection import train_test_split\n",
    "\n",
    "Y = np.array(df[['response']])\n",
    "\n",
    "X_train, X_test, y_train, y_test = train_test_split(df['processedtext'], Y, test_size=0.30, random_state=100)\n"
   ]
  },
  {
   "cell_type": "code",
   "execution_count": 113,
   "metadata": {
    "ExecuteTime": {
     "end_time": "2020-04-25T02:38:50.762445Z",
     "start_time": "2020-04-25T02:38:47.735175Z"
    }
   },
   "outputs": [
    {
     "name": "stdout",
     "output_type": "stream",
     "text": [
      "['100', '1000', '1st', '2012', '2013', '2014', '2015', '2016', '2017', '2018', '2019', '2nd', '3rd', 'abil', 'abl', 'abus', 'accept', 'access', 'accessori', 'achiev', 'act', 'action', 'activ', 'actor', 'actual', 'ad', 'adapt', 'add', 'addict', 'ador', 'adult', 'advanc', 'adventur', 'afford', 'african', 'age', 'aim', 'air', 'album', 'alien', 'aliv', 'allow', 'alon', 'alreadi', 'altern', 'alway', 'amaz', 'america', 'american', 'ancient', 'android', 'angel', 'anim', 'anniversari', 'annual', 'anoth', 'answer', 'antholog', 'anyon', 'anyth', 'anywher', 'apart', 'app', 'apparel', 'applic', 'appreci', 'arduino', 'area', 'art', 'artisan', 'artist', 'artwork', 'ask', 'aspir', 'assist', 'attempt', 'audienc', 'audio', 'authent', 'author', 'avail', 'awar', 'award', 'awardwin', 'away', 'awesom', 'babi', 'backer', 'bad', 'bag', 'bake', 'bakeri', 'band', 'bar', 'base', 'basic', 'batteri', 'battl', 'bbq', 'beach']\n"
     ]
    }
   ],
   "source": [
    "# fit and transform the test set \n",
    "#fit: calculate a tfidf score for each word given the entire training set of texts\n",
    "# transform: transform every document into an array of tf-idf scores\n",
    "\n",
    "from sklearn.feature_extraction.text import TfidfVectorizer\n",
    "\n",
    "tfidf = TfidfVectorizer(lowercase=True, analyzer='word', stop_words= 'english',ngram_range=(1,1), max_df=0.9,min_df=200)\n",
    "\n",
    "train_tfIdf = tfidf.fit_transform(X_train.values.astype('U'))\n",
    "\n",
    "print(tfidf.get_feature_names()[:100])\n"
   ]
  },
  {
   "cell_type": "code",
   "execution_count": 114,
   "metadata": {
    "ExecuteTime": {
     "end_time": "2020-04-25T02:39:09.417182Z",
     "start_time": "2020-04-25T02:39:08.050947Z"
    }
   },
   "outputs": [],
   "source": [
    "# transform the test data using the fit from train\n",
    "\n",
    "test_tfIdf = tfidf.fit_transform(X_test.values.astype('U'))"
   ]
  },
  {
   "cell_type": "code",
   "execution_count": 115,
   "metadata": {
    "ExecuteTime": {
     "end_time": "2020-04-25T02:39:11.577904Z",
     "start_time": "2020-04-25T02:39:11.570908Z"
    }
   },
   "outputs": [
    {
     "data": {
      "text/plain": [
       "(130197, 1193)"
      ]
     },
     "execution_count": 115,
     "metadata": {},
     "output_type": "execute_result"
    }
   ],
   "source": [
    "train_tfIdf.shape"
   ]
  },
  {
   "cell_type": "code",
   "execution_count": 118,
   "metadata": {
    "ExecuteTime": {
     "end_time": "2020-04-25T02:41:08.036371Z",
     "start_time": "2020-04-25T02:41:08.030356Z"
    }
   },
   "outputs": [
    {
     "data": {
      "text/plain": [
       "(55799, 508)"
      ]
     },
     "execution_count": 118,
     "metadata": {},
     "output_type": "execute_result"
    }
   ],
   "source": [
    "test_tfIdf.shape"
   ]
  },
  {
   "cell_type": "markdown",
   "metadata": {},
   "source": [
    "## Convert sparse matrices to ndarrays and pad test array to equalize dimensions"
   ]
  },
  {
   "cell_type": "code",
   "execution_count": 123,
   "metadata": {
    "ExecuteTime": {
     "end_time": "2020-04-25T03:03:57.557915Z",
     "start_time": "2020-04-25T03:03:56.565485Z"
    }
   },
   "outputs": [
    {
     "name": "stdout",
     "output_type": "stream",
     "text": [
      "(130197, 1193)\n",
      "(55799, 1193)\n"
     ]
    }
   ],
   "source": [
    "train_tfIdfscores = train_tfIdf.toarray()\n",
    "test_tfIdfscores = test_tfIdf.toarray()\n",
    "\n",
    "test_tfIdfscores = np.pad(test_tfIdfscores, ((0,0),(0,685)), 'constant')\n",
    "print(train_tfIdfscores.shape)\n",
    "print(test_tfIdfscores.shape)"
   ]
  },
  {
   "cell_type": "code",
   "execution_count": 86,
   "metadata": {
    "ExecuteTime": {
     "end_time": "2020-04-25T01:56:56.328838Z",
     "start_time": "2020-04-25T01:56:56.321845Z"
    }
   },
   "outputs": [
    {
     "data": {
      "text/plain": [
       "scipy.sparse.csr.csr_matrix"
      ]
     },
     "execution_count": 86,
     "metadata": {},
     "output_type": "execute_result"
    }
   ],
   "source": [
    "type(train_tfIdf)"
   ]
  },
  {
   "cell_type": "markdown",
   "metadata": {},
   "source": [
    "# Train a Naive-Bayes classifier"
   ]
  },
  {
   "cell_type": "code",
   "execution_count": 128,
   "metadata": {
    "ExecuteTime": {
     "end_time": "2020-04-25T03:05:32.214066Z",
     "start_time": "2020-04-25T03:05:32.207054Z"
    }
   },
   "outputs": [
    {
     "data": {
      "text/plain": [
       "(130197, 1)"
      ]
     },
     "execution_count": 128,
     "metadata": {},
     "output_type": "execute_result"
    }
   ],
   "source": [
    "y_train.shape"
   ]
  },
  {
   "cell_type": "code",
   "execution_count": 124,
   "metadata": {
    "ExecuteTime": {
     "end_time": "2020-04-25T03:04:09.295140Z",
     "start_time": "2020-04-25T03:04:09.288146Z"
    }
   },
   "outputs": [],
   "source": [
    "y_train_observed = y_train.reshape((y_train.shape[0],1))\n",
    "y_test_observed = y_test.reshape((y_test.shape[0],1))"
   ]
  },
  {
   "cell_type": "code",
   "execution_count": 129,
   "metadata": {
    "ExecuteTime": {
     "end_time": "2020-04-25T03:05:44.763218Z",
     "start_time": "2020-04-25T03:05:44.057626Z"
    }
   },
   "outputs": [
    {
     "name": "stdout",
     "output_type": "stream",
     "text": [
      "[[0.50024426 0.49975574]\n",
      " [0.32853869 0.67146131]\n",
      " [0.26019911 0.73980089]\n",
      " ...\n",
      " [0.51574961 0.48425039]\n",
      " [0.69177294 0.30822706]\n",
      " [0.43628625 0.56371375]]\n"
     ]
    }
   ],
   "source": [
    "from sklearn.naive_bayes import MultinomialNB\n",
    "from sklearn import metrics\n",
    "\n",
    "nb_classifier = MultinomialNB()\n",
    "\n",
    "nb_classifier.fit(train_tfIdfscores, np.ravel(y_train))\n",
    "\n",
    "pred_test = nb_classifier.predict_proba(test_tfIdfscores)\n",
    "print(pred_test)"
   ]
  },
  {
   "cell_type": "code",
   "execution_count": null,
   "metadata": {
    "ExecuteTime": {
     "start_time": "2020-04-25T03:12:12.853Z"
    }
   },
   "outputs": [],
   "source": [
    "from sklearn import svm\n",
    "clfrSVM = svm.SVC(kernel = 'linear' , C = 0.1)\n",
    "clfrSVM.fit(train_tfIdfscores, np.ravel(y_train))\n",
    "\n",
    "pred_test = clfrSVM.predict_proba(test_tfIdfscores)\n",
    "print(pred_test)"
   ]
  },
  {
   "cell_type": "code",
   "execution_count": 102,
   "metadata": {
    "ExecuteTime": {
     "end_time": "2020-04-25T02:17:06.047462Z",
     "start_time": "2020-04-25T02:17:06.039468Z"
    }
   },
   "outputs": [
    {
     "data": {
      "text/plain": [
       "(55799,)"
      ]
     },
     "execution_count": 102,
     "metadata": {},
     "output_type": "execute_result"
    }
   ],
   "source": [
    "pred_test[:,1].shape"
   ]
  },
  {
   "cell_type": "code",
   "execution_count": 130,
   "metadata": {
    "ExecuteTime": {
     "end_time": "2020-04-25T03:06:00.841648Z",
     "start_time": "2020-04-25T03:06:00.556808Z"
    }
   },
   "outputs": [
    {
     "name": "stdout",
     "output_type": "stream",
     "text": [
      "optimum probability is:  [0.   0.05 0.1 ]\n"
     ]
    },
    {
     "data": {
      "image/png": "[encoded data removed]",
      "text/plain": [
       "<Figure size 432x288 with 1 Axes>"
      ]
     },
     "metadata": {
      "needs_background": "light"
     },
     "output_type": "display_data"
    }
   ],
   "source": [
    "from sklearn import metrics\n",
    "\n",
    "test_predprob = pred_test[:,1].reshape((y_test.shape[0],1))\n",
    "\n",
    "prob_array = np.around(np.arange(0,0.8,0.05), decimals=2)\n",
    "accscore_array = np.zeros(prob_array.size)\n",
    "i=0\n",
    "for p in prob_array:\n",
    "    y_predicted = (test_predprob>=p)*1\n",
    "    accscore_array[i] = metrics.accuracy_score(y_test_observed,y_predicted)\n",
    "    i=i+1\n",
    "\n",
    "plt.plot(prob_array,accscore_array);\n",
    "\n",
    "print('optimum probability is: ',prob_array[accscore_array == np.max(accscore_array)])"
   ]
  },
  {
   "cell_type": "code",
   "execution_count": 106,
   "metadata": {
    "ExecuteTime": {
     "end_time": "2020-04-25T02:22:28.876620Z",
     "start_time": "2020-04-25T02:22:28.861606Z"
    }
   },
   "outputs": [
    {
     "name": "stdout",
     "output_type": "stream",
     "text": [
      "0.5387910177601749\n"
     ]
    }
   ],
   "source": [
    "y_test_predicted = (test_predprob>=0.15)*1\n",
    "\n",
    "accuracy_tfidf = metrics.accuracy_score(y_test_observed, y_test_predicted)\n",
    "print(accuracy_tfidf)"
   ]
  }
 ],
 "metadata": {
  "kernelspec": {
   "display_name": "Python 3",
   "language": "python",
   "name": "python3"
  },
  "language_info": {
   "codemirror_mode": {
    "name": "ipython",
    "version": 3
   },
   "file_extension": ".py",
   "mimetype": "text/x-python",
   "name": "python",
   "nbconvert_exporter": "python",
   "pygments_lexer": "ipython3",
   "version": "3.7.3"
  },
  "latex_envs": {
   "LaTeX_envs_menu_present": true,
   "autoclose": false,
   "autocomplete": true,
   "bibliofile": "biblio.bib",
   "cite_by": "apalike",
   "current_citInitial": 1,
   "eqLabelWithNumbers": true,
   "eqNumInitial": 1,
   "hotkeys": {
    "equation": "Ctrl-E",
    "itemize": "Ctrl-I"
   },
   "labels_anchors": false,
   "latex_user_defs": false,
   "report_style_numbering": false,
   "user_envs_cfg": false
  },
  "toc": {
   "base_numbering": 1,
   "nav_menu": {},
   "number_sections": true,
   "sideBar": true,
   "skip_h1_title": false,
   "title_cell": "Table of Contents",
   "title_sidebar": "Contents",
   "toc_cell": false,
   "toc_position": {
    "height": "calc(100% - 180px)",
    "left": "10px",
    "top": "150px",
    "width": "303.542px"
   },
   "toc_section_display": true,
   "toc_window_display": true
  },
  "varInspector": {
   "cols": {
    "lenName": 16,
    "lenType": 16,
    "lenVar": 40
   },
   "kernels_config": {
    "python": {
     "delete_cmd_postfix": "",
     "delete_cmd_prefix": "del ",
     "library": "var_list.py",
     "varRefreshCmd": "print(var_dic_list())"
    },
    "r": {
     "delete_cmd_postfix": ") ",
     "delete_cmd_prefix": "rm(",
     "library": "var_list.r",
     "varRefreshCmd": "cat(var_dic_list()) "
    }
   },
   "types_to_exclude": [
    "module",
    "function",
    "builtin_function_or_method",
    "instance",
    "_Feature"
   ],
   "window_display": false
  }
 },
 "nbformat": 4,
 "nbformat_minor": 4
}
