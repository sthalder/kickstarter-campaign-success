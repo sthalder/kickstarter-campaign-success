{
 "cells": [
  {
   "cell_type": "code",
   "execution_count": 9,
   "metadata": {},
   "outputs": [
    {
     "data": {
      "text/plain": [
       "'C:\\\\Users\\\\sthal\\\\Python Scripts'"
      ]
     },
     "execution_count": 9,
     "metadata": {},
     "output_type": "execute_result"
    }
   ],
   "source": [
    "## Code Header #######\n",
    "## Notebook Name: Kickstarter Analysis\n",
    "## Objective: To learn which design decisions help kickstarter campaigns succeed and to predict the successes of any kickstarter campaigns.\n",
    "## Start Date: 11th April 2020\n",
    "## Data Sources\n",
    "    # Source 1: Webscraped kickstarter data - Scraped by Web Robots - https://webrobots.io/kickstarter-datasets/\n",
    "## Edits to be made\n",
    "## Questions about the context\n",
    "    # Does every backer pledge a fixed amount? Or can backers decide the pledge amount?\n",
    "## Structure of the analysis\n",
    "    # Data Input: Read all the columns in the right format\n",
    "    # Run analysis for a single file first, but replicate for all files together.( Is there a way to batch execute)\n",
    "    # Feature Engineering\n",
    "        # Blurb : Brief text explaining the project\n",
    "        # Calculate campaign length\n",
    "        # Average pledge by backer\n",
    "        # Extract the categories from the dictionary.\n",
    "    # EDA\n",
    "        # Glean insights which might help design decisions\n",
    "    # SciKit Learn\n",
    "        # Logistic Regression; Glean insights which might help design decisions\n",
    "        # Trees\n",
    "        # Neural Network\n",
    "    \n",
    "import pandas as pd\n",
    "import matplotlib.pyplot as plt\n",
    "import matplotlib.ticker as ticker\n",
    "%matplotlib inline\n",
    "import seaborn as sns\n",
    "import numpy as np\n",
    "import os\n",
    "import json\n",
    "import ast\n",
    "from datetime import datetime\n",
    "from sklearn.model_selection import train_test_split\n",
    "import textstat\n",
    "import math\n",
    "from sklearn.feature_selection import RFE\n",
    "from sklearn.linear_model import LogisticRegression\n",
    "from sklearn.svm import SVC, LinearSVC\n",
    "from sklearn.metrics import confusion_matrix\n",
    "from sklearn import metrics\n",
    "from keras.layers import Dense\n",
    "from keras.models import Sequential\n",
    "from keras.utils import to_categorical\n",
    "from keras.callbacks import EarlyStopping\n",
    "from keras.optimizers import Adam\n",
    "from keras.models import load_model\n",
    "from tensorflow import metrics\n",
    "import glob\n",
    "os.getcwd()"
   ]
  },
  {
   "cell_type": "code",
   "execution_count": 2,
   "metadata": {},
   "outputs": [],
   "source": [
    "import pandas as pd, numpy as np, scipy as sp, sklearn ,nltk, matplotlib.pyplot as plt, seaborn as sb,plotly as ply, statsmodels as stat, tabulate,pickle"
   ]
  },
  {
   "cell_type": "markdown",
   "metadata": {},
   "source": [
    "# The tree models built here use predictor and response variables created as numpy array from Text Mining & Modeling section"
   ]
  },
  {
   "cell_type": "code",
   "execution_count": 3,
   "metadata": {},
   "outputs": [],
   "source": [
    "from numpy import load\n",
    "\n",
    "X_text = load('X_textfeatures.npy')\n",
    "X_nontext = load('X_master_nontext.npy')\n",
    "y = load('y.npy')"
   ]
  },
  {
   "cell_type": "code",
   "execution_count": 4,
   "metadata": {},
   "outputs": [],
   "source": [
    "X = np.concatenate((X_nontext, X_text), axis = 1)"
   ]
  },
  {
   "cell_type": "code",
   "execution_count": 123,
   "metadata": {},
   "outputs": [],
   "source": [
    "# Coefficient values for all factors\n",
    "X_cols = list(['backers_count', 'design_duration_days', 'campaign_duration_days',\n",
    "       'launch_day', 'launch_month', 'launch_DOW', 'goal_usd',\n",
    "       'blurb_readability_score', 'category_Art', 'category_Comics',\n",
    "       'category_Crafts', 'category_Dance', 'category_Design',\n",
    "       'category_Fashion', 'category_Film & Video', 'category_Food',\n",
    "       'category_Games', 'category_Journalism', 'category_Music',\n",
    "       'category_Photography', 'category_Publishing', 'category_Technology',\n",
    "       'category_Theater', 'country_AT', 'country_AU', 'country_BE',\n",
    "       'country_CA', 'country_CH', 'country_DE', 'country_DK', 'country_ES',\n",
    "       'country_FR', 'country_GB', 'country_HK', 'country_IE', 'country_IT',\n",
    "       'country_JP', 'country_LU', 'country_MX', 'country_NL', 'country_NO',\n",
    "       'country_NZ', 'country_SE', 'country_SG', 'country_US', 'subcat_volume_index', 'subcateg_successrate'])"
   ]
  },
  {
   "cell_type": "markdown",
   "metadata": {},
   "source": [
    "# Pre launch without text\n",
    "## Decision Tree"
   ]
  },
  {
   "cell_type": "code",
   "execution_count": 6,
   "metadata": {
    "ExecuteTime": {
     "end_time": "2020-04-25T06:26:19.558545Z",
     "start_time": "2020-04-25T06:26:02.075424Z"
    }
   },
   "outputs": [],
   "source": [
    "# Splitting the dataset into the Training set and Test set\n",
    "# Training trees without text data and without backers\n",
    "\n",
    "from sklearn.model_selection import train_test_split\n",
    "X_trainVal, X_test, y_trainVal, y_test = train_test_split(X_nontext[:,1:], y, test_size = 0.20, random_state = 8908)\n",
    "\n",
    "#Create validation set\n",
    "\n",
    "X_train, X_val, y_train, y_val = train_test_split(X_trainVal, y_trainVal, test_size = 0.10, random_state = 8908)"
   ]
  },
  {
   "cell_type": "code",
   "execution_count": 113,
   "metadata": {},
   "outputs": [
    {
     "data": {
      "text/plain": [
       "DecisionTreeClassifier(class_weight=None, criterion='gini', max_depth=None,\n",
       "                       max_features=None, max_leaf_nodes=None,\n",
       "                       min_impurity_decrease=0.0, min_impurity_split=None,\n",
       "                       min_samples_leaf=1, min_samples_split=2,\n",
       "                       min_weight_fraction_leaf=0.0, presort=False,\n",
       "                       random_state=None, splitter='best')"
      ]
     },
     "execution_count": 113,
     "metadata": {},
     "output_type": "execute_result"
    }
   ],
   "source": [
    "# Decision Tree\n",
    "from sklearn.tree import DecisionTreeClassifier\n",
    "\n",
    "ks_dt = DecisionTreeClassifier()\n",
    "ks_dt = ks_dt.fit(X_train, y_train)\n",
    "ks_dt"
   ]
  },
  {
   "cell_type": "code",
   "execution_count": null,
   "metadata": {},
   "outputs": [],
   "source": [
    "pred_val = ks_dt.predict_proba(X_val)\n",
    "y_val_observed = y_val.reshape((y_val.shape[0],1))\n",
    "\n",
    "from sklearn import metrics\n",
    "from sklearn.metrics import accuracy_score\n",
    "\n",
    "val_predprob = pred_val[:,1].reshape((y_val.shape[0],1))\n",
    "\n",
    "prob_array = np.around(np.arange(0,0.8,0.05), decimals=2)\n",
    "accscore_array = np.zeros(prob_array.size)\n",
    "i=0\n",
    "for p in prob_array:\n",
    "    y_predicted = (val_predprob >= p)*1\n",
    "    accscore_array[i] = metrics.accuracy_score(y_val_observed,y_predicted)\n",
    "    i=i+1\n",
    "\n",
    "plt.plot(prob_array,accscore_array);\n",
    "\n",
    "print('optimum probability is: ',prob_array[accscore_array == np.max(accscore_array)])"
   ]
  },
  {
   "cell_type": "code",
   "execution_count": 116,
   "metadata": {},
   "outputs": [
    {
     "name": "stdout",
     "output_type": "stream",
     "text": [
      "test accuracy:  0.6422043010752688\n"
     ]
    }
   ],
   "source": [
    "# Predict on test using 0.5 prob\n",
    "\n",
    "pred_test = ks_dt.predict(X_test)\n",
    "y_test_observed = y_test.reshape((y_test.shape[0],1))\n",
    "\n",
    "print('test accuracy: ',metrics.accuracy_score(y_test_observed,pred_test))"
   ]
  },
  {
   "cell_type": "code",
   "execution_count": 117,
   "metadata": {},
   "outputs": [
    {
     "data": {
      "text/html": [
       "<div>\n",
       "<style scoped>\n",
       "    .dataframe tbody tr th:only-of-type {\n",
       "        vertical-align: middle;\n",
       "    }\n",
       "\n",
       "    .dataframe tbody tr th {\n",
       "        vertical-align: top;\n",
       "    }\n",
       "\n",
       "    .dataframe thead th {\n",
       "        text-align: right;\n",
       "    }\n",
       "</style>\n",
       "<table border=\"1\" class=\"dataframe\">\n",
       "  <thead>\n",
       "    <tr style=\"text-align: right;\">\n",
       "      <th></th>\n",
       "      <th>Predicted failure</th>\n",
       "      <th>Predicted success</th>\n",
       "    </tr>\n",
       "  </thead>\n",
       "  <tbody>\n",
       "    <tr>\n",
       "      <th>True failure</th>\n",
       "      <td>10345</td>\n",
       "      <td>6702</td>\n",
       "    </tr>\n",
       "    <tr>\n",
       "      <th>True success</th>\n",
       "      <td>6608</td>\n",
       "      <td>13545</td>\n",
       "    </tr>\n",
       "  </tbody>\n",
       "</table>\n",
       "</div>"
      ],
      "text/plain": [
       "              Predicted failure  Predicted success\n",
       "True failure              10345               6702\n",
       "True success               6608              13545"
      ]
     },
     "execution_count": 117,
     "metadata": {},
     "output_type": "execute_result"
    }
   ],
   "source": [
    "from sklearn.metrics import confusion_matrix\n",
    "pd.DataFrame(\n",
    "    confusion_matrix(y_test, pred_test),\n",
    "    columns=['Predicted failure', 'Predicted success'],\n",
    "    index=['True failure', 'True success']\n",
    ")"
   ]
  },
  {
   "cell_type": "code",
   "execution_count": 125,
   "metadata": {},
   "outputs": [
    {
     "name": "stdout",
     "output_type": "stream",
     "text": [
      "Feature ranking:\n",
      "1. feature 5 (0.163361)\n",
      "2. feature 0 (0.124845)\n",
      "3. feature 6 (0.113975)\n",
      "4. feature 45 (0.098255)\n",
      "5. feature 2 (0.084896)\n",
      "6. feature 1 (0.078532)\n",
      "7. feature 44 (0.072439)\n",
      "8. feature 3 (0.060742)\n",
      "9. feature 4 (0.045254)\n",
      "10. feature 13 (0.012536)\n",
      "11. feature 17 (0.011008)\n",
      "12. feature 14 (0.008860)\n",
      "13. feature 20 (0.008692)\n",
      "14. feature 43 (0.008665)\n",
      "15. feature 9 (0.008576)\n",
      "16. feature 8 (0.008459)\n",
      "17. feature 15 (0.007668)\n",
      "18. feature 7 (0.007475)\n",
      "19. feature 18 (0.007406)\n",
      "20. feature 31 (0.006775)\n",
      "21. feature 19 (0.006468)\n",
      "22. feature 21 (0.006079)\n",
      "23. feature 16 (0.005808)\n",
      "24. feature 25 (0.004713)\n",
      "25. feature 12 (0.004649)\n",
      "26. feature 10 (0.004504)\n",
      "27. feature 11 (0.004226)\n",
      "28. feature 37 (0.003167)\n",
      "29. feature 23 (0.002899)\n",
      "30. feature 30 (0.002486)\n",
      "31. feature 27 (0.002183)\n",
      "32. feature 34 (0.002121)\n",
      "33. feature 38 (0.001935)\n",
      "34. feature 29 (0.001877)\n",
      "35. feature 41 (0.001347)\n",
      "36. feature 32 (0.000941)\n",
      "37. feature 28 (0.000925)\n",
      "38. feature 40 (0.000883)\n",
      "39. feature 33 (0.000740)\n",
      "40. feature 26 (0.000670)\n",
      "41. feature 39 (0.000605)\n",
      "42. feature 35 (0.000598)\n",
      "43. feature 24 (0.000589)\n",
      "44. feature 42 (0.000582)\n",
      "45. feature 22 (0.000516)\n",
      "46. feature 36 (0.000069)\n"
     ]
    },
    {
     "data": {
      "text/plain": [
       "(-0.5, 10)"
      ]
     },
     "execution_count": 125,
     "metadata": {},
     "output_type": "execute_result"
    },
    {
     "data": {
      "image/png": "[encoded data removed]",
      "text/plain": [
       "<Figure size 864x576 with 1 Axes>"
      ]
     },
     "metadata": {
      "needs_background": "light"
     },
     "output_type": "display_data"
    }
   ],
   "source": [
    "importances = ks_dt.feature_importances_\n",
    "std = np.std([tree.feature_importances_ for tree in ks_rf.estimators_],\n",
    "             axis=0)\n",
    "indices = np.argsort(importances)[::-1]\n",
    "\n",
    "# Print the feature ranking\n",
    "print(\"Feature ranking:\")\n",
    "\n",
    "for f in range(X_train.shape[1]):\n",
    "    print(\"%d. feature %d (%f)\" % (f + 1, indices[f], importances[indices[f]]))\n",
    "\n",
    "# Plot the feature importances of the forest\n",
    "plt.figure(figsize = (12,8))\n",
    "plt.title(\"Feature importances\")\n",
    "plt.barh(range(X_train.shape[1]), importances[indices],\n",
    "       color=\"r\", xerr=std[indices], align=\"center\")\n",
    "# If you want to define your own labels,\n",
    "# change indices to a list of labels on the following line.\n",
    "plt.yticks(range(X_train.shape[1]), [X_cols[i+1] for i in indices])\n",
    "plt.ylim([-0.5, 10])"
   ]
  },
  {
   "cell_type": "code",
   "execution_count": 118,
   "metadata": {},
   "outputs": [
    {
     "data": {
      "image/png": "[encoded data removed]",
      "text/plain": [
       "<Figure size 864x576 with 1 Axes>"
      ]
     },
     "metadata": {
      "needs_background": "light"
     },
     "output_type": "display_data"
    }
   ],
   "source": [
    "# ROC chars\n",
    "probs = ks_dt.predict_proba(X_test)\n",
    "pred = probs[:,1]\n",
    "fpr, tpr, threshold = metrics.roc_curve(y_test_observed, pred)\n",
    "roc_auc = metrics.auc(fpr, tpr)\n",
    "plt.figure(figsize = (12,8))\n",
    "plt.title('Receiver Operating Characteristic');\n",
    "plt.plot(fpr, tpr, 'b', color = 'green',label = 'AUC = %0.2f' % roc_auc);\n",
    "plt.legend(loc = 'lower right')\n",
    "plt.plot([0, 1], [0, 1],'r--')\n",
    "plt.xlim([0, 1])\n",
    "plt.ylim([0, 1])\n",
    "plt.ylabel('True Positive Rate')\n",
    "plt.xlabel('False Positive Rate')\n",
    "plt.show()"
   ]
  },
  {
   "cell_type": "markdown",
   "metadata": {},
   "source": [
    "## Random Forest"
   ]
  },
  {
   "cell_type": "code",
   "execution_count": 119,
   "metadata": {},
   "outputs": [
    {
     "name": "stderr",
     "output_type": "stream",
     "text": [
      "C:\\Users\\sthal\\Anaconda3\\lib\\site-packages\\ipykernel_launcher.py:5: DataConversionWarning:\n",
      "\n",
      "A column-vector y was passed when a 1d array was expected. Please change the shape of y to (n_samples,), for example using ravel().\n",
      "\n"
     ]
    },
    {
     "data": {
      "text/plain": [
       "RandomForestClassifier(bootstrap=True, class_weight=None, criterion='gini',\n",
       "                       max_depth=None, max_features='auto', max_leaf_nodes=None,\n",
       "                       min_impurity_decrease=0.0, min_impurity_split=None,\n",
       "                       min_samples_leaf=1, min_samples_split=2,\n",
       "                       min_weight_fraction_leaf=0.0, n_estimators=100,\n",
       "                       n_jobs=None, oob_score=False, random_state=None,\n",
       "                       verbose=0, warm_start=False)"
      ]
     },
     "execution_count": 119,
     "metadata": {},
     "output_type": "execute_result"
    }
   ],
   "source": [
    "from sklearn.ensemble import RandomForestClassifier\n",
    "\n",
    "ks_rf = RandomForestClassifier(n_estimators=100)\n",
    "\n",
    "ks_rf.fit(X_train, y_train)\n",
    "ks_rf"
   ]
  },
  {
   "cell_type": "code",
   "execution_count": 10,
   "metadata": {},
   "outputs": [
    {
     "name": "stdout",
     "output_type": "stream",
     "text": [
      "optimum probability is:  [0.5]\n"
     ]
    },
    {
     "data": {
      "image/png": "[encoded data removed]",
      "text/plain": [
       "<Figure size 432x288 with 1 Axes>"
      ]
     },
     "metadata": {
      "needs_background": "light"
     },
     "output_type": "display_data"
    }
   ],
   "source": [
    "pred_val = ks_rf.predict_proba(X_val)\n",
    "y_val_observed = y_val.reshape((y_val.shape[0],1))\n",
    "\n",
    "from sklearn import metrics\n",
    "from sklearn.metrics import accuracy_score\n",
    "\n",
    "val_predprob = pred_val[:,1].reshape((y_val.shape[0],1))\n",
    "\n",
    "prob_array = np.around(np.arange(0,0.8,0.05), decimals=2)\n",
    "accscore_array = np.zeros(prob_array.size)\n",
    "i=0\n",
    "for p in prob_array:\n",
    "    y_predicted = (val_predprob >= p)*1\n",
    "    accscore_array[i] = metrics.accuracy_score(y_val_observed,y_predicted)\n",
    "    i=i+1\n",
    "\n",
    "plt.plot(prob_array,accscore_array);\n",
    "\n",
    "print('optimum probability is: ',prob_array[accscore_array == np.max(accscore_array)])"
   ]
  },
  {
   "cell_type": "code",
   "execution_count": 121,
   "metadata": {},
   "outputs": [
    {
     "name": "stdout",
     "output_type": "stream",
     "text": [
      "test accuracy:  0.7324462365591398\n"
     ]
    },
    {
     "data": {
      "text/html": [
       "<div>\n",
       "<style scoped>\n",
       "    .dataframe tbody tr th:only-of-type {\n",
       "        vertical-align: middle;\n",
       "    }\n",
       "\n",
       "    .dataframe tbody tr th {\n",
       "        vertical-align: top;\n",
       "    }\n",
       "\n",
       "    .dataframe thead th {\n",
       "        text-align: right;\n",
       "    }\n",
       "</style>\n",
       "<table border=\"1\" class=\"dataframe\">\n",
       "  <thead>\n",
       "    <tr style=\"text-align: right;\">\n",
       "      <th></th>\n",
       "      <th>Predicted failure</th>\n",
       "      <th>Predicted success</th>\n",
       "    </tr>\n",
       "  </thead>\n",
       "  <tbody>\n",
       "    <tr>\n",
       "      <th>True failure</th>\n",
       "      <td>11434</td>\n",
       "      <td>5613</td>\n",
       "    </tr>\n",
       "    <tr>\n",
       "      <th>True success</th>\n",
       "      <td>4340</td>\n",
       "      <td>15813</td>\n",
       "    </tr>\n",
       "  </tbody>\n",
       "</table>\n",
       "</div>"
      ],
      "text/plain": [
       "              Predicted failure  Predicted success\n",
       "True failure              11434               5613\n",
       "True success               4340              15813"
      ]
     },
     "execution_count": 121,
     "metadata": {},
     "output_type": "execute_result"
    }
   ],
   "source": [
    "# Predict on test using 0.5 prob\n",
    "\n",
    "pred_test = ks_rf.predict(X_test)\n",
    "y_test_observed = y_test.reshape((y_test.shape[0],1))\n",
    "\n",
    "print('test accuracy: ',metrics.accuracy_score(y_test_observed,pred_test))\n",
    "\n",
    "pd.DataFrame(\n",
    "    confusion_matrix(y_test_observed, pred_test),\n",
    "    columns=['Predicted failure', 'Predicted success'],\n",
    "    index=['True failure', 'True success']\n",
    ")"
   ]
  },
  {
   "cell_type": "code",
   "execution_count": 102,
   "metadata": {},
   "outputs": [
    {
     "name": "stdout",
     "output_type": "stream",
     "text": [
      "Feature ranking:\n",
      "1. feature 5 (0.147724)\n",
      "2. feature 0 (0.117958)\n",
      "3. feature 45 (0.104082)\n",
      "4. feature 6 (0.100375)\n",
      "5. feature 1 (0.086288)\n",
      "6. feature 2 (0.083398)\n",
      "7. feature 44 (0.080838)\n",
      "8. feature 3 (0.067495)\n",
      "9. feature 4 (0.050615)\n",
      "10. feature 14 (0.014487)\n",
      "11. feature 20 (0.011607)\n",
      "12. feature 17 (0.010508)\n",
      "13. feature 43 (0.010195)\n",
      "14. feature 8 (0.008508)\n",
      "15. feature 13 (0.008022)\n",
      "16. feature 18 (0.007592)\n",
      "17. feature 16 (0.007564)\n",
      "18. feature 9 (0.007318)\n",
      "19. feature 31 (0.006944)\n",
      "20. feature 19 (0.006563)\n",
      "21. feature 7 (0.006540)\n",
      "22. feature 15 (0.005949)\n",
      "23. feature 12 (0.005143)\n",
      "24. feature 25 (0.004755)\n",
      "25. feature 21 (0.004360)\n",
      "26. feature 11 (0.004314)\n",
      "27. feature 10 (0.004287)\n",
      "28. feature 23 (0.003116)\n",
      "29. feature 34 (0.002673)\n",
      "30. feature 37 (0.002662)\n",
      "31. feature 27 (0.002557)\n",
      "32. feature 30 (0.002316)\n",
      "33. feature 29 (0.001890)\n",
      "34. feature 38 (0.001707)\n",
      "35. feature 41 (0.001445)\n",
      "36. feature 32 (0.001226)\n",
      "37. feature 28 (0.001081)\n",
      "38. feature 40 (0.001011)\n",
      "39. feature 33 (0.000822)\n",
      "40. feature 26 (0.000768)\n",
      "41. feature 39 (0.000670)\n",
      "42. feature 24 (0.000658)\n",
      "43. feature 42 (0.000649)\n",
      "44. feature 22 (0.000645)\n",
      "45. feature 35 (0.000586)\n",
      "46. feature 36 (0.000087)\n"
     ]
    },
    {
     "data": {
      "text/plain": [
       "(-0.5, 10)"
      ]
     },
     "execution_count": 102,
     "metadata": {},
     "output_type": "execute_result"
    },
    {
     "data": {
      "image/png": "[encoded data removed]",
      "text/plain": [
       "<Figure size 864x576 with 1 Axes>"
      ]
     },
     "metadata": {
      "needs_background": "light"
     },
     "output_type": "display_data"
    }
   ],
   "source": [
    "importances = ks_rf.feature_importances_\n",
    "std = np.std([tree.feature_importances_ for tree in ks_rf.estimators_],\n",
    "             axis=0)\n",
    "indices = np.argsort(importances)[::-1]\n",
    "\n",
    "# Print the feature ranking\n",
    "print(\"Feature ranking:\")\n",
    "\n",
    "for f in range(X_train.shape[1]):\n",
    "    print(\"%d. feature %d (%f)\" % (f + 1, indices[f], importances[indices[f]]))\n",
    "\n",
    "# Plot the feature importances of the forest\n",
    "plt.figure(figsize = (12,8))\n",
    "plt.title(\"Feature importances\")\n",
    "plt.barh(range(X_train.shape[1]), importances[indices],\n",
    "       color=\"r\", xerr=std[indices], align=\"center\")\n",
    "# If you want to define your own labels,\n",
    "# change indices to a list of labels on the following line.\n",
    "plt.yticks(range(X_train.shape[1]), [X_cols[i] for i in indices])\n",
    "plt.ylim([-0.5, 10])"
   ]
  },
  {
   "cell_type": "code",
   "execution_count": 122,
   "metadata": {},
   "outputs": [
    {
     "data": {
      "image/png": "[encoded data removed]",
      "text/plain": [
       "<Figure size 864x576 with 1 Axes>"
      ]
     },
     "metadata": {
      "needs_background": "light"
     },
     "output_type": "display_data"
    }
   ],
   "source": [
    "# ROC chars\n",
    "probs = ks_rf.predict_proba(X_test)\n",
    "pred = probs[:,1]\n",
    "fpr, tpr, threshold = metrics.roc_curve(y_test_observed, pred_test)\n",
    "roc_auc = metrics.auc(fpr, tpr)\n",
    "plt.figure(figsize = (12,8))\n",
    "plt.title('Receiver Operating Characteristic');\n",
    "plt.plot(fpr, tpr, 'b', color = 'green',label = 'AUC = %0.2f' % roc_auc);\n",
    "plt.legend(loc = 'lower right')\n",
    "plt.plot([0, 1], [0, 1],'r--')\n",
    "plt.xlim([0, 1])\n",
    "plt.ylim([0, 1])\n",
    "plt.ylabel('True Positive Rate')\n",
    "plt.xlabel('False Positive Rate')\n",
    "plt.show()"
   ]
  },
  {
   "cell_type": "markdown",
   "metadata": {},
   "source": [
    "## Data split for pre-launch with text"
   ]
  },
  {
   "cell_type": "code",
   "execution_count": null,
   "metadata": {},
   "outputs": [],
   "source": [
    "# Splitting the dataset into the Training set and Test set\n",
    "# Training trees with text data and without backers\n",
    "\n",
    "from sklearn.model_selection import train_test_split\n",
    "X_trainVal, X_test, y_trainVal, y_test = train_test_split(X[:,1:], y, test_size = 0.20, random_state = 8908)\n",
    "\n",
    "#Create validation set\n",
    "\n",
    "X_train, X_val, y_train, y_val = train_test_split(X_trainVal, y_trainVal, test_size = 0.10, random_state = 8908)"
   ]
  },
  {
   "cell_type": "markdown",
   "metadata": {},
   "source": [
    "## Data split for post launch"
   ]
  },
  {
   "cell_type": "code",
   "execution_count": null,
   "metadata": {},
   "outputs": [],
   "source": [
    "# Splitting the dataset into the Training set and Test set\n",
    "# Training trees with text data and with backers\n",
    "\n",
    "from sklearn.model_selection import train_test_split\n",
    "X_trainVal, X_test, y_trainVal, y_test = train_test_split(X, y, test_size = 0.20, random_state = 8908)\n",
    "\n",
    "#Create validation set\n",
    "\n",
    "X_train, X_val, y_train, y_val = train_test_split(X_trainVal, y_trainVal, test_size = 0.10, random_state = 8908)"
   ]
  },
  {
   "cell_type": "markdown",
   "metadata": {},
   "source": [
    "Run the data split codes and re run models for results."
   ]
  },
  {
   "cell_type": "markdown",
   "metadata": {},
   "source": [
    "# Neural Network"
   ]
  },
  {
   "cell_type": "markdown",
   "metadata": {},
   "source": [
    "### Neural Networks - 68.3% accuracy on test data"
   ]
  },
  {
   "cell_type": "code",
   "execution_count": 45,
   "metadata": {},
   "outputs": [
    {
     "name": "stdout",
     "output_type": "stream",
     "text": [
      "_____________ RESULTS WITH LEARNING RATE = 0.001 _________________\n",
      "Train on 104157 samples, validate on 44639 samples\n",
      "Epoch 1/30\n",
      "104157/104157 [==============================] - 30s 291us/step - loss: 0.7082 - accuracy: 0.5999 - sensitivity_at_specificity_1: 0.5863 - val_loss: 0.6518 - val_accuracy: 0.6128 - val_sensitivity_at_specificity_1: 0.6086\n",
      "Epoch 2/30\n",
      "104157/104157 [==============================] - 30s 288us/step - loss: 0.6580 - accuracy: 0.6064 - sensitivity_at_specificity_1: 0.6104 - val_loss: 0.6709 - val_accuracy: 0.6043 - val_sensitivity_at_specificity_1: 0.6110\n",
      "Epoch 3/30\n",
      "104157/104157 [==============================] - 31s 297us/step - loss: 0.6462 - accuracy: 0.6271 - sensitivity_at_specificity_1: 0.6134 - val_loss: 0.6514 - val_accuracy: 0.6096 - val_sensitivity_at_specificity_1: 0.6164\n",
      "Epoch 4/30\n",
      "104157/104157 [==============================] - 31s 300us/step - loss: 0.6448 - accuracy: 0.6294 - sensitivity_at_specificity_1: 0.6273 - val_loss: 0.6554 - val_accuracy: 0.6121 - val_sensitivity_at_specificity_1: 0.6320\n",
      "Epoch 5/30\n",
      "104157/104157 [==============================] - 29s 282us/step - loss: 0.6357 - accuracy: 0.6434 - sensitivity_at_specificity_1: 0.6343 - val_loss: 0.6363 - val_accuracy: 0.6482 - val_sensitivity_at_specificity_1: 0.6367\n",
      "Epoch 6/30\n",
      "104157/104157 [==============================] - 32s 305us/step - loss: 0.6224 - accuracy: 0.6621 - sensitivity_at_specificity_1: 0.6446 - val_loss: 0.6144 - val_accuracy: 0.6700 - val_sensitivity_at_specificity_1: 0.6532\n",
      "Epoch 7/30\n",
      "104157/104157 [==============================] - 31s 296us/step - loss: 0.6210 - accuracy: 0.6649 - sensitivity_at_specificity_1: 0.6555 - val_loss: 0.6136 - val_accuracy: 0.6719 - val_sensitivity_at_specificity_1: 0.6660\n",
      "Epoch 8/30\n",
      "104157/104157 [==============================] - 35s 336us/step - loss: 0.6168 - accuracy: 0.6668 - sensitivity_at_specificity_1: 0.6695 - val_loss: 0.6088 - val_accuracy: 0.6741 - val_sensitivity_at_specificity_1: 0.6709_at_specific\n",
      "Epoch 9/30\n",
      "104157/104157 [==============================] - 31s 295us/step - loss: 0.6121 - accuracy: 0.6717 - sensitivity_at_specificity_1: 0.6756 - val_loss: 0.6207 - val_accuracy: 0.6676 - val_sensitivity_at_specificity_1: 0.6822\n",
      "Epoch 10/30\n",
      "104157/104157 [==============================] - 30s 291us/step - loss: 0.6112 - accuracy: 0.6705 - sensitivity_at_specificity_1: 0.6831 - val_loss: 0.6147 - val_accuracy: 0.6639 - val_sensitivity_at_specificity_1: 0.6840\n",
      "Epoch 11/30\n",
      "104157/104157 [==============================] - 30s 291us/step - loss: 0.6125 - accuracy: 0.6718 - sensitivity_at_specificity_1: 0.6846 - val_loss: 0.6046 - val_accuracy: 0.6736 - val_sensitivity_at_specificity_1: 0.6892\n",
      "Epoch 12/30\n",
      "104157/104157 [==============================] - 31s 300us/step - loss: 0.6063 - accuracy: 0.6727 - sensitivity_at_specificity_1: 0.6951 - val_loss: 0.6000 - val_accuracy: 0.6788 - val_sensitivity_at_specificity_1: 0.6961\n",
      "Epoch 13/30\n",
      "104157/104157 [==============================] - 32s 311us/step - loss: 0.6063 - accuracy: 0.6738 - sensitivity_at_specificity_1: 0.6969 - val_loss: 0.6063 - val_accuracy: 0.6736 - val_sensitivity_at_specificity_1: 0.6973\n",
      "Epoch 14/30\n",
      "104157/104157 [==============================] - 33s 314us/step - loss: 0.6011 - accuracy: 0.6778 - sensitivity_at_specificity_1: 0.6977 - val_loss: 0.5961 - val_accuracy: 0.6800 - val_sensitivity_at_specificity_1: 0.6984\n",
      "Epoch 15/30\n",
      "104157/104157 [==============================] - 32s 307us/step - loss: 0.6007 - accuracy: 0.6790 - sensitivity_at_specificity_1: 0.7055 - val_loss: 0.6242 - val_accuracy: 0.6581 - val_sensitivity_at_specificity_1: 0.7075\n",
      "Epoch 16/30\n",
      "104157/104157 [==============================] - 31s 300us/step - loss: 0.5984 - accuracy: 0.6796 - sensitivity_at_specificity_1: 0.7079 - val_loss: 0.5989 - val_accuracy: 0.6791 - val_sensitivity_at_specificity_1: 0.7087\n",
      "Epoch 17/30\n",
      "104157/104157 [==============================] - 33s 314us/step - loss: 0.6027 - accuracy: 0.6794 - sensitivity_at_specificity_1: 0.7092 - val_loss: 0.5958 - val_accuracy: 0.6797 - val_sensitivity_at_specificity_1: 0.7097\n",
      "Epoch 18/30\n",
      "104157/104157 [==============================] - 33s 315us/step - loss: 0.5991 - accuracy: 0.6781 - sensitivity_at_specificity_1: 0.7101 - val_loss: 0.5884 - val_accuracy: 0.6831 - val_sensitivity_at_specificity_1: 0.7105\n",
      "Epoch 19/30\n",
      "104157/104157 [==============================] - 33s 319us/step - loss: 0.5964 - accuracy: 0.6817 - sensitivity_at_specificity_1: 0.7110 - val_loss: 0.5957 - val_accuracy: 0.6801 - val_sensitivity_at_specificity_1: 0.7125\n",
      "Epoch 20/30\n",
      "104157/104157 [==============================] - 32s 308us/step - loss: 0.5967 - accuracy: 0.6810 - sensitivity_at_specificity_1: 0.7192 - val_loss: 0.5914 - val_accuracy: 0.6839 - val_sensitivity_at_specificity_1: 0.7195\n",
      "Epoch 21/30\n",
      "104157/104157 [==============================] - 31s 293us/step - loss: 0.5965 - accuracy: 0.6822 - sensitivity_at_specificity_1: 0.7197 - val_loss: 0.5996 - val_accuracy: 0.6800 - val_sensitivity_at_specificity_1: 0.7197\n",
      "Epoch 22/30\n",
      "104157/104157 [==============================] - 30s 291us/step - loss: 0.5950 - accuracy: 0.6820 - sensitivity_at_specificity_1: 0.7198 - val_loss: 0.5950 - val_accuracy: 0.6813 - val_sensitivity_at_specificity_1: 0.7204\n",
      "Epoch 23/30\n",
      "104157/104157 [==============================] - 31s 293us/step - loss: 0.5949 - accuracy: 0.6825 - sensitivity_at_specificity_1: 0.7209 - val_loss: 0.6042 - val_accuracy: 0.6736 - val_sensitivity_at_specificity_1: 0.7211\n",
      "Epoch 24/30\n",
      "104157/104157 [==============================] - 30s 292us/step - loss: 0.5956 - accuracy: 0.6825 - sensitivity_at_specificity_1: 0.7211 - val_loss: 0.5859 - val_accuracy: 0.6836 - val_sensitivity_at_specificity_1: 0.7214\n",
      "Epoch 25/30\n",
      "104157/104157 [==============================] - 33s 319us/step - loss: 0.5945 - accuracy: 0.6832 - sensitivity_at_specificity_1: 0.7218 - val_loss: 0.5905 - val_accuracy: 0.6846 - val_sensitivity_at_specificity_1: 0.7220\n",
      "Epoch 26/30\n",
      "104157/104157 [==============================] - 29s 283us/step - loss: 0.5956 - accuracy: 0.6824 - sensitivity_at_specificity_1: 0.7237 - val_loss: 0.6331 - val_accuracy: 0.6703 - val_sensitivity_at_specificity_1: 0.7230\n",
      "Epoch 27/30\n",
      "104157/104157 [==============================] - 28s 273us/step - loss: 0.6255 - accuracy: 0.6548 - sensitivity_at_specificity_1: 0.7237 - val_loss: 0.6128 - val_accuracy: 0.6770 - val_sensitivity_at_specificity_1: 0.7239\n",
      "Epoch 28/30\n",
      "104157/104157 [==============================] - 29s 275us/step - loss: 0.6201 - accuracy: 0.6574 - sensitivity_at_specificity_1: 0.7241 - val_loss: 0.6142 - val_accuracy: 0.6642 - val_sensitivity_at_specificity_1: 0.7239\n",
      "Epoch 29/30\n",
      "104157/104157 [==============================] - 28s 267us/step - loss: 0.6080 - accuracy: 0.6715 - sensitivity_at_specificity_1: 0.7237 - val_loss: 0.5899 - val_accuracy: 0.6891 - val_sensitivity_at_specificity_1: 0.7240\n",
      "Epoch 30/30\n",
      "104157/104157 [==============================] - 30s 287us/step - loss: 0.5943 - accuracy: 0.6829 - sensitivity_at_specificity_1: 0.7245 - val_loss: 0.5942 - val_accuracy: 0.6868 - val_sensitivity_at_specificity_1: 0.7247\n"
     ]
    }
   ],
   "source": [
    "n_cols = X_train.shape[1]\n",
    "target = to_categorical(y_train['Success'])\n",
    "early_stopping_callback = EarlyStopping(patience = 20)\n",
    "\n",
    "def get_nn_model():\n",
    "    model = Sequential()\n",
    "    model.add(Dense(300, activation = 'relu', input_shape =(n_cols,)))\n",
    "    model.add(Dense(300, activation = 'relu'))\n",
    "    model.add(Dense(300, activation = 'relu'))\n",
    "    model.add(Dense(300, activation = 'relu'))\n",
    "    model.add(Dense(300, activation = 'relu'))\n",
    "    model.add(Dense(300, activation = 'relu'))\n",
    "    model.add(Dense(300, activation = 'relu'))\n",
    "    model.add(Dense(300, activation = 'relu'))\n",
    "    model.add(Dense(300, activation = 'relu'))\n",
    "    model.add(Dense(300, activation = 'relu'))\n",
    "    model.add(Dense(300, activation = 'relu'))\n",
    "    model.add(Dense(300, activation = 'relu'))\n",
    "    model.add(Dense(300, activation = 'relu'))\n",
    "    model.add(Dense(300, activation = 'relu'))\n",
    "    model.add(Dense(300, activation = 'relu'))\n",
    "    model.add(Dense(300, activation = 'relu'))\n",
    "    model.add(Dense(2, activation = 'softmax'))\n",
    "    return(model)\n",
    "\n",
    "#learning_rates =[0.000001, 0.0001, 0.001, 0.01, 0.1, 1]\n",
    "# learning_rates =[0.00001, 0.0001, 0.001]\n",
    "learning_rates =[0.001]\n",
    "# Loop over learning rates\n",
    "for lr in learning_rates:\n",
    "    model = get_nn_model()\n",
    "    print('_____________ RESULTS WITH LEARNING RATE =', lr,'_________________')\n",
    "    optimizer = Adam(learning_rate = lr)\n",
    "    model.compile(optimizer = optimizer, loss = 'categorical_crossentropy', metrics = ['accuracy', metrics.SensitivityAtSpecificity(0.6)])\n",
    "    model.fit(X_train, target, validation_split = 0.3, epochs = 30, callbacks = [early_stopping_callback])\n",
    "    "
   ]
  },
  {
   "cell_type": "code",
   "execution_count": 47,
   "metadata": {},
   "outputs": [
    {
     "name": "stdout",
     "output_type": "stream",
     "text": [
      "37200/37200 [==============================] - 2s 52us/step\n"
     ]
    },
    {
     "data": {
      "text/plain": [
       "[0.5944705772399902, 0.6834677457809448, 0.7247026562690735]"
      ]
     },
     "execution_count": 47,
     "metadata": {},
     "output_type": "execute_result"
    }
   ],
   "source": [
    "target_test = to_categorical(y_test['Success'])\n",
    "model.evaluate(X_test, target_test)\n"
   ]
  },
  {
   "cell_type": "code",
   "execution_count": 48,
   "metadata": {},
   "outputs": [],
   "source": [
    "model.save(\"17_Hidden_Non_Text.h5\")"
   ]
  },
  {
   "cell_type": "code",
   "execution_count": 69,
   "metadata": {},
   "outputs": [
    {
     "data": {
      "text/plain": [
       "array([[0.6353462 , 0.36465383],\n",
       "       [0.33877438, 0.6612256 ],\n",
       "       [0.28262198, 0.7173781 ],\n",
       "       ...,\n",
       "       [0.31918225, 0.6808178 ],\n",
       "       [0.31716135, 0.6828387 ],\n",
       "       [0.2830006 , 0.7169994 ]], dtype=float32)"
      ]
     },
     "execution_count": 69,
     "metadata": {},
     "output_type": "execute_result"
    }
   ],
   "source": [
    "model.predict(X_test)"
   ]
  },
  {
   "cell_type": "code",
   "execution_count": 67,
   "metadata": {
    "scrolled": true
   },
   "outputs": [],
   "source": [
    "\n",
    "y_pred_keras = model.predict(X_test)[:,1]\n",
    "fpr_keras, tpr_keras, thresholds_keras = sk_metrics.roc_curve(y_test['Success'], y_pred_keras)\n",
    "auc_keras = sk_metrics.auc(fpr_keras, tpr_keras)"
   ]
  },
  {
   "cell_type": "code",
   "execution_count": 68,
   "metadata": {},
   "outputs": [
    {
     "data": {
      "image/png": "[encoded data removed]",
      "text/plain": [
       "<Figure size 432x288 with 1 Axes>"
      ]
     },
     "metadata": {
      "needs_background": "light"
     },
     "output_type": "display_data"
    }
   ],
   "source": [
    "plt.figure(1)\n",
    "plt.plot([0, 1], [0, 1], 'k--')\n",
    "plt.plot(fpr_keras, tpr_keras, label='Keras (area = {:.3f})'.format(auc_keras))\n",
    "plt.xlabel('False positive rate')\n",
    "plt.ylabel('True positive rate')\n",
    "plt.title('ROC curve')\n",
    "plt.legend(loc='best')\n",
    "plt.show()"
   ]
  },
  {
   "cell_type": "code",
   "execution_count": 46,
   "metadata": {},
   "outputs": [],
   "source": [
    "plt.plot?"
   ]
  },
  {
   "cell_type": "code",
   "execution_count": null,
   "metadata": {},
   "outputs": [],
   "source": [
    "target_test = to_categorical(y_test['Success'])\n",
    "text_model = load_model('17_Hidden_Non_Text.h5', compile = False)\n",
    "text_model.compile(optimizer = optimizer, loss = 'categorical_crossentropy', metrics = ['accuracy', metrics.SensitivityAtSpecificity(0.6)])\n",
    "text_model.evaluate(X_test, target_test)"
   ]
  },
  {
   "cell_type": "markdown",
   "metadata": {},
   "source": [
    "### Neural Network including Bag-Of-Words features"
   ]
  },
  {
   "cell_type": "code",
   "execution_count": 71,
   "metadata": {},
   "outputs": [],
   "source": [
    "#Loading the Bag of Words features from disk\n",
    "X_text_features = np.load('Data/X_textfeatures.npy')\n",
    "X_master = np.concatenate((X, X_text_features), axis = 1)"
   ]
  },
  {
   "cell_type": "code",
   "execution_count": 72,
   "metadata": {},
   "outputs": [],
   "source": [
    "X_train, X_test,y_train, y_test = train_test_split(X_master, y, test_size = 0.2, random_state = 710, stratify = y)"
   ]
  },
  {
   "cell_type": "code",
   "execution_count": null,
   "metadata": {},
   "outputs": [],
   "source": [
    "n_cols = X_train.shape[1]\n",
    "target = to_categorical(y_train['Success'])\n",
    "early_stopping_callback = EarlyStopping(patience = 4)\n",
    "\n",
    "def get_nn_model():\n",
    "    model = Sequential()\n",
    "    model.add(Dense(2000, activation = 'relu', input_shape =(n_cols,)))\n",
    "    model.add(Dense(700, activation = 'relu'))\n",
    "    model.add(Dense(500, activation = 'relu'))\n",
    "    model.add(Dense(300, activation = 'relu'))\n",
    "    model.add(Dense(300, activation = 'relu'))\n",
    "    model.add(Dense(300, activation = 'relu'))\n",
    "    model.add(Dense(300, activation = 'relu'))\n",
    "    model.add(Dense(300, activation = 'relu'))\n",
    "    model.add(Dense(300, activation = 'relu'))\n",
    "    model.add(Dense(300, activation = 'relu'))\n",
    "    model.add(Dense(300, activation = 'relu'))\n",
    "    model.add(Dense(300, activation = 'relu'))\n",
    "    model.add(Dense(300, activation = 'relu'))\n",
    "    model.add(Dense(300, activation = 'relu'))\n",
    "    model.add(Dense(300, activation = 'relu'))\n",
    "    model.add(Dense(300, activation = 'relu'))\n",
    "    model.add(Dense(2, activation = 'softmax'))\n",
    "    return(model)\n",
    "\n",
    "#learning_rates =[0.000001, 0.0001, 0.001, 0.01, 0.1, 1]\n",
    "# learning_rates =[0.00001, 0.0001, 0.001]\n",
    "learning_rates =[0.001]\n",
    "# Loop over learning rates\n",
    "for lr in learning_rates:\n",
    "    model = get_nn_model()\n",
    "    print('_____________ RESULTS WITH LEARNING RATE =', lr,'_________________')\n",
    "    optimizer = Adam(learning_rate = lr)\n",
    "    model.compile(optimizer = optimizer, loss = 'categorical_crossentropy', metrics = ['accuracy', metrics.SensitivityAtSpecificity(0.6)])\n",
    "    model.fit(X_train, target, validation_split = 0.3, epochs = 30, callbacks = [early_stopping_callback])"
   ]
  },
  {
   "cell_type": "code",
   "execution_count": null,
   "metadata": {},
   "outputs": [],
   "source": [
    "model.save(\"17_Hidden_Text.h5\")"
   ]
  },
  {
   "cell_type": "code",
   "execution_count": 73,
   "metadata": {},
   "outputs": [
    {
     "name": "stdout",
     "output_type": "stream",
     "text": [
      "37200/37200 [==============================] - 6s 171us/step\n"
     ]
    },
    {
     "data": {
      "text/plain": [
       "[0.5945131343154497, 0.6893817186355591, 0.7702353596687317]"
      ]
     },
     "execution_count": 73,
     "metadata": {},
     "output_type": "execute_result"
    }
   ],
   "source": [
    "target_test = to_categorical(y_test['Success'])\n",
    "text_model = load_model('17_Hidden_Text.h5', compile = False)\n",
    "text_model.compile(optimizer = optimizer, loss = 'categorical_crossentropy', metrics = ['accuracy', metrics.SensitivityAtSpecificity(0.6)])\n",
    "text_model.evaluate(X_test, target_test)"
   ]
  },
  {
   "cell_type": "code",
   "execution_count": 75,
   "metadata": {},
   "outputs": [],
   "source": [
    "y_pred_keras = text_model.predict(X_test)[:,1]\n",
    "fpr_keras, tpr_keras, thresholds_keras = sk_metrics.roc_curve(y_test['Success'], y_pred_keras)\n",
    "auc_keras = sk_metrics.auc(fpr_keras, tpr_keras)"
   ]
  },
  {
   "cell_type": "code",
   "execution_count": 76,
   "metadata": {},
   "outputs": [
    {
     "data": {
      "image/png": "[encoded data removed]",
      "text/plain": [
       "<Figure size 432x288 with 1 Axes>"
      ]
     },
     "metadata": {
      "needs_background": "light"
     },
     "output_type": "display_data"
    }
   ],
   "source": [
    "plt.figure(1)\n",
    "plt.plot([0, 1], [0, 1], 'k--')\n",
    "plt.plot(fpr_keras, tpr_keras, label='Keras (area = {:.3f})'.format(auc_keras))\n",
    "plt.xlabel('False positive rate')\n",
    "plt.ylabel('True positive rate')\n",
    "plt.title('ROC curve')\n",
    "plt.legend(loc='best')\n",
    "plt.show()"
   ]
  },
  {
   "cell_type": "code",
   "execution_count": null,
   "metadata": {},
   "outputs": [],
   "source": [
    "early_stopping_callback = EarlyStopping(patience = 8)\n",
    "def get_nn_model():\n",
    "    model = Sequential()\n",
    "    model.add(Dense(2000, activation = 'relu', input_shape =(n_cols,)))\n",
    "    model.add(Dense(1000, activation = 'relu'))\n",
    "    model.add(Dense(700, activation = 'relu'))\n",
    "    model.add(Dense(700, activation = 'relu'))\n",
    "    model.add(Dense(600, activation = 'relu'))\n",
    "    model.add(Dense(500, activation = 'relu'))\n",
    "    model.add(Dense(400, activation = 'relu'))\n",
    "    model.add(Dense(300, activation = 'relu'))\n",
    "    model.add(Dense(300, activation = 'relu'))\n",
    "    model.add(Dense(300, activation = 'relu'))\n",
    "    model.add(Dense(300, activation = 'relu'))\n",
    "    model.add(Dense(300, activation = 'relu'))\n",
    "    model.add(Dense(300, activation = 'relu'))\n",
    "    model.add(Dense(300, activation = 'relu'))\n",
    "    model.add(Dense(300, activation = 'relu'))\n",
    "    model.add(Dense(300, activation = 'relu'))\n",
    "    model.add(Dense(300, activation = 'relu'))\n",
    "    model.add(Dense(300, activation = 'relu'))\n",
    "    model.add(Dense(300, activation = 'relu'))\n",
    "    model.add(Dense(300, activation = 'relu'))\n",
    "    model.add(Dense(300, activation = 'relu'))\n",
    "    model.add(Dense(300, activation = 'relu'))\n",
    "    model.add(Dense(300, activation = 'relu'))\n",
    "    model.add(Dense(300, activation = 'relu'))\n",
    "    model.add(Dense(2, activation = 'softmax'))\n",
    "    return(model)\n",
    "\n",
    "#learning_rates =[0.000001, 0.0001, 0.001, 0.01, 0.1, 1]\n",
    "#learning_rates =[0.0001, 0.001]\n",
    "learning_rates =[0.001]\n",
    "# Loop over learning rates\n",
    "for lr in learning_rates:\n",
    "    model = get_nn_model()\n",
    "    print('_____________ RESULTS WITH LEARNING RATE =', lr,'_________________')\n",
    "    optimizer = Adam(learning_rate = lr)\n",
    "    model.compile(optimizer = optimizer, loss = 'categorical_crossentropy', metrics = ['accuracy', metrics.SensitivityAtSpecificity(0.6)])\n",
    "    model.fit(X_train, target, validation_split = 0.3, epochs = 20, callbacks = [early_stopping_callback])"
   ]
  },
  {
   "cell_type": "code",
   "execution_count": null,
   "metadata": {},
   "outputs": [],
   "source": [
    "target_test = to_categorical(y_test['Success'])\n",
    "model.evaluate(X_test, target_test)\n",
    "model.save(\"24_hidden_text.h5\")"
   ]
  },
  {
   "cell_type": "code",
   "execution_count": null,
   "metadata": {},
   "outputs": [],
   "source": [
    "def get_nn_model():\n",
    "    model = Sequential()\n",
    "    model.add(Dense(2000, activation = 'relu', input_shape =(n_cols,)))\n",
    "    model.add(Dense(1000, activation = 'relu'))\n",
    "    model.add(Dense(700, activation = 'relu'))\n",
    "    model.add(Dense(700, activation = 'relu'))\n",
    "    model.add(Dense(600, activation = 'relu'))\n",
    "    model.add(Dense(500, activation = 'relu'))\n",
    "    model.add(Dense(400, activation = 'relu'))\n",
    "    model.add(Dense(300, activation = 'relu'))\n",
    "    model.add(Dense(300, activation = 'relu'))\n",
    "    model.add(Dense(300, activation = 'relu'))\n",
    "    model.add(Dense(300, activation = 'relu'))\n",
    "    model.add(Dense(300, activation = 'relu'))\n",
    "    model.add(Dense(300, activation = 'relu'))\n",
    "    model.add(Dense(300, activation = 'relu'))\n",
    "    model.add(Dense(300, activation = 'relu'))\n",
    "    model.add(Dense(300, activation = 'relu'))\n",
    "    model.add(Dense(300, activation = 'relu'))\n",
    "    model.add(Dense(300, activation = 'relu'))\n",
    "    model.add(Dense(300, activation = 'relu'))\n",
    "    model.add(Dense(300, activation = 'relu'))\n",
    "    model.add(Dense(300, activation = 'relu'))\n",
    "    model.add(Dense(300, activation = 'relu'))\n",
    "    model.add(Dense(300, activation = 'relu'))\n",
    "    model.add(Dense(300, activation = 'relu'))\n",
    "    model.add(Dense(300, activation = 'relu'))\n",
    "    model.add(Dense(300, activation = 'relu'))\n",
    "    model.add(Dense(300, activation = 'relu'))\n",
    "    model.add(Dense(300, activation = 'relu'))\n",
    "    model.add(Dense(300, activation = 'relu'))\n",
    "    model.add(Dense(300, activation = 'relu'))\n",
    "    model.add(Dense(2, activation = 'softmax'))\n",
    "    return(model)\n",
    "\n",
    "#learning_rates =[0.000001, 0.0001, 0.001, 0.01, 0.1, 1]\n",
    " #learning_rates =[0.0001, 0.001]\n",
    "learning_rates =[0.001]\n",
    "# Loop over learning rates\n",
    "for lr in learning_rates:\n",
    "    model = get_nn_model()\n",
    "    print('_____________ RESULTS WITH LEARNING RATE =', lr,'_________________')\n",
    "    optimizer = Adam(learning_rate = lr)\n",
    "    model.compile(optimizer = optimizer, loss = 'categorical_crossentropy', metrics = ['accuracy', metrics.SensitivityAtSpecificity(0.6)])\n",
    "    model.fit(X_train, target, validation_split = 0.3, epochs = 20, callbacks = [early_stopping_callback])"
   ]
  },
  {
   "cell_type": "code",
   "execution_count": null,
   "metadata": {},
   "outputs": [],
   "source": [
    "model.evaluate(X_test, target_test)\n",
    "model.save(\"30_hidden_text.h5\")"
   ]
  }
 ],
 "metadata": {
  "kernelspec": {
   "display_name": "Python 3",
   "language": "python",
   "name": "python3"
  },
  "language_info": {
   "codemirror_mode": {
    "name": "ipython",
    "version": 3
   },
   "file_extension": ".py",
   "mimetype": "text/x-python",
   "name": "python",
   "nbconvert_exporter": "python",
   "pygments_lexer": "ipython3",
   "version": "3.7.3"
  }
 },
 "nbformat": 4,
 "nbformat_minor": 4
}
